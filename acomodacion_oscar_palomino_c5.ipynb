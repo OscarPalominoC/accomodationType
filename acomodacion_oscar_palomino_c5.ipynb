{
  "nbformat": 4,
  "nbformat_minor": 0,
  "metadata": {
    "colab": {
      "name": "acomodacion_oscar_palomino_c5.ipynb",
      "provenance": [],
      "collapsed_sections": []
    },
    "kernelspec": {
      "name": "python3",
      "display_name": "Python 3"
    },
    "language_info": {
      "name": "python"
    }
  },
  "cells": [
    {
      "cell_type": "markdown",
      "metadata": {
        "id": "-xTr1gc7QkJb"
      },
      "source": [
        "# **Data engineering:** \n",
        "\n",
        "Procesar la fuente de datos de manera que pueda ser consumida por algoritmos en Python\n",
        "\n",
        "Justificar decisiones de procesamiento, manejo de campos vacíos, manejo de variables, manejo de la target variable."
      ]
    },
    {
      "cell_type": "code",
      "metadata": {
        "id": "hbG9dTwlOlUN"
      },
      "source": [
        "# Importando las librerías para el data engineering\n",
        "import pandas as pd\n",
        "import numpy as np\n",
        "import matplotlib.pyplot as plt\n",
        "\n",
        "%matplotlib inline"
      ],
      "execution_count": 74,
      "outputs": []
    },
    {
      "cell_type": "code",
      "metadata": {
        "colab": {
          "base_uri": "https://localhost:8080/"
        },
        "id": "xaPukj5tlAi5",
        "outputId": "e0f23563-442e-4ec7-ec61-53c6de87ad57"
      },
      "source": [
        "# Importando la carpeta en google drive\n",
        "from google.colab import drive\n",
        "drive.mount('/content/drive/')\n",
        "%cd '/content/drive/MyDrive/Colab Notebooks/Acomodación'\n",
        "%ls"
      ],
      "execution_count": 75,
      "outputs": [
        {
          "output_type": "stream",
          "text": [
            "Drive already mounted at /content/drive/; to attempt to forcibly remount, call drive.mount(\"/content/drive/\", force_remount=True).\n",
            "/content/drive/MyDrive/Colab Notebooks/Acomodación\n",
            "clean_data.csv       prediction_model.h5              train_data.txt\n",
            "DataAcomodacion.csv  prediction_Tipo_Acomodacion.csv\n"
          ],
          "name": "stdout"
        }
      ]
    },
    {
      "cell_type": "code",
      "metadata": {
        "colab": {
          "base_uri": "https://localhost:8080/"
        },
        "id": "klG0p7eslvbV",
        "outputId": "0803125b-5e0a-490e-ec81-f04504bf5224"
      },
      "source": [
        "# Guardamos el archivo de entrenamiento en una lista\n",
        "data_file = []\n",
        "file = open('train_data.txt', 'r')\n",
        "for line in file:\n",
        "    row = line.rstrip('\\\\n')\n",
        "    row = row.replace('\\n', '')\n",
        "    row = row.replace('[REG] ', '')\n",
        "    data_file.append(row)\n",
        "file.close()\n",
        "print(data_file[:20])"
      ],
      "execution_count": 76,
      "outputs": [
        {
          "output_type": "stream",
          "text": [
            "['\"Registro 1\"', '1010286', '7', 'F', '40', '0', 'COL', 'AirBnB', '\"Registro 2\"', '1000152', '5', 'M', '<NA>', '0', '<NA>', 'AirBnB', '\"Registro 3\"', '1009019', '4', 'F']\n"
          ],
          "name": "stdout"
        }
      ]
    },
    {
      "cell_type": "markdown",
      "metadata": {
        "id": "vGIFzo1B3IKx"
      },
      "source": [
        "De los primeros 20 datos podemos ver que cada conjunto de datos está compuesto de 8 columnas, así que, el siguiente paso es generar un código para obtener estas 8 columnas."
      ]
    },
    {
      "cell_type": "code",
      "metadata": {
        "id": "XMilS5yT2rpR"
      },
      "source": [
        "data_set = []\n",
        "\n",
        "for i in range(0, 8):\n",
        "    data_set.append(data_file[i::8])"
      ],
      "execution_count": 77,
      "outputs": []
    },
    {
      "cell_type": "code",
      "metadata": {
        "colab": {
          "base_uri": "https://localhost:8080/",
          "height": 206
        },
        "id": "9OkB1EYlBI_6",
        "outputId": "d432d68f-45c1-4755-b451-96625b2248a6"
      },
      "source": [
        "df = pd.DataFrame(data_set)\n",
        "df = df.T\n",
        "df.head()"
      ],
      "execution_count": 78,
      "outputs": [
        {
          "output_type": "execute_result",
          "data": {
            "text/html": [
              "<div>\n",
              "<style scoped>\n",
              "    .dataframe tbody tr th:only-of-type {\n",
              "        vertical-align: middle;\n",
              "    }\n",
              "\n",
              "    .dataframe tbody tr th {\n",
              "        vertical-align: top;\n",
              "    }\n",
              "\n",
              "    .dataframe thead th {\n",
              "        text-align: right;\n",
              "    }\n",
              "</style>\n",
              "<table border=\"1\" class=\"dataframe\">\n",
              "  <thead>\n",
              "    <tr style=\"text-align: right;\">\n",
              "      <th></th>\n",
              "      <th>0</th>\n",
              "      <th>1</th>\n",
              "      <th>2</th>\n",
              "      <th>3</th>\n",
              "      <th>4</th>\n",
              "      <th>5</th>\n",
              "      <th>6</th>\n",
              "      <th>7</th>\n",
              "    </tr>\n",
              "  </thead>\n",
              "  <tbody>\n",
              "    <tr>\n",
              "      <th>0</th>\n",
              "      <td>\"Registro 1\"</td>\n",
              "      <td>1010286</td>\n",
              "      <td>7</td>\n",
              "      <td>F</td>\n",
              "      <td>40</td>\n",
              "      <td>0</td>\n",
              "      <td>COL</td>\n",
              "      <td>AirBnB</td>\n",
              "    </tr>\n",
              "    <tr>\n",
              "      <th>1</th>\n",
              "      <td>\"Registro 2\"</td>\n",
              "      <td>1000152</td>\n",
              "      <td>5</td>\n",
              "      <td>M</td>\n",
              "      <td>&lt;NA&gt;</td>\n",
              "      <td>0</td>\n",
              "      <td>&lt;NA&gt;</td>\n",
              "      <td>AirBnB</td>\n",
              "    </tr>\n",
              "    <tr>\n",
              "      <th>2</th>\n",
              "      <td>\"Registro 3\"</td>\n",
              "      <td>1009019</td>\n",
              "      <td>4</td>\n",
              "      <td>F</td>\n",
              "      <td>39</td>\n",
              "      <td>1</td>\n",
              "      <td>ES</td>\n",
              "      <td>Hotel</td>\n",
              "    </tr>\n",
              "    <tr>\n",
              "      <th>3</th>\n",
              "      <td>\"Registro 4\"</td>\n",
              "      <td>1007840</td>\n",
              "      <td>5</td>\n",
              "      <td>F</td>\n",
              "      <td>45</td>\n",
              "      <td>0</td>\n",
              "      <td>NL</td>\n",
              "      <td>Hotel</td>\n",
              "    </tr>\n",
              "    <tr>\n",
              "      <th>4</th>\n",
              "      <td>\"Registro 5\"</td>\n",
              "      <td>1006939</td>\n",
              "      <td>5</td>\n",
              "      <td>M</td>\n",
              "      <td>45</td>\n",
              "      <td>1</td>\n",
              "      <td>UK</td>\n",
              "      <td>Hotel</td>\n",
              "    </tr>\n",
              "  </tbody>\n",
              "</table>\n",
              "</div>"
            ],
            "text/plain": [
              "              0        1  2  3     4  5     6       7\n",
              "0  \"Registro 1\"  1010286  7  F    40  0   COL  AirBnB\n",
              "1  \"Registro 2\"  1000152  5  M  <NA>  0  <NA>  AirBnB\n",
              "2  \"Registro 3\"  1009019  4  F    39  1    ES   Hotel\n",
              "3  \"Registro 4\"  1007840  5  F    45  0    NL   Hotel\n",
              "4  \"Registro 5\"  1006939  5  M    45  1    UK   Hotel"
            ]
          },
          "metadata": {
            "tags": []
          },
          "execution_count": 78
        }
      ]
    },
    {
      "cell_type": "markdown",
      "metadata": {
        "id": "HI9ROseOCJVR"
      },
      "source": [
        "Renombramos las columnas de la siguiente manera.\n",
        "* Id\n",
        "* Unknown (pensaba que eran códigos postales, pero al buscarlos en google no me brindaban un código postal válido, demás que el código postal tiene un máximo de 6 dígitos, estos valores tienen 7).\n",
        "* days_of_stay\n",
        "* genre\n",
        "* age\n",
        "* kids\n",
        "* destination\n",
        "* accommodation_type\n"
      ]
    },
    {
      "cell_type": "code",
      "metadata": {
        "colab": {
          "base_uri": "https://localhost:8080/",
          "height": 363
        },
        "id": "qmcoMwM7B0a4",
        "outputId": "a302c7ae-89c5-4118-adfd-07e409a0f843"
      },
      "source": [
        "rename_columns = ['id','unknown','days_of_stay','genre','age','kids','destination','accommodation_type']\n",
        "\n",
        "df.columns = rename_columns\n",
        "df.head(10)"
      ],
      "execution_count": 79,
      "outputs": [
        {
          "output_type": "execute_result",
          "data": {
            "text/html": [
              "<div>\n",
              "<style scoped>\n",
              "    .dataframe tbody tr th:only-of-type {\n",
              "        vertical-align: middle;\n",
              "    }\n",
              "\n",
              "    .dataframe tbody tr th {\n",
              "        vertical-align: top;\n",
              "    }\n",
              "\n",
              "    .dataframe thead th {\n",
              "        text-align: right;\n",
              "    }\n",
              "</style>\n",
              "<table border=\"1\" class=\"dataframe\">\n",
              "  <thead>\n",
              "    <tr style=\"text-align: right;\">\n",
              "      <th></th>\n",
              "      <th>id</th>\n",
              "      <th>unknown</th>\n",
              "      <th>days_of_stay</th>\n",
              "      <th>genre</th>\n",
              "      <th>age</th>\n",
              "      <th>kids</th>\n",
              "      <th>destination</th>\n",
              "      <th>accommodation_type</th>\n",
              "    </tr>\n",
              "  </thead>\n",
              "  <tbody>\n",
              "    <tr>\n",
              "      <th>0</th>\n",
              "      <td>\"Registro 1\"</td>\n",
              "      <td>1010286</td>\n",
              "      <td>7</td>\n",
              "      <td>F</td>\n",
              "      <td>40</td>\n",
              "      <td>0</td>\n",
              "      <td>COL</td>\n",
              "      <td>AirBnB</td>\n",
              "    </tr>\n",
              "    <tr>\n",
              "      <th>1</th>\n",
              "      <td>\"Registro 2\"</td>\n",
              "      <td>1000152</td>\n",
              "      <td>5</td>\n",
              "      <td>M</td>\n",
              "      <td>&lt;NA&gt;</td>\n",
              "      <td>0</td>\n",
              "      <td>&lt;NA&gt;</td>\n",
              "      <td>AirBnB</td>\n",
              "    </tr>\n",
              "    <tr>\n",
              "      <th>2</th>\n",
              "      <td>\"Registro 3\"</td>\n",
              "      <td>1009019</td>\n",
              "      <td>4</td>\n",
              "      <td>F</td>\n",
              "      <td>39</td>\n",
              "      <td>1</td>\n",
              "      <td>ES</td>\n",
              "      <td>Hotel</td>\n",
              "    </tr>\n",
              "    <tr>\n",
              "      <th>3</th>\n",
              "      <td>\"Registro 4\"</td>\n",
              "      <td>1007840</td>\n",
              "      <td>5</td>\n",
              "      <td>F</td>\n",
              "      <td>45</td>\n",
              "      <td>0</td>\n",
              "      <td>NL</td>\n",
              "      <td>Hotel</td>\n",
              "    </tr>\n",
              "    <tr>\n",
              "      <th>4</th>\n",
              "      <td>\"Registro 5\"</td>\n",
              "      <td>1006939</td>\n",
              "      <td>5</td>\n",
              "      <td>M</td>\n",
              "      <td>45</td>\n",
              "      <td>1</td>\n",
              "      <td>UK</td>\n",
              "      <td>Hotel</td>\n",
              "    </tr>\n",
              "    <tr>\n",
              "      <th>5</th>\n",
              "      <td>\"Registro 6\"</td>\n",
              "      <td>1008812</td>\n",
              "      <td>7</td>\n",
              "      <td>F</td>\n",
              "      <td>47</td>\n",
              "      <td>1</td>\n",
              "      <td>IT</td>\n",
              "      <td>AirBnB</td>\n",
              "    </tr>\n",
              "    <tr>\n",
              "      <th>6</th>\n",
              "      <td>\"Registro 7\"</td>\n",
              "      <td>1013918</td>\n",
              "      <td>3</td>\n",
              "      <td>F</td>\n",
              "      <td>53</td>\n",
              "      <td>0</td>\n",
              "      <td>NL</td>\n",
              "      <td>Hotel</td>\n",
              "    </tr>\n",
              "    <tr>\n",
              "      <th>7</th>\n",
              "      <td>\"Registro 8\"</td>\n",
              "      <td>1005722</td>\n",
              "      <td>2</td>\n",
              "      <td>F</td>\n",
              "      <td>47</td>\n",
              "      <td>0</td>\n",
              "      <td>AR</td>\n",
              "      <td>Hotel</td>\n",
              "    </tr>\n",
              "    <tr>\n",
              "      <th>8</th>\n",
              "      <td>\"Registro 9\"</td>\n",
              "      <td>1003006</td>\n",
              "      <td>3</td>\n",
              "      <td>M</td>\n",
              "      <td>39</td>\n",
              "      <td>1</td>\n",
              "      <td>COL</td>\n",
              "      <td>AirBnB</td>\n",
              "    </tr>\n",
              "    <tr>\n",
              "      <th>9</th>\n",
              "      <td>\"Registro 10\"</td>\n",
              "      <td>1006149</td>\n",
              "      <td>5</td>\n",
              "      <td>F</td>\n",
              "      <td>31</td>\n",
              "      <td>&lt;NA&gt;</td>\n",
              "      <td>AR</td>\n",
              "      <td>AirBnB</td>\n",
              "    </tr>\n",
              "  </tbody>\n",
              "</table>\n",
              "</div>"
            ],
            "text/plain": [
              "              id  unknown days_of_stay  ...  kids destination accommodation_type\n",
              "0   \"Registro 1\"  1010286            7  ...     0         COL             AirBnB\n",
              "1   \"Registro 2\"  1000152            5  ...     0        <NA>             AirBnB\n",
              "2   \"Registro 3\"  1009019            4  ...     1          ES              Hotel\n",
              "3   \"Registro 4\"  1007840            5  ...     0          NL              Hotel\n",
              "4   \"Registro 5\"  1006939            5  ...     1          UK              Hotel\n",
              "5   \"Registro 6\"  1008812            7  ...     1          IT             AirBnB\n",
              "6   \"Registro 7\"  1013918            3  ...     0          NL              Hotel\n",
              "7   \"Registro 8\"  1005722            2  ...     0          AR              Hotel\n",
              "8   \"Registro 9\"  1003006            3  ...     1         COL             AirBnB\n",
              "9  \"Registro 10\"  1006149            5  ...  <NA>          AR             AirBnB\n",
              "\n",
              "[10 rows x 8 columns]"
            ]
          },
          "metadata": {
            "tags": []
          },
          "execution_count": 79
        }
      ]
    },
    {
      "cell_type": "markdown",
      "metadata": {
        "id": "nMRIbn7BIMSd"
      },
      "source": [
        "El siguiente paso será ver una descripción muy general de los datos usando la función `describe`, con esto sabremos la cantidad de datos que tenemos realmente, cuantos de estos datos son únicos, es decir que no se repiten, si no son necesarios, estos datos se eliminarán."
      ]
    },
    {
      "cell_type": "code",
      "metadata": {
        "colab": {
          "base_uri": "https://localhost:8080/",
          "height": 175
        },
        "id": "G7sGw1jpILUj",
        "outputId": "db4b499f-d2d5-449a-ebde-b2342069292e"
      },
      "source": [
        "df.describe()"
      ],
      "execution_count": 80,
      "outputs": [
        {
          "output_type": "execute_result",
          "data": {
            "text/html": [
              "<div>\n",
              "<style scoped>\n",
              "    .dataframe tbody tr th:only-of-type {\n",
              "        vertical-align: middle;\n",
              "    }\n",
              "\n",
              "    .dataframe tbody tr th {\n",
              "        vertical-align: top;\n",
              "    }\n",
              "\n",
              "    .dataframe thead th {\n",
              "        text-align: right;\n",
              "    }\n",
              "</style>\n",
              "<table border=\"1\" class=\"dataframe\">\n",
              "  <thead>\n",
              "    <tr style=\"text-align: right;\">\n",
              "      <th></th>\n",
              "      <th>id</th>\n",
              "      <th>unknown</th>\n",
              "      <th>days_of_stay</th>\n",
              "      <th>genre</th>\n",
              "      <th>age</th>\n",
              "      <th>kids</th>\n",
              "      <th>destination</th>\n",
              "      <th>accommodation_type</th>\n",
              "    </tr>\n",
              "  </thead>\n",
              "  <tbody>\n",
              "    <tr>\n",
              "      <th>count</th>\n",
              "      <td>9869</td>\n",
              "      <td>9868</td>\n",
              "      <td>9868</td>\n",
              "      <td>9868</td>\n",
              "      <td>9868</td>\n",
              "      <td>9868</td>\n",
              "      <td>9868</td>\n",
              "      <td>9868</td>\n",
              "    </tr>\n",
              "    <tr>\n",
              "      <th>unique</th>\n",
              "      <td>9869</td>\n",
              "      <td>9868</td>\n",
              "      <td>13</td>\n",
              "      <td>2</td>\n",
              "      <td>38</td>\n",
              "      <td>3</td>\n",
              "      <td>9</td>\n",
              "      <td>2</td>\n",
              "    </tr>\n",
              "    <tr>\n",
              "      <th>top</th>\n",
              "      <td>\"Registro 9079\"</td>\n",
              "      <td>1009089</td>\n",
              "      <td>4</td>\n",
              "      <td>F</td>\n",
              "      <td>&lt;NA&gt;</td>\n",
              "      <td>1</td>\n",
              "      <td>US</td>\n",
              "      <td>Hotel</td>\n",
              "    </tr>\n",
              "    <tr>\n",
              "      <th>freq</th>\n",
              "      <td>1</td>\n",
              "      <td>1</td>\n",
              "      <td>2257</td>\n",
              "      <td>4981</td>\n",
              "      <td>994</td>\n",
              "      <td>4488</td>\n",
              "      <td>1161</td>\n",
              "      <td>5592</td>\n",
              "    </tr>\n",
              "  </tbody>\n",
              "</table>\n",
              "</div>"
            ],
            "text/plain": [
              "                     id  unknown  ... destination accommodation_type\n",
              "count              9869     9868  ...        9868               9868\n",
              "unique             9869     9868  ...           9                  2\n",
              "top     \"Registro 9079\"  1009089  ...          US              Hotel\n",
              "freq                  1        1  ...        1161               5592\n",
              "\n",
              "[4 rows x 8 columns]"
            ]
          },
          "metadata": {
            "tags": []
          },
          "execution_count": 80
        }
      ]
    },
    {
      "cell_type": "markdown",
      "metadata": {
        "id": "6CHHCxkqKU2K"
      },
      "source": [
        "Haciendo uso de esta función podemos ver que el id y la columna cuya función no conocíamos son las que prácticamente tienen todos sus valores únicos, quizás la variable desconocida contiene los ids del dataset en el que se basó para hacer el dataset de entrenamiento. Por lo tanto, eliminaremos estas 2 columnas. \n",
        "\n",
        "Los valores mostrados como `<NA>`, se convertirán en nulos.\n",
        "\n",
        "La variable genre se convertirá en booleana, 0 si es masculino, 1 si es femenino.\n",
        "\n",
        "En lo que respecta a la columna destination, se cambiarán los valores de los países por variables numéricas, descritas más adelante.\n",
        "\n",
        "La variable accommodation type, se convertirá en una variable booleana, 0 si el tipo de acomodación es hotel, 1 si es vía AirBnB."
      ]
    },
    {
      "cell_type": "code",
      "metadata": {
        "colab": {
          "base_uri": "https://localhost:8080/",
          "height": 206
        },
        "id": "qLFHxNF4Ly4y",
        "outputId": "5d84f8a2-0bd4-4225-a37a-1c5da714f5f4"
      },
      "source": [
        "df.drop(df[['id', 'unknown']], axis=1, inplace = True)\n",
        "df.head()"
      ],
      "execution_count": 81,
      "outputs": [
        {
          "output_type": "execute_result",
          "data": {
            "text/html": [
              "<div>\n",
              "<style scoped>\n",
              "    .dataframe tbody tr th:only-of-type {\n",
              "        vertical-align: middle;\n",
              "    }\n",
              "\n",
              "    .dataframe tbody tr th {\n",
              "        vertical-align: top;\n",
              "    }\n",
              "\n",
              "    .dataframe thead th {\n",
              "        text-align: right;\n",
              "    }\n",
              "</style>\n",
              "<table border=\"1\" class=\"dataframe\">\n",
              "  <thead>\n",
              "    <tr style=\"text-align: right;\">\n",
              "      <th></th>\n",
              "      <th>days_of_stay</th>\n",
              "      <th>genre</th>\n",
              "      <th>age</th>\n",
              "      <th>kids</th>\n",
              "      <th>destination</th>\n",
              "      <th>accommodation_type</th>\n",
              "    </tr>\n",
              "  </thead>\n",
              "  <tbody>\n",
              "    <tr>\n",
              "      <th>0</th>\n",
              "      <td>7</td>\n",
              "      <td>F</td>\n",
              "      <td>40</td>\n",
              "      <td>0</td>\n",
              "      <td>COL</td>\n",
              "      <td>AirBnB</td>\n",
              "    </tr>\n",
              "    <tr>\n",
              "      <th>1</th>\n",
              "      <td>5</td>\n",
              "      <td>M</td>\n",
              "      <td>&lt;NA&gt;</td>\n",
              "      <td>0</td>\n",
              "      <td>&lt;NA&gt;</td>\n",
              "      <td>AirBnB</td>\n",
              "    </tr>\n",
              "    <tr>\n",
              "      <th>2</th>\n",
              "      <td>4</td>\n",
              "      <td>F</td>\n",
              "      <td>39</td>\n",
              "      <td>1</td>\n",
              "      <td>ES</td>\n",
              "      <td>Hotel</td>\n",
              "    </tr>\n",
              "    <tr>\n",
              "      <th>3</th>\n",
              "      <td>5</td>\n",
              "      <td>F</td>\n",
              "      <td>45</td>\n",
              "      <td>0</td>\n",
              "      <td>NL</td>\n",
              "      <td>Hotel</td>\n",
              "    </tr>\n",
              "    <tr>\n",
              "      <th>4</th>\n",
              "      <td>5</td>\n",
              "      <td>M</td>\n",
              "      <td>45</td>\n",
              "      <td>1</td>\n",
              "      <td>UK</td>\n",
              "      <td>Hotel</td>\n",
              "    </tr>\n",
              "  </tbody>\n",
              "</table>\n",
              "</div>"
            ],
            "text/plain": [
              "  days_of_stay genre   age kids destination accommodation_type\n",
              "0            7     F    40    0         COL             AirBnB\n",
              "1            5     M  <NA>    0        <NA>             AirBnB\n",
              "2            4     F    39    1          ES              Hotel\n",
              "3            5     F    45    0          NL              Hotel\n",
              "4            5     M    45    1          UK              Hotel"
            ]
          },
          "metadata": {
            "tags": []
          },
          "execution_count": 81
        }
      ]
    },
    {
      "cell_type": "code",
      "metadata": {
        "colab": {
          "base_uri": "https://localhost:8080/"
        },
        "id": "uiRKgiX4LyAT",
        "outputId": "43642954-aab2-4811-c4c1-f284ab61a442"
      },
      "source": [
        "df.convert_dtypes().dtypes"
      ],
      "execution_count": 82,
      "outputs": [
        {
          "output_type": "execute_result",
          "data": {
            "text/plain": [
              "days_of_stay          string\n",
              "genre                 string\n",
              "age                   string\n",
              "kids                  string\n",
              "destination           string\n",
              "accommodation_type    string\n",
              "dtype: object"
            ]
          },
          "metadata": {
            "tags": []
          },
          "execution_count": 82
        }
      ]
    },
    {
      "cell_type": "code",
      "metadata": {
        "colab": {
          "base_uri": "https://localhost:8080/",
          "height": 363
        },
        "id": "dsm6tsMaKM0Z",
        "outputId": "690180bb-9caf-440e-d3a1-797fe84d8e3e"
      },
      "source": [
        "# Convertimos las variables días de estadía, edad y cantidad de niños a numéricas y los errores los forzamos a convertirse en NAN\n",
        "df['days_of_stay'] = df['days_of_stay'].apply(pd.to_numeric, errors=\"coerce\")\n",
        "df['age'] = df['age'].apply(pd.to_numeric, errors=\"coerce\")\n",
        "df['kids'] = df['kids'].apply(pd.to_numeric, errors=\"coerce\")\n",
        "df.head(10)"
      ],
      "execution_count": 83,
      "outputs": [
        {
          "output_type": "execute_result",
          "data": {
            "text/html": [
              "<div>\n",
              "<style scoped>\n",
              "    .dataframe tbody tr th:only-of-type {\n",
              "        vertical-align: middle;\n",
              "    }\n",
              "\n",
              "    .dataframe tbody tr th {\n",
              "        vertical-align: top;\n",
              "    }\n",
              "\n",
              "    .dataframe thead th {\n",
              "        text-align: right;\n",
              "    }\n",
              "</style>\n",
              "<table border=\"1\" class=\"dataframe\">\n",
              "  <thead>\n",
              "    <tr style=\"text-align: right;\">\n",
              "      <th></th>\n",
              "      <th>days_of_stay</th>\n",
              "      <th>genre</th>\n",
              "      <th>age</th>\n",
              "      <th>kids</th>\n",
              "      <th>destination</th>\n",
              "      <th>accommodation_type</th>\n",
              "    </tr>\n",
              "  </thead>\n",
              "  <tbody>\n",
              "    <tr>\n",
              "      <th>0</th>\n",
              "      <td>7.0</td>\n",
              "      <td>F</td>\n",
              "      <td>40.0</td>\n",
              "      <td>0.0</td>\n",
              "      <td>COL</td>\n",
              "      <td>AirBnB</td>\n",
              "    </tr>\n",
              "    <tr>\n",
              "      <th>1</th>\n",
              "      <td>5.0</td>\n",
              "      <td>M</td>\n",
              "      <td>NaN</td>\n",
              "      <td>0.0</td>\n",
              "      <td>&lt;NA&gt;</td>\n",
              "      <td>AirBnB</td>\n",
              "    </tr>\n",
              "    <tr>\n",
              "      <th>2</th>\n",
              "      <td>4.0</td>\n",
              "      <td>F</td>\n",
              "      <td>39.0</td>\n",
              "      <td>1.0</td>\n",
              "      <td>ES</td>\n",
              "      <td>Hotel</td>\n",
              "    </tr>\n",
              "    <tr>\n",
              "      <th>3</th>\n",
              "      <td>5.0</td>\n",
              "      <td>F</td>\n",
              "      <td>45.0</td>\n",
              "      <td>0.0</td>\n",
              "      <td>NL</td>\n",
              "      <td>Hotel</td>\n",
              "    </tr>\n",
              "    <tr>\n",
              "      <th>4</th>\n",
              "      <td>5.0</td>\n",
              "      <td>M</td>\n",
              "      <td>45.0</td>\n",
              "      <td>1.0</td>\n",
              "      <td>UK</td>\n",
              "      <td>Hotel</td>\n",
              "    </tr>\n",
              "    <tr>\n",
              "      <th>5</th>\n",
              "      <td>7.0</td>\n",
              "      <td>F</td>\n",
              "      <td>47.0</td>\n",
              "      <td>1.0</td>\n",
              "      <td>IT</td>\n",
              "      <td>AirBnB</td>\n",
              "    </tr>\n",
              "    <tr>\n",
              "      <th>6</th>\n",
              "      <td>3.0</td>\n",
              "      <td>F</td>\n",
              "      <td>53.0</td>\n",
              "      <td>0.0</td>\n",
              "      <td>NL</td>\n",
              "      <td>Hotel</td>\n",
              "    </tr>\n",
              "    <tr>\n",
              "      <th>7</th>\n",
              "      <td>2.0</td>\n",
              "      <td>F</td>\n",
              "      <td>47.0</td>\n",
              "      <td>0.0</td>\n",
              "      <td>AR</td>\n",
              "      <td>Hotel</td>\n",
              "    </tr>\n",
              "    <tr>\n",
              "      <th>8</th>\n",
              "      <td>3.0</td>\n",
              "      <td>M</td>\n",
              "      <td>39.0</td>\n",
              "      <td>1.0</td>\n",
              "      <td>COL</td>\n",
              "      <td>AirBnB</td>\n",
              "    </tr>\n",
              "    <tr>\n",
              "      <th>9</th>\n",
              "      <td>5.0</td>\n",
              "      <td>F</td>\n",
              "      <td>31.0</td>\n",
              "      <td>NaN</td>\n",
              "      <td>AR</td>\n",
              "      <td>AirBnB</td>\n",
              "    </tr>\n",
              "  </tbody>\n",
              "</table>\n",
              "</div>"
            ],
            "text/plain": [
              "   days_of_stay genre   age  kids destination accommodation_type\n",
              "0           7.0     F  40.0   0.0         COL             AirBnB\n",
              "1           5.0     M   NaN   0.0        <NA>             AirBnB\n",
              "2           4.0     F  39.0   1.0          ES              Hotel\n",
              "3           5.0     F  45.0   0.0          NL              Hotel\n",
              "4           5.0     M  45.0   1.0          UK              Hotel\n",
              "5           7.0     F  47.0   1.0          IT             AirBnB\n",
              "6           3.0     F  53.0   0.0          NL              Hotel\n",
              "7           2.0     F  47.0   0.0          AR              Hotel\n",
              "8           3.0     M  39.0   1.0         COL             AirBnB\n",
              "9           5.0     F  31.0   NaN          AR             AirBnB"
            ]
          },
          "metadata": {
            "tags": []
          },
          "execution_count": 83
        }
      ]
    },
    {
      "cell_type": "code",
      "metadata": {
        "colab": {
          "base_uri": "https://localhost:8080/"
        },
        "id": "k67TgbylvaJY",
        "outputId": "090490ac-4e20-46d0-c854-040d21678a89"
      },
      "source": [
        "# Averiguamos los destinos con los que contamos en el dataset.\n",
        "df['destination'].unique()"
      ],
      "execution_count": 84,
      "outputs": [
        {
          "output_type": "execute_result",
          "data": {
            "text/plain": [
              "array(['COL', '<NA>', 'ES', 'NL', 'UK', 'IT', 'AR', 'PE', 'US', None],\n",
              "      dtype=object)"
            ]
          },
          "metadata": {
            "tags": []
          },
          "execution_count": 84
        }
      ]
    },
    {
      "cell_type": "code",
      "metadata": {
        "colab": {
          "base_uri": "https://localhost:8080/",
          "height": 206
        },
        "id": "hwOW2GAdvcK8",
        "outputId": "e89a47e8-d539-4d2d-932c-f81372a4ca4f"
      },
      "source": [
        "# Lo primero que haremos será definir el país COL como CO.\n",
        "df['destination'] = df['destination'].apply(lambda x: x if x != 'COL' else 'CO')\n",
        "\n",
        "# Ahora, tomaremos los valores '<NA>' y None y los convertiremos en NaN\n",
        "df['destination'] = df['destination'].apply(lambda x: x if x != '<NA>' else np.nan)\n",
        "df['destination'] = df['destination'].apply(lambda x: x if x != None else np.nan)\n",
        "df.head()"
      ],
      "execution_count": 85,
      "outputs": [
        {
          "output_type": "execute_result",
          "data": {
            "text/html": [
              "<div>\n",
              "<style scoped>\n",
              "    .dataframe tbody tr th:only-of-type {\n",
              "        vertical-align: middle;\n",
              "    }\n",
              "\n",
              "    .dataframe tbody tr th {\n",
              "        vertical-align: top;\n",
              "    }\n",
              "\n",
              "    .dataframe thead th {\n",
              "        text-align: right;\n",
              "    }\n",
              "</style>\n",
              "<table border=\"1\" class=\"dataframe\">\n",
              "  <thead>\n",
              "    <tr style=\"text-align: right;\">\n",
              "      <th></th>\n",
              "      <th>days_of_stay</th>\n",
              "      <th>genre</th>\n",
              "      <th>age</th>\n",
              "      <th>kids</th>\n",
              "      <th>destination</th>\n",
              "      <th>accommodation_type</th>\n",
              "    </tr>\n",
              "  </thead>\n",
              "  <tbody>\n",
              "    <tr>\n",
              "      <th>0</th>\n",
              "      <td>7.0</td>\n",
              "      <td>F</td>\n",
              "      <td>40.0</td>\n",
              "      <td>0.0</td>\n",
              "      <td>CO</td>\n",
              "      <td>AirBnB</td>\n",
              "    </tr>\n",
              "    <tr>\n",
              "      <th>1</th>\n",
              "      <td>5.0</td>\n",
              "      <td>M</td>\n",
              "      <td>NaN</td>\n",
              "      <td>0.0</td>\n",
              "      <td>NaN</td>\n",
              "      <td>AirBnB</td>\n",
              "    </tr>\n",
              "    <tr>\n",
              "      <th>2</th>\n",
              "      <td>4.0</td>\n",
              "      <td>F</td>\n",
              "      <td>39.0</td>\n",
              "      <td>1.0</td>\n",
              "      <td>ES</td>\n",
              "      <td>Hotel</td>\n",
              "    </tr>\n",
              "    <tr>\n",
              "      <th>3</th>\n",
              "      <td>5.0</td>\n",
              "      <td>F</td>\n",
              "      <td>45.0</td>\n",
              "      <td>0.0</td>\n",
              "      <td>NL</td>\n",
              "      <td>Hotel</td>\n",
              "    </tr>\n",
              "    <tr>\n",
              "      <th>4</th>\n",
              "      <td>5.0</td>\n",
              "      <td>M</td>\n",
              "      <td>45.0</td>\n",
              "      <td>1.0</td>\n",
              "      <td>UK</td>\n",
              "      <td>Hotel</td>\n",
              "    </tr>\n",
              "  </tbody>\n",
              "</table>\n",
              "</div>"
            ],
            "text/plain": [
              "   days_of_stay genre   age  kids destination accommodation_type\n",
              "0           7.0     F  40.0   0.0          CO             AirBnB\n",
              "1           5.0     M   NaN   0.0         NaN             AirBnB\n",
              "2           4.0     F  39.0   1.0          ES              Hotel\n",
              "3           5.0     F  45.0   0.0          NL              Hotel\n",
              "4           5.0     M  45.0   1.0          UK              Hotel"
            ]
          },
          "metadata": {
            "tags": []
          },
          "execution_count": 85
        }
      ]
    },
    {
      "cell_type": "code",
      "metadata": {
        "id": "u8RYuGeeRbFQ"
      },
      "source": [
        ""
      ],
      "execution_count": 85,
      "outputs": []
    },
    {
      "cell_type": "markdown",
      "metadata": {
        "id": "OeNF_utqoIJL"
      },
      "source": [
        "Ya con el dataset medianamente limpio, verificamos la cantidad de datos nulos que se tienen."
      ]
    },
    {
      "cell_type": "code",
      "metadata": {
        "colab": {
          "base_uri": "https://localhost:8080/"
        },
        "id": "00eFQXkxoDnc",
        "outputId": "c2b111b3-dda6-4a1b-c36c-3b067d2bbf85"
      },
      "source": [
        "# Verificamos la cantidad de datos nulos\n",
        "df.info()"
      ],
      "execution_count": 86,
      "outputs": [
        {
          "output_type": "stream",
          "text": [
            "<class 'pandas.core.frame.DataFrame'>\n",
            "RangeIndex: 9869 entries, 0 to 9868\n",
            "Data columns (total 6 columns):\n",
            " #   Column              Non-Null Count  Dtype  \n",
            "---  ------              --------------  -----  \n",
            " 0   days_of_stay        9868 non-null   float64\n",
            " 1   genre               9868 non-null   object \n",
            " 2   age                 8874 non-null   float64\n",
            " 3   kids                8897 non-null   float64\n",
            " 4   destination         8872 non-null   object \n",
            " 5   accommodation_type  9868 non-null   object \n",
            "dtypes: float64(3), object(3)\n",
            "memory usage: 462.7+ KB\n"
          ],
          "name": "stdout"
        }
      ]
    },
    {
      "cell_type": "code",
      "metadata": {
        "colab": {
          "base_uri": "https://localhost:8080/"
        },
        "id": "nFuT3RaTokc9",
        "outputId": "5c04bac0-7526-4a22-c3e3-1d14964ca409"
      },
      "source": [
        "df.shape"
      ],
      "execution_count": 87,
      "outputs": [
        {
          "output_type": "execute_result",
          "data": {
            "text/plain": [
              "(9869, 6)"
            ]
          },
          "metadata": {
            "tags": []
          },
          "execution_count": 87
        }
      ]
    },
    {
      "cell_type": "code",
      "metadata": {
        "colab": {
          "base_uri": "https://localhost:8080/"
        },
        "id": "Pjwqt_MsonRn",
        "outputId": "5fa57cc0-275d-45c8-b35c-b121f27bc663"
      },
      "source": [
        "null_data_percentage = df.isna().sum().sum()/(df.shape[0]*df.shape[1])*100\n",
        "null_data = df.isna().sum().sum()\n",
        "total_data = (df.shape[0]*df.shape[1])\n",
        "print(f\"\"\"\n",
        "Total de filas en el dataset: {df.shape[0]}\n",
        "Total de datos nulos: {null_data}\n",
        "Total de datos del dataset: {total_data}\n",
        "Porcentaje de datos nulos: {round(null_data_percentage, 3)}%\n",
        "Porcentaje de datos no nulos: {round(100-null_data_percentage, 3)}%\"\"\")"
      ],
      "execution_count": 88,
      "outputs": [
        {
          "output_type": "stream",
          "text": [
            "\n",
            "Total de filas en el dataset: 9869\n",
            "Total de datos nulos: 2967\n",
            "Total de datos del dataset: 59214\n",
            "Porcentaje de datos nulos: 5.011%\n",
            "Porcentaje de datos no nulos: 94.989%\n"
          ],
          "name": "stdout"
        }
      ]
    },
    {
      "cell_type": "markdown",
      "metadata": {
        "id": "fraRO3lzp6aa"
      },
      "source": [
        "En general, podemos ver que el porcentaje de datos nulos es de 5.007%, por lo tanto, se podría creer que la perdida de información no superaría el 94%, pero este dato puede ser engañoso, pues se tienen 6 columnas, estaríamos haciendo la suposición que todas las filas van a ser nulas, y la realidad podría ser que cada fila tiene un dato nulo. \n",
        "\n",
        "A continuación, vamos a averiguar el peor escenario, cuál va a ser el total de datos que podríamos perder del dataset si se decide eliminar los datos nulos."
      ]
    },
    {
      "cell_type": "code",
      "metadata": {
        "colab": {
          "base_uri": "https://localhost:8080/"
        },
        "id": "xWIGNT3WvKLc",
        "outputId": "7548180e-ee8b-427e-bb8b-e8cc147d6861"
      },
      "source": [
        "possible_total_loss = null_data / df.shape[0] * 100\n",
        "possible_rows_remaining = df.shape[0] - null_data\n",
        "print(f\"\"\"\n",
        "El porcentaje de perdida de datos es de {round(possible_total_loss, 3)}%\n",
        "La posible cantidad de filas con las que se contaría después de borrar los datos nulos es de {possible_rows_remaining}\n",
        "\"\"\")"
      ],
      "execution_count": 89,
      "outputs": [
        {
          "output_type": "stream",
          "text": [
            "\n",
            "El porcentaje de perdida de datos es de 30.064%\n",
            "La posible cantidad de filas con las que se contaría después de borrar los datos nulos es de 6902\n",
            "\n"
          ],
          "name": "stdout"
        }
      ]
    },
    {
      "cell_type": "markdown",
      "metadata": {
        "id": "P5eEhLQxwJcb"
      },
      "source": [
        "Se decide conservar la data, pues, no siempre se va a contar con la información al 100% de parte de los usuarios, algunos omitirán información puesto que podrían considerarla como privada."
      ]
    },
    {
      "cell_type": "markdown",
      "metadata": {
        "id": "CEYx10s6v00L"
      },
      "source": [
        "Por proposito meramente educativo, conservaré este dataset en formato CSV para exploración con la herramienta de visualización Tableau."
      ]
    },
    {
      "cell_type": "code",
      "metadata": {
        "id": "6z_Ixk2IwHP0"
      },
      "source": [
        "df.to_csv('clean_data.csv', index=False)"
      ],
      "execution_count": 90,
      "outputs": []
    },
    {
      "cell_type": "markdown",
      "metadata": {
        "id": "98V7ugFhTIXk"
      },
      "source": [
        "## Este espacio lo usaré para realizar análisis exploratorio con matplotlib"
      ]
    },
    {
      "cell_type": "markdown",
      "metadata": {
        "id": "msl1nosOUA59"
      },
      "source": [
        "al ver el conjunto de datos con el que cuento, puedo realizar las siguientes preguntas.\n",
        "1. De los viajeros, ¿Cuál es la proporción de ellos que viajan con y sin hijos, sin discriminar su sexo?\n",
        "2. ¿Cuál es el país al que más viajan?\n",
        "3. ¿Cuál es el país al que más viajan cuando se tiene hijos y en qué tipo de acomodación se hospedan?\n",
        "4.  ¿Cuál es el país al que más viajan cuando NO se tiene hijos y en qué tipo de acomodación se hospedan?"
      ]
    },
    {
      "cell_type": "code",
      "metadata": {
        "colab": {
          "base_uri": "https://localhost:8080/",
          "height": 143
        },
        "id": "FLZAXi0nCCaQ",
        "outputId": "f6e01112-e113-4ab6-a45d-9c2a011593f8"
      },
      "source": [
        "df.corr()"
      ],
      "execution_count": 91,
      "outputs": [
        {
          "output_type": "execute_result",
          "data": {
            "text/html": [
              "<div>\n",
              "<style scoped>\n",
              "    .dataframe tbody tr th:only-of-type {\n",
              "        vertical-align: middle;\n",
              "    }\n",
              "\n",
              "    .dataframe tbody tr th {\n",
              "        vertical-align: top;\n",
              "    }\n",
              "\n",
              "    .dataframe thead th {\n",
              "        text-align: right;\n",
              "    }\n",
              "</style>\n",
              "<table border=\"1\" class=\"dataframe\">\n",
              "  <thead>\n",
              "    <tr style=\"text-align: right;\">\n",
              "      <th></th>\n",
              "      <th>days_of_stay</th>\n",
              "      <th>age</th>\n",
              "      <th>kids</th>\n",
              "    </tr>\n",
              "  </thead>\n",
              "  <tbody>\n",
              "    <tr>\n",
              "      <th>days_of_stay</th>\n",
              "      <td>1.000000</td>\n",
              "      <td>0.017139</td>\n",
              "      <td>-0.000248</td>\n",
              "    </tr>\n",
              "    <tr>\n",
              "      <th>age</th>\n",
              "      <td>0.017139</td>\n",
              "      <td>1.000000</td>\n",
              "      <td>-0.011178</td>\n",
              "    </tr>\n",
              "    <tr>\n",
              "      <th>kids</th>\n",
              "      <td>-0.000248</td>\n",
              "      <td>-0.011178</td>\n",
              "      <td>1.000000</td>\n",
              "    </tr>\n",
              "  </tbody>\n",
              "</table>\n",
              "</div>"
            ],
            "text/plain": [
              "              days_of_stay       age      kids\n",
              "days_of_stay      1.000000  0.017139 -0.000248\n",
              "age               0.017139  1.000000 -0.011178\n",
              "kids             -0.000248 -0.011178  1.000000"
            ]
          },
          "metadata": {
            "tags": []
          },
          "execution_count": 91
        }
      ]
    },
    {
      "cell_type": "markdown",
      "metadata": {
        "id": "CEGf8_b2C65y"
      },
      "source": [
        "Solo por curiosidad verifiqué la correlación de los datos, y en base a los resultados mostrados, aparentemente no hay relación alguna entre ellos."
      ]
    },
    {
      "cell_type": "markdown",
      "metadata": {
        "id": "peZVQ0NBoKEM"
      },
      "source": [
        "### 1. De los viajeros, ¿Cuál es la proporción de ellos que viajan con y sin hijos, sin discriminar su sexo?"
      ]
    },
    {
      "cell_type": "code",
      "metadata": {
        "id": "zXGgEaJLTHzG",
        "colab": {
          "base_uri": "https://localhost:8080/",
          "height": 597
        },
        "outputId": "a5a07b78-0dc6-4143-e134-a54e74547e1f"
      },
      "source": [
        "data_viz = df\n",
        "data_viz = data_viz.dropna()\n",
        "\n",
        "data_viz['one'] = 1\n",
        "data_viz_by_genre_and_kids = data_viz[['genre', 'kids', 'one']].groupby(['kids', 'genre']).sum()\n",
        "labels = data_viz_by_genre_and_kids.values.tolist()\n",
        "ax = data_viz_by_genre_and_kids.plot(kind='bar', figsize=(10,7))\n",
        "plt.title('Cantidad de viajeros por Genero y niños')\n",
        "\n",
        "rects = ax.patches\n",
        "for rect, label in zip(rects, labels):\n",
        "    height = rect.get_height()\n",
        "    ax.text(rect.get_x() + rect.get_width() / 2, height + 5, label,\n",
        "            ha='center', va='bottom')\n",
        "plt.show()"
      ],
      "execution_count": 92,
      "outputs": [
        {
          "output_type": "stream",
          "text": [
            "/usr/local/lib/python3.7/dist-packages/ipykernel_launcher.py:4: SettingWithCopyWarning: \n",
            "A value is trying to be set on a copy of a slice from a DataFrame.\n",
            "Try using .loc[row_indexer,col_indexer] = value instead\n",
            "\n",
            "See the caveats in the documentation: https://pandas.pydata.org/pandas-docs/stable/user_guide/indexing.html#returning-a-view-versus-a-copy\n",
            "  after removing the cwd from sys.path.\n"
          ],
          "name": "stderr"
        },
        {
          "output_type": "display_data",
          "data": {
            "image/png": "[encoded data removed]",
            "text/plain": [
              "<Figure size 720x504 with 1 Axes>"
            ]
          },
          "metadata": {
            "tags": [],
            "needs_background": "light"
          }
        }
      ]
    },
    {
      "cell_type": "code",
      "metadata": {
        "colab": {
          "base_uri": "https://localhost:8080/",
          "height": 206
        },
        "id": "PeVWnXQ7uUxb",
        "outputId": "38f95a7d-ff24-4a11-d8a8-7d71e576a2c3"
      },
      "source": [
        "data_viz_by_genre_and_kids"
      ],
      "execution_count": 93,
      "outputs": [
        {
          "output_type": "execute_result",
          "data": {
            "text/html": [
              "<div>\n",
              "<style scoped>\n",
              "    .dataframe tbody tr th:only-of-type {\n",
              "        vertical-align: middle;\n",
              "    }\n",
              "\n",
              "    .dataframe tbody tr th {\n",
              "        vertical-align: top;\n",
              "    }\n",
              "\n",
              "    .dataframe thead th {\n",
              "        text-align: right;\n",
              "    }\n",
              "</style>\n",
              "<table border=\"1\" class=\"dataframe\">\n",
              "  <thead>\n",
              "    <tr style=\"text-align: right;\">\n",
              "      <th></th>\n",
              "      <th></th>\n",
              "      <th>one</th>\n",
              "    </tr>\n",
              "    <tr>\n",
              "      <th>kids</th>\n",
              "      <th>genre</th>\n",
              "      <th></th>\n",
              "    </tr>\n",
              "  </thead>\n",
              "  <tbody>\n",
              "    <tr>\n",
              "      <th rowspan=\"2\" valign=\"top\">0.0</th>\n",
              "      <th>F</th>\n",
              "      <td>1835</td>\n",
              "    </tr>\n",
              "    <tr>\n",
              "      <th>M</th>\n",
              "      <td>1739</td>\n",
              "    </tr>\n",
              "    <tr>\n",
              "      <th rowspan=\"2\" valign=\"top\">1.0</th>\n",
              "      <th>F</th>\n",
              "      <td>1792</td>\n",
              "    </tr>\n",
              "    <tr>\n",
              "      <th>M</th>\n",
              "      <td>1836</td>\n",
              "    </tr>\n",
              "  </tbody>\n",
              "</table>\n",
              "</div>"
            ],
            "text/plain": [
              "             one\n",
              "kids genre      \n",
              "0.0  F      1835\n",
              "     M      1739\n",
              "1.0  F      1792\n",
              "     M      1836"
            ]
          },
          "metadata": {
            "tags": []
          },
          "execution_count": 93
        }
      ]
    },
    {
      "cell_type": "markdown",
      "metadata": {
        "id": "saz4BlqAnTB5"
      },
      "source": [
        "Del gráfico de los viajeros que tienen y no tienen hijos, podemos observar que los datos son más o menos similares, la diferenciar entre el menor y el mayor es de 97 unidades. Lo cual, según la escala no parece ser una gran diferencia."
      ]
    },
    {
      "cell_type": "markdown",
      "metadata": {
        "id": "F2IqI4WMoNjb"
      },
      "source": [
        "### ¿Cuál es el país al que más viajan?"
      ]
    },
    {
      "cell_type": "code",
      "metadata": {
        "colab": {
          "base_uri": "https://localhost:8080/",
          "height": 447
        },
        "id": "TTdYuj_HnyDq",
        "outputId": "b525fae6-bd34-4de5-9d64-e5618fe49839"
      },
      "source": [
        "data_viz_world = data_viz[['destination', 'one']]\n",
        "\n",
        "ax = data_viz_world.groupby('destination').sum().sort_values('one', ascending=False).plot(kind='bar', figsize=(10,7))\n",
        "labels = data_viz_world.groupby('destination').sum().sort_values('one', ascending=False).values.tolist()\n",
        "\n",
        "rects = ax.patches\n",
        "for rect, label in zip(rects, labels):\n",
        "    height = rect.get_height()\n",
        "    ax.text(rect.get_x() + rect.get_width() / 2, height + 5, label,\n",
        "            ha='center', va='bottom')\n",
        "plt.show()"
      ],
      "execution_count": 94,
      "outputs": [
        {
          "output_type": "display_data",
          "data": {
            "image/png": "[encoded data removed]",
            "text/plain": [
              "<Figure size 720x504 with 1 Axes>"
            ]
          },
          "metadata": {
            "tags": [],
            "needs_background": "light"
          }
        }
      ]
    },
    {
      "cell_type": "markdown",
      "metadata": {
        "id": "pTotAooYz_HH"
      },
      "source": [
        "Podemos ver que los países están más o menos con una distribución similar, la diferencia entre los 2 extremos son 89 personas, lo cual para la distribución en general no es mucha diferencia.\n",
        "\n",
        "También podemos observar que los 3 países con más visitas son Estados Unidos, Colombia e Italia."
      ]
    },
    {
      "cell_type": "markdown",
      "metadata": {
        "id": "ElYJGX7M0Z1w"
      },
      "source": [
        "### ¿Cuál es el país al que más viajan cuando se tiene hijos y en qué tipo de acomodación se hospedan? y ¿Cuál es el país al que más viajan cuando NO se tiene hijos y en qué tipo de acomodación se hospedan?"
      ]
    },
    {
      "cell_type": "code",
      "metadata": {
        "colab": {
          "base_uri": "https://localhost:8080/",
          "height": 1000
        },
        "id": "ZnUHBE9t0fQi",
        "outputId": "58d1eefe-9e6b-41d4-9038-751bfcb4ed3a"
      },
      "source": [
        "data_viz_world = data_viz[['destination', 'kids', 'accommodation_type', 'one']]\n",
        "\n",
        "country_list = ['US', 'CO', 'IT', 'PE', 'AR', 'NL', 'UK', 'ES']\n",
        "data_viz_world = data_viz_world.groupby(['destination', 'kids', 'accommodation_type']).sum().sort_values('destination', ascending=False)\n",
        "\n",
        "data_viz_world = data_viz_world.reset_index()\n",
        "for country in country_list:\n",
        "    country = data_viz_world[data_viz_world['destination'] == country]\n",
        "    ax = country.groupby(['destination', 'kids', 'accommodation_type']).sum().sort_values('destination', ascending=False)\n",
        "    labels = ax.values.tolist()\n",
        "    ax = ax.plot(kind='bar', figsize=(10,7))\n",
        "    \n",
        "    rects = ax.patches\n",
        "    for rect, label in zip(rects, labels):\n",
        "        height = rect.get_height()\n",
        "        ax.text(rect.get_x() + rect.get_width() / 2, height + 5, label,\n",
        "                ha='center', va='bottom')\n",
        "plt.show()"
      ],
      "execution_count": 95,
      "outputs": [
        {
          "output_type": "display_data",
          "data": {
            "image/png": "[encoded data removed]",
            "text/plain": [
              "<Figure size 720x504 with 1 Axes>"
            ]
          },
          "metadata": {
            "tags": [],
            "needs_background": "light"
          }
        },
        {
          "output_type": "display_data",
          "data": {
            "image/png": "[encoded data removed]",
            "text/plain": [
              "<Figure size 720x504 with 1 Axes>"
            ]
          },
          "metadata": {
            "tags": [],
            "needs_background": "light"
          }
        },
        {
          "output_type": "display_data",
          "data": {
            "image/png": "[encoded data removed]",
            "text/plain": [
              "<Figure size 720x504 with 1 Axes>"
            ]
          },
          "metadata": {
            "tags": [],
            "needs_background": "light"
          }
        },
        {
          "output_type": "display_data",
          "data": {
            "image/png": "[encoded data removed]",
            "text/plain": [
              "<Figure size 720x504 with 1 Axes>"
            ]
          },
          "metadata": {
            "tags": [],
            "needs_background": "light"
          }
        },
        {
          "output_type": "display_data",
          "data": {
            "image/png": "[encoded data removed]",
            "text/plain": [
              "<Figure size 720x504 with 1 Axes>"
            ]
          },
          "metadata": {
            "tags": [],
            "needs_background": "light"
          }
        },
        {
          "output_type": "display_data",
          "data": {
            "image/png": "[encoded data removed]",
            "text/plain": [
              "<Figure size 720x504 with 1 Axes>"
            ]
          },
          "metadata": {
            "tags": [],
            "needs_background": "light"
          }
        },
        {
          "output_type": "display_data",
          "data": {
            "image/png": "[encoded data removed]",
            "text/plain": [
              "<Figure size 720x504 with 1 Axes>"
            ]
          },
          "metadata": {
            "tags": [],
            "needs_background": "light"
          }
        },
        {
          "output_type": "display_data",
          "data": {
            "image/png": "[encoded data removed]",
            "text/plain": [
              "<Figure size 720x504 with 1 Axes>"
            ]
          },
          "metadata": {
            "tags": [],
            "needs_background": "light"
          }
        }
      ]
    },
    {
      "cell_type": "markdown",
      "metadata": {
        "id": "nDeX4UFQBmBq"
      },
      "source": [
        "Al analizar más detalladamente el tipo de acomodación por cada país y sin discriminar si se tienen o no se tienen hijos, se puede ver una tendencia muy marcada, la mayoría de los viajeros, ya sea que tengan hijos o no, prefiere hospedarse más en hoteles que a través de AirBnB."
      ]
    },
    {
      "cell_type": "markdown",
      "metadata": {
        "id": "QNabWd6DDhJx"
      },
      "source": [
        "### ¿Cuál es la distribución de edades de los viajeros?"
      ]
    },
    {
      "cell_type": "code",
      "metadata": {
        "colab": {
          "base_uri": "https://localhost:8080/",
          "height": 269
        },
        "id": "k5v2DyDe_Wa7",
        "outputId": "a3234c08-114b-408f-9d67-ad724f3a73e3"
      },
      "source": [
        "data_viz_by_age = data_viz[['age', 'one']]\n",
        "\n",
        "ages = sorted(data_viz_by_age['age'].unique())\n",
        "data_viz_by_age = data_viz_by_age.groupby('age').sum()\n",
        "values = data_viz_by_age.values\n",
        "ammount = []\n",
        "for value in values:\n",
        "    ammount.append(int(value))\n",
        "plt.plot(data_viz_by_age)\n",
        "plt.bar(ages, ammount)\n",
        "plt.rcParams[\"figure.figsize\"] = (5,15)\n",
        "plt.show()"
      ],
      "execution_count": 96,
      "outputs": [
        {
          "output_type": "display_data",
          "data": {
            "image/png": "[encoded data removed]",
            "text/plain": [
              "<Figure size 432x288 with 1 Axes>"
            ]
          },
          "metadata": {
            "tags": [],
            "needs_background": "light"
          }
        }
      ]
    },
    {
      "cell_type": "markdown",
      "metadata": {
        "id": "K2xaHk6oMoeM"
      },
      "source": [
        "Al visualizar cómo están distribuidas las edades, podemos inferir que su comportamiento es similar al de una distribución normal, puesto que se asemejan al de una campana.\n",
        "\n",
        "De esto, podemos concluir que los que más viajan su edad está comprendida entre los 35 a 45 años, siendo los de 40 años los que más viajan."
      ]
    },
    {
      "cell_type": "markdown",
      "metadata": {
        "id": "BKM7fZiQ0g2y"
      },
      "source": [
        "## Continuamos con la preparación de los datos para el data engineering y posterior modelamiento de datos"
      ]
    },
    {
      "cell_type": "code",
      "metadata": {
        "colab": {
          "base_uri": "https://localhost:8080/",
          "height": 363
        },
        "id": "3A8XGl3vwuEG",
        "outputId": "3eae8878-4133-4cbc-bd56-c02cdb582e4c"
      },
      "source": [
        "# Convertiremos el genero en un tipo booleano, 0 si es masculino, 1 si es femenino, \n",
        "# lo mismo haremos con accommodation type, 0 si es hotel, 1 si es AirBnB.\n",
        "# Podemos hacer la conversión directamente, pues de la descripción de los datos, sabemos que solo hay 2 de este tipo.\n",
        "df['genre'] = df['genre'].apply(lambda x: 0 if x == 'M' else 1)\n",
        "df['accommodation_type'] = df['accommodation_type'].apply(lambda x: 0 if x == 'Hotel' else 1)\n",
        "df.head(10)"
      ],
      "execution_count": 97,
      "outputs": [
        {
          "output_type": "execute_result",
          "data": {
            "text/html": [
              "<div>\n",
              "<style scoped>\n",
              "    .dataframe tbody tr th:only-of-type {\n",
              "        vertical-align: middle;\n",
              "    }\n",
              "\n",
              "    .dataframe tbody tr th {\n",
              "        vertical-align: top;\n",
              "    }\n",
              "\n",
              "    .dataframe thead th {\n",
              "        text-align: right;\n",
              "    }\n",
              "</style>\n",
              "<table border=\"1\" class=\"dataframe\">\n",
              "  <thead>\n",
              "    <tr style=\"text-align: right;\">\n",
              "      <th></th>\n",
              "      <th>days_of_stay</th>\n",
              "      <th>genre</th>\n",
              "      <th>age</th>\n",
              "      <th>kids</th>\n",
              "      <th>destination</th>\n",
              "      <th>accommodation_type</th>\n",
              "    </tr>\n",
              "  </thead>\n",
              "  <tbody>\n",
              "    <tr>\n",
              "      <th>0</th>\n",
              "      <td>7.0</td>\n",
              "      <td>1</td>\n",
              "      <td>40.0</td>\n",
              "      <td>0.0</td>\n",
              "      <td>CO</td>\n",
              "      <td>1</td>\n",
              "    </tr>\n",
              "    <tr>\n",
              "      <th>1</th>\n",
              "      <td>5.0</td>\n",
              "      <td>0</td>\n",
              "      <td>NaN</td>\n",
              "      <td>0.0</td>\n",
              "      <td>NaN</td>\n",
              "      <td>1</td>\n",
              "    </tr>\n",
              "    <tr>\n",
              "      <th>2</th>\n",
              "      <td>4.0</td>\n",
              "      <td>1</td>\n",
              "      <td>39.0</td>\n",
              "      <td>1.0</td>\n",
              "      <td>ES</td>\n",
              "      <td>0</td>\n",
              "    </tr>\n",
              "    <tr>\n",
              "      <th>3</th>\n",
              "      <td>5.0</td>\n",
              "      <td>1</td>\n",
              "      <td>45.0</td>\n",
              "      <td>0.0</td>\n",
              "      <td>NL</td>\n",
              "      <td>0</td>\n",
              "    </tr>\n",
              "    <tr>\n",
              "      <th>4</th>\n",
              "      <td>5.0</td>\n",
              "      <td>0</td>\n",
              "      <td>45.0</td>\n",
              "      <td>1.0</td>\n",
              "      <td>UK</td>\n",
              "      <td>0</td>\n",
              "    </tr>\n",
              "    <tr>\n",
              "      <th>5</th>\n",
              "      <td>7.0</td>\n",
              "      <td>1</td>\n",
              "      <td>47.0</td>\n",
              "      <td>1.0</td>\n",
              "      <td>IT</td>\n",
              "      <td>1</td>\n",
              "    </tr>\n",
              "    <tr>\n",
              "      <th>6</th>\n",
              "      <td>3.0</td>\n",
              "      <td>1</td>\n",
              "      <td>53.0</td>\n",
              "      <td>0.0</td>\n",
              "      <td>NL</td>\n",
              "      <td>0</td>\n",
              "    </tr>\n",
              "    <tr>\n",
              "      <th>7</th>\n",
              "      <td>2.0</td>\n",
              "      <td>1</td>\n",
              "      <td>47.0</td>\n",
              "      <td>0.0</td>\n",
              "      <td>AR</td>\n",
              "      <td>0</td>\n",
              "    </tr>\n",
              "    <tr>\n",
              "      <th>8</th>\n",
              "      <td>3.0</td>\n",
              "      <td>0</td>\n",
              "      <td>39.0</td>\n",
              "      <td>1.0</td>\n",
              "      <td>CO</td>\n",
              "      <td>1</td>\n",
              "    </tr>\n",
              "    <tr>\n",
              "      <th>9</th>\n",
              "      <td>5.0</td>\n",
              "      <td>1</td>\n",
              "      <td>31.0</td>\n",
              "      <td>NaN</td>\n",
              "      <td>AR</td>\n",
              "      <td>1</td>\n",
              "    </tr>\n",
              "  </tbody>\n",
              "</table>\n",
              "</div>"
            ],
            "text/plain": [
              "   days_of_stay  genre   age  kids destination  accommodation_type\n",
              "0           7.0      1  40.0   0.0          CO                   1\n",
              "1           5.0      0   NaN   0.0         NaN                   1\n",
              "2           4.0      1  39.0   1.0          ES                   0\n",
              "3           5.0      1  45.0   0.0          NL                   0\n",
              "4           5.0      0  45.0   1.0          UK                   0\n",
              "5           7.0      1  47.0   1.0          IT                   1\n",
              "6           3.0      1  53.0   0.0          NL                   0\n",
              "7           2.0      1  47.0   0.0          AR                   0\n",
              "8           3.0      0  39.0   1.0          CO                   1\n",
              "9           5.0      1  31.0   NaN          AR                   1"
            ]
          },
          "metadata": {
            "tags": []
          },
          "execution_count": 97
        }
      ]
    },
    {
      "cell_type": "markdown",
      "metadata": {
        "id": "-hbTVzzHws0u"
      },
      "source": [
        "A continuación, se guardará un array con los países de destino de los viajeros, con el fin de convertirlos en valores numéricos según sea su índice, y así facilitar el modelamiento de datos."
      ]
    },
    {
      "cell_type": "code",
      "metadata": {
        "colab": {
          "base_uri": "https://localhost:8080/"
        },
        "id": "4wZvr9JlxzLS",
        "outputId": "718182fc-db64-4899-f642-2a738246c223"
      },
      "source": [
        "country_list = df['destination'].unique()\n",
        "print(country_list)\n",
        "print(np.where(country_list == 'NL')[0][0])\n",
        "np.nan"
      ],
      "execution_count": 98,
      "outputs": [
        {
          "output_type": "stream",
          "text": [
            "['CO' nan 'ES' 'NL' 'UK' 'IT' 'AR' 'PE' 'US']\n",
            "3\n"
          ],
          "name": "stdout"
        },
        {
          "output_type": "execute_result",
          "data": {
            "text/plain": [
              "nan"
            ]
          },
          "metadata": {
            "tags": []
          },
          "execution_count": 98
        }
      ]
    },
    {
      "cell_type": "code",
      "metadata": {
        "colab": {
          "base_uri": "https://localhost:8080/",
          "height": 206
        },
        "id": "wbZAFPyucmIS",
        "outputId": "d61f3d03-df96-407c-d860-c6845e814b3f"
      },
      "source": [
        "# Finalmente, eliminamos los datos nulos, puesto que haciendo pruebas con el modelo de entrenamiento del árbol de decisión, \n",
        "# para que este sea efectivo, no debe contener valores nulos.\n",
        "# Debido a que si se entrena el modelo con el siguiente manejo de datos se obtienen valores del 73%, se procede a eliminar los valores nulos,\n",
        "# puesto que, de esta manera la precisión aumenta al 83%\n",
        "\"\"\"df['days_of_stay'] = df['days_of_stay'].fillna(df['days_of_stay'].median())\n",
        "df['age'] = df['age'].fillna(df['age'].median())\n",
        "df['genre'] = df['genre'].fillna(method='ffill')\n",
        "df['kids'] = df['kids'].fillna(method='ffill')\n",
        "df['destination'] = df['destination'].fillna(method='ffill')\n",
        "df.head()\"\"\"\n",
        "\n",
        "# Eliminando valores nulos\n",
        "df = df.dropna()\n",
        "df.head()"
      ],
      "execution_count": 99,
      "outputs": [
        {
          "output_type": "execute_result",
          "data": {
            "text/html": [
              "<div>\n",
              "<style scoped>\n",
              "    .dataframe tbody tr th:only-of-type {\n",
              "        vertical-align: middle;\n",
              "    }\n",
              "\n",
              "    .dataframe tbody tr th {\n",
              "        vertical-align: top;\n",
              "    }\n",
              "\n",
              "    .dataframe thead th {\n",
              "        text-align: right;\n",
              "    }\n",
              "</style>\n",
              "<table border=\"1\" class=\"dataframe\">\n",
              "  <thead>\n",
              "    <tr style=\"text-align: right;\">\n",
              "      <th></th>\n",
              "      <th>days_of_stay</th>\n",
              "      <th>genre</th>\n",
              "      <th>age</th>\n",
              "      <th>kids</th>\n",
              "      <th>destination</th>\n",
              "      <th>accommodation_type</th>\n",
              "    </tr>\n",
              "  </thead>\n",
              "  <tbody>\n",
              "    <tr>\n",
              "      <th>0</th>\n",
              "      <td>7.0</td>\n",
              "      <td>1</td>\n",
              "      <td>40.0</td>\n",
              "      <td>0.0</td>\n",
              "      <td>CO</td>\n",
              "      <td>1</td>\n",
              "    </tr>\n",
              "    <tr>\n",
              "      <th>2</th>\n",
              "      <td>4.0</td>\n",
              "      <td>1</td>\n",
              "      <td>39.0</td>\n",
              "      <td>1.0</td>\n",
              "      <td>ES</td>\n",
              "      <td>0</td>\n",
              "    </tr>\n",
              "    <tr>\n",
              "      <th>3</th>\n",
              "      <td>5.0</td>\n",
              "      <td>1</td>\n",
              "      <td>45.0</td>\n",
              "      <td>0.0</td>\n",
              "      <td>NL</td>\n",
              "      <td>0</td>\n",
              "    </tr>\n",
              "    <tr>\n",
              "      <th>4</th>\n",
              "      <td>5.0</td>\n",
              "      <td>0</td>\n",
              "      <td>45.0</td>\n",
              "      <td>1.0</td>\n",
              "      <td>UK</td>\n",
              "      <td>0</td>\n",
              "    </tr>\n",
              "    <tr>\n",
              "      <th>5</th>\n",
              "      <td>7.0</td>\n",
              "      <td>1</td>\n",
              "      <td>47.0</td>\n",
              "      <td>1.0</td>\n",
              "      <td>IT</td>\n",
              "      <td>1</td>\n",
              "    </tr>\n",
              "  </tbody>\n",
              "</table>\n",
              "</div>"
            ],
            "text/plain": [
              "   days_of_stay  genre   age  kids destination  accommodation_type\n",
              "0           7.0      1  40.0   0.0          CO                   1\n",
              "2           4.0      1  39.0   1.0          ES                   0\n",
              "3           5.0      1  45.0   0.0          NL                   0\n",
              "4           5.0      0  45.0   1.0          UK                   0\n",
              "5           7.0      1  47.0   1.0          IT                   1"
            ]
          },
          "metadata": {
            "tags": []
          },
          "execution_count": 99
        }
      ]
    },
    {
      "cell_type": "code",
      "metadata": {
        "colab": {
          "base_uri": "https://localhost:8080/"
        },
        "id": "-k37CVNRbPjY",
        "outputId": "21c063aa-16e5-483d-ced4-37d26f671f0e"
      },
      "source": [
        "df.info()"
      ],
      "execution_count": 100,
      "outputs": [
        {
          "output_type": "stream",
          "text": [
            "<class 'pandas.core.frame.DataFrame'>\n",
            "Int64Index: 7202 entries, 0 to 9867\n",
            "Data columns (total 6 columns):\n",
            " #   Column              Non-Null Count  Dtype  \n",
            "---  ------              --------------  -----  \n",
            " 0   days_of_stay        7202 non-null   float64\n",
            " 1   genre               7202 non-null   int64  \n",
            " 2   age                 7202 non-null   float64\n",
            " 3   kids                7202 non-null   float64\n",
            " 4   destination         7202 non-null   object \n",
            " 5   accommodation_type  7202 non-null   int64  \n",
            "dtypes: float64(3), int64(2), object(1)\n",
            "memory usage: 393.9+ KB\n"
          ],
          "name": "stdout"
        }
      ]
    },
    {
      "cell_type": "code",
      "metadata": {
        "colab": {
          "base_uri": "https://localhost:8080/",
          "height": 225
        },
        "id": "-SIgpd0DVN_v",
        "outputId": "6d800ede-66f8-452b-a64b-5d77e7303e17"
      },
      "source": [
        "country_list = df['destination'].unique()\n",
        "print(country_list)\n",
        "df.head(5)"
      ],
      "execution_count": 101,
      "outputs": [
        {
          "output_type": "stream",
          "text": [
            "['CO' 'ES' 'NL' 'UK' 'IT' 'AR' 'PE' 'US']\n"
          ],
          "name": "stdout"
        },
        {
          "output_type": "execute_result",
          "data": {
            "text/html": [
              "<div>\n",
              "<style scoped>\n",
              "    .dataframe tbody tr th:only-of-type {\n",
              "        vertical-align: middle;\n",
              "    }\n",
              "\n",
              "    .dataframe tbody tr th {\n",
              "        vertical-align: top;\n",
              "    }\n",
              "\n",
              "    .dataframe thead th {\n",
              "        text-align: right;\n",
              "    }\n",
              "</style>\n",
              "<table border=\"1\" class=\"dataframe\">\n",
              "  <thead>\n",
              "    <tr style=\"text-align: right;\">\n",
              "      <th></th>\n",
              "      <th>days_of_stay</th>\n",
              "      <th>genre</th>\n",
              "      <th>age</th>\n",
              "      <th>kids</th>\n",
              "      <th>destination</th>\n",
              "      <th>accommodation_type</th>\n",
              "    </tr>\n",
              "  </thead>\n",
              "  <tbody>\n",
              "    <tr>\n",
              "      <th>0</th>\n",
              "      <td>7.0</td>\n",
              "      <td>1</td>\n",
              "      <td>40.0</td>\n",
              "      <td>0.0</td>\n",
              "      <td>CO</td>\n",
              "      <td>1</td>\n",
              "    </tr>\n",
              "    <tr>\n",
              "      <th>2</th>\n",
              "      <td>4.0</td>\n",
              "      <td>1</td>\n",
              "      <td>39.0</td>\n",
              "      <td>1.0</td>\n",
              "      <td>ES</td>\n",
              "      <td>0</td>\n",
              "    </tr>\n",
              "    <tr>\n",
              "      <th>3</th>\n",
              "      <td>5.0</td>\n",
              "      <td>1</td>\n",
              "      <td>45.0</td>\n",
              "      <td>0.0</td>\n",
              "      <td>NL</td>\n",
              "      <td>0</td>\n",
              "    </tr>\n",
              "    <tr>\n",
              "      <th>4</th>\n",
              "      <td>5.0</td>\n",
              "      <td>0</td>\n",
              "      <td>45.0</td>\n",
              "      <td>1.0</td>\n",
              "      <td>UK</td>\n",
              "      <td>0</td>\n",
              "    </tr>\n",
              "    <tr>\n",
              "      <th>5</th>\n",
              "      <td>7.0</td>\n",
              "      <td>1</td>\n",
              "      <td>47.0</td>\n",
              "      <td>1.0</td>\n",
              "      <td>IT</td>\n",
              "      <td>1</td>\n",
              "    </tr>\n",
              "  </tbody>\n",
              "</table>\n",
              "</div>"
            ],
            "text/plain": [
              "   days_of_stay  genre   age  kids destination  accommodation_type\n",
              "0           7.0      1  40.0   0.0          CO                   1\n",
              "2           4.0      1  39.0   1.0          ES                   0\n",
              "3           5.0      1  45.0   0.0          NL                   0\n",
              "4           5.0      0  45.0   1.0          UK                   0\n",
              "5           7.0      1  47.0   1.0          IT                   1"
            ]
          },
          "metadata": {
            "tags": []
          },
          "execution_count": 101
        }
      ]
    },
    {
      "cell_type": "code",
      "metadata": {
        "colab": {
          "base_uri": "https://localhost:8080/",
          "height": 424
        },
        "id": "4iKXCoWlzgqK",
        "outputId": "ffb62a04-6924-4d68-a2c5-26c1a9367b23"
      },
      "source": [
        "country_list = ['AR', 'CO', 'ES', 'IT', 'NL', 'PE', 'UK', 'US']\n",
        "df[country_list] = pd.get_dummies(df.destination)\n",
        "df"
      ],
      "execution_count": 102,
      "outputs": [
        {
          "output_type": "execute_result",
          "data": {
            "text/html": [
              "<div>\n",
              "<style scoped>\n",
              "    .dataframe tbody tr th:only-of-type {\n",
              "        vertical-align: middle;\n",
              "    }\n",
              "\n",
              "    .dataframe tbody tr th {\n",
              "        vertical-align: top;\n",
              "    }\n",
              "\n",
              "    .dataframe thead th {\n",
              "        text-align: right;\n",
              "    }\n",
              "</style>\n",
              "<table border=\"1\" class=\"dataframe\">\n",
              "  <thead>\n",
              "    <tr style=\"text-align: right;\">\n",
              "      <th></th>\n",
              "      <th>days_of_stay</th>\n",
              "      <th>genre</th>\n",
              "      <th>age</th>\n",
              "      <th>kids</th>\n",
              "      <th>destination</th>\n",
              "      <th>accommodation_type</th>\n",
              "      <th>AR</th>\n",
              "      <th>CO</th>\n",
              "      <th>ES</th>\n",
              "      <th>IT</th>\n",
              "      <th>NL</th>\n",
              "      <th>PE</th>\n",
              "      <th>UK</th>\n",
              "      <th>US</th>\n",
              "    </tr>\n",
              "  </thead>\n",
              "  <tbody>\n",
              "    <tr>\n",
              "      <th>0</th>\n",
              "      <td>7.0</td>\n",
              "      <td>1</td>\n",
              "      <td>40.0</td>\n",
              "      <td>0.0</td>\n",
              "      <td>CO</td>\n",
              "      <td>1</td>\n",
              "      <td>0</td>\n",
              "      <td>1</td>\n",
              "      <td>0</td>\n",
              "      <td>0</td>\n",
              "      <td>0</td>\n",
              "      <td>0</td>\n",
              "      <td>0</td>\n",
              "      <td>0</td>\n",
              "    </tr>\n",
              "    <tr>\n",
              "      <th>2</th>\n",
              "      <td>4.0</td>\n",
              "      <td>1</td>\n",
              "      <td>39.0</td>\n",
              "      <td>1.0</td>\n",
              "      <td>ES</td>\n",
              "      <td>0</td>\n",
              "      <td>0</td>\n",
              "      <td>0</td>\n",
              "      <td>1</td>\n",
              "      <td>0</td>\n",
              "      <td>0</td>\n",
              "      <td>0</td>\n",
              "      <td>0</td>\n",
              "      <td>0</td>\n",
              "    </tr>\n",
              "    <tr>\n",
              "      <th>3</th>\n",
              "      <td>5.0</td>\n",
              "      <td>1</td>\n",
              "      <td>45.0</td>\n",
              "      <td>0.0</td>\n",
              "      <td>NL</td>\n",
              "      <td>0</td>\n",
              "      <td>0</td>\n",
              "      <td>0</td>\n",
              "      <td>0</td>\n",
              "      <td>0</td>\n",
              "      <td>1</td>\n",
              "      <td>0</td>\n",
              "      <td>0</td>\n",
              "      <td>0</td>\n",
              "    </tr>\n",
              "    <tr>\n",
              "      <th>4</th>\n",
              "      <td>5.0</td>\n",
              "      <td>0</td>\n",
              "      <td>45.0</td>\n",
              "      <td>1.0</td>\n",
              "      <td>UK</td>\n",
              "      <td>0</td>\n",
              "      <td>0</td>\n",
              "      <td>0</td>\n",
              "      <td>0</td>\n",
              "      <td>0</td>\n",
              "      <td>0</td>\n",
              "      <td>0</td>\n",
              "      <td>1</td>\n",
              "      <td>0</td>\n",
              "    </tr>\n",
              "    <tr>\n",
              "      <th>5</th>\n",
              "      <td>7.0</td>\n",
              "      <td>1</td>\n",
              "      <td>47.0</td>\n",
              "      <td>1.0</td>\n",
              "      <td>IT</td>\n",
              "      <td>1</td>\n",
              "      <td>0</td>\n",
              "      <td>0</td>\n",
              "      <td>0</td>\n",
              "      <td>1</td>\n",
              "      <td>0</td>\n",
              "      <td>0</td>\n",
              "      <td>0</td>\n",
              "      <td>0</td>\n",
              "    </tr>\n",
              "    <tr>\n",
              "      <th>...</th>\n",
              "      <td>...</td>\n",
              "      <td>...</td>\n",
              "      <td>...</td>\n",
              "      <td>...</td>\n",
              "      <td>...</td>\n",
              "      <td>...</td>\n",
              "      <td>...</td>\n",
              "      <td>...</td>\n",
              "      <td>...</td>\n",
              "      <td>...</td>\n",
              "      <td>...</td>\n",
              "      <td>...</td>\n",
              "      <td>...</td>\n",
              "      <td>...</td>\n",
              "    </tr>\n",
              "    <tr>\n",
              "      <th>9863</th>\n",
              "      <td>2.0</td>\n",
              "      <td>1</td>\n",
              "      <td>42.0</td>\n",
              "      <td>0.0</td>\n",
              "      <td>ES</td>\n",
              "      <td>1</td>\n",
              "      <td>0</td>\n",
              "      <td>0</td>\n",
              "      <td>1</td>\n",
              "      <td>0</td>\n",
              "      <td>0</td>\n",
              "      <td>0</td>\n",
              "      <td>0</td>\n",
              "      <td>0</td>\n",
              "    </tr>\n",
              "    <tr>\n",
              "      <th>9864</th>\n",
              "      <td>6.0</td>\n",
              "      <td>0</td>\n",
              "      <td>43.0</td>\n",
              "      <td>1.0</td>\n",
              "      <td>PE</td>\n",
              "      <td>1</td>\n",
              "      <td>0</td>\n",
              "      <td>0</td>\n",
              "      <td>0</td>\n",
              "      <td>0</td>\n",
              "      <td>0</td>\n",
              "      <td>1</td>\n",
              "      <td>0</td>\n",
              "      <td>0</td>\n",
              "    </tr>\n",
              "    <tr>\n",
              "      <th>9865</th>\n",
              "      <td>4.0</td>\n",
              "      <td>0</td>\n",
              "      <td>39.0</td>\n",
              "      <td>0.0</td>\n",
              "      <td>IT</td>\n",
              "      <td>0</td>\n",
              "      <td>0</td>\n",
              "      <td>0</td>\n",
              "      <td>0</td>\n",
              "      <td>1</td>\n",
              "      <td>0</td>\n",
              "      <td>0</td>\n",
              "      <td>0</td>\n",
              "      <td>0</td>\n",
              "    </tr>\n",
              "    <tr>\n",
              "      <th>9866</th>\n",
              "      <td>3.0</td>\n",
              "      <td>0</td>\n",
              "      <td>37.0</td>\n",
              "      <td>1.0</td>\n",
              "      <td>IT</td>\n",
              "      <td>0</td>\n",
              "      <td>0</td>\n",
              "      <td>0</td>\n",
              "      <td>0</td>\n",
              "      <td>1</td>\n",
              "      <td>0</td>\n",
              "      <td>0</td>\n",
              "      <td>0</td>\n",
              "      <td>0</td>\n",
              "    </tr>\n",
              "    <tr>\n",
              "      <th>9867</th>\n",
              "      <td>3.0</td>\n",
              "      <td>1</td>\n",
              "      <td>49.0</td>\n",
              "      <td>1.0</td>\n",
              "      <td>IT</td>\n",
              "      <td>1</td>\n",
              "      <td>0</td>\n",
              "      <td>0</td>\n",
              "      <td>0</td>\n",
              "      <td>1</td>\n",
              "      <td>0</td>\n",
              "      <td>0</td>\n",
              "      <td>0</td>\n",
              "      <td>0</td>\n",
              "    </tr>\n",
              "  </tbody>\n",
              "</table>\n",
              "<p>7202 rows × 14 columns</p>\n",
              "</div>"
            ],
            "text/plain": [
              "      days_of_stay  genre   age  kids destination  ...  IT  NL  PE  UK  US\n",
              "0              7.0      1  40.0   0.0          CO  ...   0   0   0   0   0\n",
              "2              4.0      1  39.0   1.0          ES  ...   0   0   0   0   0\n",
              "3              5.0      1  45.0   0.0          NL  ...   0   1   0   0   0\n",
              "4              5.0      0  45.0   1.0          UK  ...   0   0   0   1   0\n",
              "5              7.0      1  47.0   1.0          IT  ...   1   0   0   0   0\n",
              "...            ...    ...   ...   ...         ...  ...  ..  ..  ..  ..  ..\n",
              "9863           2.0      1  42.0   0.0          ES  ...   0   0   0   0   0\n",
              "9864           6.0      0  43.0   1.0          PE  ...   0   0   1   0   0\n",
              "9865           4.0      0  39.0   0.0          IT  ...   1   0   0   0   0\n",
              "9866           3.0      0  37.0   1.0          IT  ...   1   0   0   0   0\n",
              "9867           3.0      1  49.0   1.0          IT  ...   1   0   0   0   0\n",
              "\n",
              "[7202 rows x 14 columns]"
            ]
          },
          "metadata": {
            "tags": []
          },
          "execution_count": 102
        }
      ]
    },
    {
      "cell_type": "code",
      "metadata": {
        "id": "CzyzYzcGPOxG"
      },
      "source": [
        ""
      ],
      "execution_count": 102,
      "outputs": []
    },
    {
      "cell_type": "code",
      "metadata": {
        "id": "6fd0NTvLVh7y"
      },
      "source": [
        "bool_columns = ['genre', 'kids', 'accommodation_type']\n",
        "df[bool_columns] = df[bool_columns].astype(float)"
      ],
      "execution_count": 103,
      "outputs": []
    },
    {
      "cell_type": "code",
      "metadata": {
        "colab": {
          "base_uri": "https://localhost:8080/"
        },
        "id": "XM3vY_rrWAAY",
        "outputId": "ae246a72-b995-4401-82c5-c82eaf6d0336"
      },
      "source": [
        "df.dtypes"
      ],
      "execution_count": 104,
      "outputs": [
        {
          "output_type": "execute_result",
          "data": {
            "text/plain": [
              "days_of_stay          float64\n",
              "genre                 float64\n",
              "age                   float64\n",
              "kids                  float64\n",
              "destination            object\n",
              "accommodation_type    float64\n",
              "AR                      uint8\n",
              "CO                      uint8\n",
              "ES                      uint8\n",
              "IT                      uint8\n",
              "NL                      uint8\n",
              "PE                      uint8\n",
              "UK                      uint8\n",
              "US                      uint8\n",
              "dtype: object"
            ]
          },
          "metadata": {
            "tags": []
          },
          "execution_count": 104
        }
      ]
    },
    {
      "cell_type": "markdown",
      "metadata": {
        "id": "ESPGsVDdQuVP"
      },
      "source": [
        "# **Modelamiento:** \n",
        "usar modelos integrados en [Sklearn](https://scikit-learn.org/stable/) y optimizar para encontrar el mejor rendimiento.\n",
        "\n",
        "Para este proceso es fundamental dividir el data set en training/validation/test y elegir una métrica de comparación."
      ]
    },
    {
      "cell_type": "markdown",
      "metadata": {
        "id": "DVUjNpWz5PEL"
      },
      "source": [
        "## Árbol de decisión\n",
        "\n",
        "Los árboles de decisión son una técnica de aprendizaje automático supervisado muy utilizada en muchos negocios. Como su nombre indica, esta técnica de machine learning toma una serie de decisiones en forma de árbol. Los árboles de decisión pueden usarse para resolver problemas tanto de clasificación como de regresión."
      ]
    },
    {
      "cell_type": "code",
      "metadata": {
        "id": "roCqGT4HQ0a-"
      },
      "source": [
        "from sklearn.model_selection import train_test_split\n",
        "from sklearn import metrics\n",
        "from sklearn.tree import DecisionTreeClassifier\n",
        "\n",
        "import seaborn as sns"
      ],
      "execution_count": 105,
      "outputs": []
    },
    {
      "cell_type": "markdown",
      "metadata": {
        "id": "YhfEQmTX2l0u"
      },
      "source": [
        "A continuación vamos a generar una lista con los nombres de las columnas que van a servir de entrenamiento y otra con los valores de salida."
      ]
    },
    {
      "cell_type": "code",
      "metadata": {
        "id": "KITCekje2klc"
      },
      "source": [
        "feature_cols = ['days_of_stay', 'genre', 'age', 'kids', 'CO', 'ES', 'NL', 'UK', 'IT', 'AR', 'PE', 'US']\n",
        "x = df[feature_cols]\n",
        "x = x.values.tolist()\n",
        "y = df.accommodation_type\n",
        "y = y.values.tolist()"
      ],
      "execution_count": 106,
      "outputs": []
    },
    {
      "cell_type": "code",
      "metadata": {
        "colab": {
          "base_uri": "https://localhost:8080/"
        },
        "id": "-XuW8eCtQndY",
        "outputId": "82c892a3-ccd2-4bd6-f3b3-1bb418d95d1a"
      },
      "source": [
        "x[0:5]"
      ],
      "execution_count": 107,
      "outputs": [
        {
          "output_type": "execute_result",
          "data": {
            "text/plain": [
              "[[7.0, 1.0, 40.0, 0.0, 1.0, 0.0, 0.0, 0.0, 0.0, 0.0, 0.0, 0.0],\n",
              " [4.0, 1.0, 39.0, 1.0, 0.0, 1.0, 0.0, 0.0, 0.0, 0.0, 0.0, 0.0],\n",
              " [5.0, 1.0, 45.0, 0.0, 0.0, 0.0, 1.0, 0.0, 0.0, 0.0, 0.0, 0.0],\n",
              " [5.0, 0.0, 45.0, 1.0, 0.0, 0.0, 0.0, 1.0, 0.0, 0.0, 0.0, 0.0],\n",
              " [7.0, 1.0, 47.0, 1.0, 0.0, 0.0, 0.0, 0.0, 1.0, 0.0, 0.0, 0.0]]"
            ]
          },
          "metadata": {
            "tags": []
          },
          "execution_count": 107
        }
      ]
    },
    {
      "cell_type": "code",
      "metadata": {
        "colab": {
          "base_uri": "https://localhost:8080/"
        },
        "id": "MQ9gsLjwR5np",
        "outputId": "64db0a20-a00f-4aee-b3d6-d672ec208ce4"
      },
      "source": [
        "y[0:5]"
      ],
      "execution_count": 108,
      "outputs": [
        {
          "output_type": "execute_result",
          "data": {
            "text/plain": [
              "[1.0, 0.0, 0.0, 0.0, 1.0]"
            ]
          },
          "metadata": {
            "tags": []
          },
          "execution_count": 108
        }
      ]
    },
    {
      "cell_type": "code",
      "metadata": {
        "id": "IZegKcal3Uop"
      },
      "source": [
        "X_train, X_test, Y_train, Y_test = train_test_split(x, y, test_size=0.25, random_state=1)"
      ],
      "execution_count": 109,
      "outputs": []
    },
    {
      "cell_type": "code",
      "metadata": {
        "id": "HBEbYaE0N7CF"
      },
      "source": [
        "tree = DecisionTreeClassifier(max_depth=2, random_state=42)"
      ],
      "execution_count": 110,
      "outputs": []
    },
    {
      "cell_type": "code",
      "metadata": {
        "colab": {
          "base_uri": "https://localhost:8080/"
        },
        "id": "dpZ0VqV4OCXR",
        "outputId": "d0e18599-072c-4e5c-a946-20b5cda04600"
      },
      "source": [
        "tree.fit(X_train, Y_train)"
      ],
      "execution_count": 111,
      "outputs": [
        {
          "output_type": "execute_result",
          "data": {
            "text/plain": [
              "DecisionTreeClassifier(ccp_alpha=0.0, class_weight=None, criterion='gini',\n",
              "                       max_depth=2, max_features=None, max_leaf_nodes=None,\n",
              "                       min_impurity_decrease=0.0, min_impurity_split=None,\n",
              "                       min_samples_leaf=1, min_samples_split=2,\n",
              "                       min_weight_fraction_leaf=0.0, presort='deprecated',\n",
              "                       random_state=42, splitter='best')"
            ]
          },
          "metadata": {
            "tags": []
          },
          "execution_count": 111
        }
      ]
    },
    {
      "cell_type": "code",
      "metadata": {
        "colab": {
          "base_uri": "https://localhost:8080/"
        },
        "id": "FFqIhEoOS2KL",
        "outputId": "8db7a053-d599-4eb3-b9fe-8c8371e4f169"
      },
      "source": [
        "predict = tree.predict(X_test)\n",
        "predict"
      ],
      "execution_count": 112,
      "outputs": [
        {
          "output_type": "execute_result",
          "data": {
            "text/plain": [
              "array([0., 0., 0., ..., 0., 0., 0.])"
            ]
          },
          "metadata": {
            "tags": []
          },
          "execution_count": 112
        }
      ]
    },
    {
      "cell_type": "code",
      "metadata": {
        "colab": {
          "base_uri": "https://localhost:8080/"
        },
        "id": "ljfKm4XoTahX",
        "outputId": "c778e552-8269-47ea-8e91-942a45cd6b89"
      },
      "source": [
        "np.unique(predict)"
      ],
      "execution_count": 113,
      "outputs": [
        {
          "output_type": "execute_result",
          "data": {
            "text/plain": [
              "array([0., 1.])"
            ]
          },
          "metadata": {
            "tags": []
          },
          "execution_count": 113
        }
      ]
    },
    {
      "cell_type": "code",
      "metadata": {
        "colab": {
          "base_uri": "https://localhost:8080/"
        },
        "id": "-OdXtSGBYBaV",
        "outputId": "c554fca9-d44a-4d5b-da0a-52d6a665e3bd"
      },
      "source": [
        "tree_one_accuracy = round(tree.score(X_test,Y_test), 4)\n",
        "tree_one_accuracy"
      ],
      "execution_count": 114,
      "outputs": [
        {
          "output_type": "execute_result",
          "data": {
            "text/plain": [
              "0.5536"
            ]
          },
          "metadata": {
            "tags": []
          },
          "execution_count": 114
        }
      ]
    },
    {
      "cell_type": "code",
      "metadata": {
        "colab": {
          "base_uri": "https://localhost:8080/"
        },
        "id": "4K8jDB3tgren",
        "outputId": "04200f64-1198-408f-aea0-596481da6156"
      },
      "source": [
        "print(f\"\"\"\n",
        "Exactitud: {metrics.accuracy_score(Y_test, predict)}\n",
        "Precisión: {metrics.precision_score(Y_test, predict)}\n",
        "Sensibilidad: {metrics.recall_score(Y_test, predict)}\n",
        "Puntaje F1: {metrics.f1_score(Y_test, predict)}\n",
        "\"\"\")"
      ],
      "execution_count": 115,
      "outputs": [
        {
          "output_type": "stream",
          "text": [
            "\n",
            "Exactitud: 0.5535813436979455\n",
            "Precisión: 0.5\n",
            "Sensibilidad: 0.0024875621890547263\n",
            "Puntaje F1: 0.00495049504950495\n",
            "\n"
          ],
          "name": "stdout"
        }
      ]
    },
    {
      "cell_type": "markdown",
      "metadata": {
        "id": "yWhqbbay-Oby"
      },
      "source": [
        "### Normalizando el dataframe\n",
        "\n"
      ]
    },
    {
      "cell_type": "code",
      "metadata": {
        "id": "hoyMgYOV-Ndt"
      },
      "source": [
        "from sklearn.preprocessing import StandardScaler\n",
        "\n",
        "scaler = StandardScaler()\n",
        "scaler.fit(X_train)\n",
        "x_train_scaled = scaler.transform(X_train)\n",
        "x_test_scaled = scaler.transform(X_test)"
      ],
      "execution_count": 116,
      "outputs": []
    },
    {
      "cell_type": "code",
      "metadata": {
        "colab": {
          "base_uri": "https://localhost:8080/"
        },
        "id": "fazeKkgWAl4E",
        "outputId": "306b10b1-6003-49ee-d313-71f59e04d2b3"
      },
      "source": [
        "tree.fit(x_train_scaled, Y_train)"
      ],
      "execution_count": 117,
      "outputs": [
        {
          "output_type": "execute_result",
          "data": {
            "text/plain": [
              "DecisionTreeClassifier(ccp_alpha=0.0, class_weight=None, criterion='gini',\n",
              "                       max_depth=2, max_features=None, max_leaf_nodes=None,\n",
              "                       min_impurity_decrease=0.0, min_impurity_split=None,\n",
              "                       min_samples_leaf=1, min_samples_split=2,\n",
              "                       min_weight_fraction_leaf=0.0, presort='deprecated',\n",
              "                       random_state=42, splitter='best')"
            ]
          },
          "metadata": {
            "tags": []
          },
          "execution_count": 117
        }
      ]
    },
    {
      "cell_type": "code",
      "metadata": {
        "colab": {
          "base_uri": "https://localhost:8080/"
        },
        "id": "OMhS3JBiBeip",
        "outputId": "a7e84c77-b285-4efa-ab81-598859868e35"
      },
      "source": [
        "predict = tree.predict(x_test_scaled)\n",
        "predict"
      ],
      "execution_count": 118,
      "outputs": [
        {
          "output_type": "execute_result",
          "data": {
            "text/plain": [
              "array([0., 0., 0., ..., 0., 0., 0.])"
            ]
          },
          "metadata": {
            "tags": []
          },
          "execution_count": 118
        }
      ]
    },
    {
      "cell_type": "code",
      "metadata": {
        "colab": {
          "base_uri": "https://localhost:8080/"
        },
        "id": "nLCIhUvDBmO_",
        "outputId": "ca1df0fd-6e05-4302-dce7-110a03be6c14"
      },
      "source": [
        "np.unique(predict)"
      ],
      "execution_count": 119,
      "outputs": [
        {
          "output_type": "execute_result",
          "data": {
            "text/plain": [
              "array([0., 1.])"
            ]
          },
          "metadata": {
            "tags": []
          },
          "execution_count": 119
        }
      ]
    },
    {
      "cell_type": "code",
      "metadata": {
        "colab": {
          "base_uri": "https://localhost:8080/"
        },
        "id": "9suw7tX7Boqr",
        "outputId": "5cbc1389-d5cf-445e-9841-7a1fde9fe84a"
      },
      "source": [
        "tree_one_accuracy = round(tree.score(x_test_scaled,Y_test), 4)\n",
        "tree_one_accuracy"
      ],
      "execution_count": 120,
      "outputs": [
        {
          "output_type": "execute_result",
          "data": {
            "text/plain": [
              "0.5536"
            ]
          },
          "metadata": {
            "tags": []
          },
          "execution_count": 120
        }
      ]
    },
    {
      "cell_type": "markdown",
      "metadata": {
        "id": "35FoUjcMK802"
      },
      "source": [
        "# Utilizando Keras\n",
        "\n",
        "Dado que la precisión aún sigue siendo baja, procederemos a utilizar otro modelo. Utilizaremos Keras para crear la red neuronal.\n",
        "\n",
        "## ¿Por qué realice el cambio a Keras?\n",
        "\n",
        "Keras ofrece una simplicidad enorme para crear redes neuronales, el código es más limpio y relativamente fácil de implementar. También, las redes neuronales aprenden con una mayor facilidad que con los modelos ya establecidos en SciKit Learn, esto puede hacer que el accuracy (precisión) de los modelos aumente drásticamente, y no resulten con el actual accuracy de apróximadamente 50%."
      ]
    },
    {
      "cell_type": "code",
      "metadata": {
        "id": "jMDtqzEiLDfQ"
      },
      "source": [
        "from keras.models import Sequential\n",
        "from keras.layers import Dense"
      ],
      "execution_count": 121,
      "outputs": []
    },
    {
      "cell_type": "code",
      "metadata": {
        "id": "gLQnPCQgL1gF"
      },
      "source": [
        "x = df[feature_cols]\n",
        "y = df['accommodation_type']"
      ],
      "execution_count": 122,
      "outputs": []
    },
    {
      "cell_type": "code",
      "metadata": {
        "id": "iNljiRDOL7xQ"
      },
      "source": [
        "X_train, X_test, Y_train, Y_test = train_test_split(x, y, test_size=0.25, random_state=1)"
      ],
      "execution_count": 123,
      "outputs": []
    },
    {
      "cell_type": "code",
      "metadata": {
        "id": "NoqVIXLNMVnW"
      },
      "source": [
        "X_train, X_val, Y_train, Y_val = train_test_split(X_train, Y_train, test_size = 0.1, random_state=2021)"
      ],
      "execution_count": 124,
      "outputs": []
    },
    {
      "cell_type": "code",
      "metadata": {
        "colab": {
          "base_uri": "https://localhost:8080/"
        },
        "id": "a0p5KPxMLeQs",
        "outputId": "911876c5-dc7e-4381-b35c-4951dcd0eb5f"
      },
      "source": [
        "model = Sequential()\n",
        "model.add(Dense(256, input_dim = X_train.shape[1], activation='relu'))\n",
        "model.add(Dense(256, activation='relu'))\n",
        "model.add(Dense(1, activation='sigmoid'))\n",
        "model.compile(optimizer = 'Adam', loss='binary_crossentropy', metrics=['accuracy', 'mse'])\n",
        "\n",
        "print(model.summary())"
      ],
      "execution_count": 125,
      "outputs": [
        {
          "output_type": "stream",
          "text": [
            "Model: \"sequential_1\"\n",
            "_________________________________________________________________\n",
            "Layer (type)                 Output Shape              Param #   \n",
            "=================================================================\n",
            "dense_3 (Dense)              (None, 256)               3328      \n",
            "_________________________________________________________________\n",
            "dense_4 (Dense)              (None, 256)               65792     \n",
            "_________________________________________________________________\n",
            "dense_5 (Dense)              (None, 1)                 257       \n",
            "=================================================================\n",
            "Total params: 69,377\n",
            "Trainable params: 69,377\n",
            "Non-trainable params: 0\n",
            "_________________________________________________________________\n",
            "None\n"
          ],
          "name": "stdout"
        }
      ]
    },
    {
      "cell_type": "code",
      "metadata": {
        "colab": {
          "base_uri": "https://localhost:8080/"
        },
        "id": "_HHYxC5XLRlz",
        "outputId": "3a71310e-0d37-4695-f3a7-9992e0cedf99"
      },
      "source": [
        "model.fit(X_train, Y_train, validation_data=(X_val, Y_val), epochs=200, batch_size=128)"
      ],
      "execution_count": 126,
      "outputs": [
        {
          "output_type": "stream",
          "text": [
            "Epoch 1/200\n",
            "38/38 [==============================] - 2s 18ms/step - loss: 0.9388 - accuracy: 0.5266 - mse: 0.3193 - val_loss: 0.7694 - val_accuracy: 0.3863 - val_mse: 0.2873\n",
            "Epoch 2/200\n",
            "38/38 [==============================] - 0s 6ms/step - loss: 0.7178 - accuracy: 0.5010 - mse: 0.2616 - val_loss: 0.6686 - val_accuracy: 0.6137 - val_mse: 0.2378\n",
            "Epoch 3/200\n",
            "38/38 [==============================] - 0s 6ms/step - loss: 0.6970 - accuracy: 0.5463 - mse: 0.2516 - val_loss: 0.6808 - val_accuracy: 0.6026 - val_mse: 0.2439\n",
            "Epoch 4/200\n",
            "38/38 [==============================] - 0s 6ms/step - loss: 0.6870 - accuracy: 0.5666 - mse: 0.2469 - val_loss: 0.6797 - val_accuracy: 0.6137 - val_mse: 0.2426\n",
            "Epoch 5/200\n",
            "38/38 [==============================] - 0s 6ms/step - loss: 0.7036 - accuracy: 0.5346 - mse: 0.2547 - val_loss: 0.6859 - val_accuracy: 0.5656 - val_mse: 0.2464\n",
            "Epoch 6/200\n",
            "38/38 [==============================] - 0s 6ms/step - loss: 0.7009 - accuracy: 0.5474 - mse: 0.2530 - val_loss: 0.6748 - val_accuracy: 0.5989 - val_mse: 0.2409\n",
            "Epoch 7/200\n",
            "38/38 [==============================] - 0s 7ms/step - loss: 0.7001 - accuracy: 0.5277 - mse: 0.2533 - val_loss: 0.7352 - val_accuracy: 0.3882 - val_mse: 0.2708\n",
            "Epoch 8/200\n",
            "38/38 [==============================] - 0s 7ms/step - loss: 0.6916 - accuracy: 0.5504 - mse: 0.2491 - val_loss: 0.6689 - val_accuracy: 0.6137 - val_mse: 0.2379\n",
            "Epoch 9/200\n",
            "38/38 [==============================] - 0s 6ms/step - loss: 0.6983 - accuracy: 0.5219 - mse: 0.2523 - val_loss: 0.6725 - val_accuracy: 0.6137 - val_mse: 0.2395\n",
            "Epoch 10/200\n",
            "38/38 [==============================] - 0s 7ms/step - loss: 0.6953 - accuracy: 0.5466 - mse: 0.2508 - val_loss: 0.6683 - val_accuracy: 0.6137 - val_mse: 0.2377\n",
            "Epoch 11/200\n",
            "38/38 [==============================] - 0s 6ms/step - loss: 0.6917 - accuracy: 0.5561 - mse: 0.2490 - val_loss: 0.7098 - val_accuracy: 0.4251 - val_mse: 0.2583\n",
            "Epoch 12/200\n",
            "38/38 [==============================] - 0s 6ms/step - loss: 0.6883 - accuracy: 0.5389 - mse: 0.2475 - val_loss: 0.7059 - val_accuracy: 0.6137 - val_mse: 0.2530\n",
            "Epoch 13/200\n",
            "38/38 [==============================] - 0s 6ms/step - loss: 0.7119 - accuracy: 0.5396 - mse: 0.2580 - val_loss: 0.6746 - val_accuracy: 0.6026 - val_mse: 0.2408\n",
            "Epoch 14/200\n",
            "38/38 [==============================] - 0s 6ms/step - loss: 0.6860 - accuracy: 0.5563 - mse: 0.2464 - val_loss: 0.6858 - val_accuracy: 0.6137 - val_mse: 0.2450\n",
            "Epoch 15/200\n",
            "38/38 [==============================] - 0s 4ms/step - loss: 0.7047 - accuracy: 0.5434 - mse: 0.2550 - val_loss: 0.6667 - val_accuracy: 0.6137 - val_mse: 0.2369\n",
            "Epoch 16/200\n",
            "38/38 [==============================] - 0s 5ms/step - loss: 0.6857 - accuracy: 0.5516 - mse: 0.2463 - val_loss: 0.6645 - val_accuracy: 0.6118 - val_mse: 0.2359\n",
            "Epoch 17/200\n",
            "38/38 [==============================] - 0s 5ms/step - loss: 0.6739 - accuracy: 0.5761 - mse: 0.2405 - val_loss: 0.6616 - val_accuracy: 0.6137 - val_mse: 0.2345\n",
            "Epoch 18/200\n",
            "38/38 [==============================] - 0s 4ms/step - loss: 0.6768 - accuracy: 0.5721 - mse: 0.2419 - val_loss: 0.6568 - val_accuracy: 0.6137 - val_mse: 0.2324\n",
            "Epoch 19/200\n",
            "38/38 [==============================] - 0s 4ms/step - loss: 0.6801 - accuracy: 0.5733 - mse: 0.2434 - val_loss: 0.6632 - val_accuracy: 0.6081 - val_mse: 0.2352\n",
            "Epoch 20/200\n",
            "38/38 [==============================] - 0s 4ms/step - loss: 0.6742 - accuracy: 0.5765 - mse: 0.2407 - val_loss: 0.6492 - val_accuracy: 0.6359 - val_mse: 0.2287\n",
            "Epoch 21/200\n",
            "38/38 [==============================] - 0s 4ms/step - loss: 0.6691 - accuracy: 0.5902 - mse: 0.2383 - val_loss: 0.6448 - val_accuracy: 0.6359 - val_mse: 0.2267\n",
            "Epoch 22/200\n",
            "38/38 [==============================] - 0s 4ms/step - loss: 0.6639 - accuracy: 0.5933 - mse: 0.2360 - val_loss: 0.6444 - val_accuracy: 0.6451 - val_mse: 0.2266\n",
            "Epoch 23/200\n",
            "38/38 [==============================] - 0s 4ms/step - loss: 0.6531 - accuracy: 0.6103 - mse: 0.2310 - val_loss: 0.6384 - val_accuracy: 0.6266 - val_mse: 0.2240\n",
            "Epoch 24/200\n",
            "38/38 [==============================] - 0s 4ms/step - loss: 0.6592 - accuracy: 0.5845 - mse: 0.2341 - val_loss: 0.6387 - val_accuracy: 0.6433 - val_mse: 0.2240\n",
            "Epoch 25/200\n",
            "38/38 [==============================] - 0s 5ms/step - loss: 0.6610 - accuracy: 0.5987 - mse: 0.2348 - val_loss: 0.6321 - val_accuracy: 0.6340 - val_mse: 0.2211\n",
            "Epoch 26/200\n",
            "38/38 [==============================] - 0s 5ms/step - loss: 0.6511 - accuracy: 0.5916 - mse: 0.2305 - val_loss: 0.6315 - val_accuracy: 0.6377 - val_mse: 0.2213\n",
            "Epoch 27/200\n",
            "38/38 [==============================] - 0s 4ms/step - loss: 0.6415 - accuracy: 0.6093 - mse: 0.2260 - val_loss: 0.6293 - val_accuracy: 0.6396 - val_mse: 0.2205\n",
            "Epoch 28/200\n",
            "38/38 [==============================] - 0s 5ms/step - loss: 0.6350 - accuracy: 0.6263 - mse: 0.2228 - val_loss: 0.6473 - val_accuracy: 0.6359 - val_mse: 0.2281\n",
            "Epoch 29/200\n",
            "38/38 [==============================] - 0s 4ms/step - loss: 0.6395 - accuracy: 0.6309 - mse: 0.2249 - val_loss: 0.6297 - val_accuracy: 0.6858 - val_mse: 0.2195\n",
            "Epoch 30/200\n",
            "38/38 [==============================] - 0s 4ms/step - loss: 0.6252 - accuracy: 0.6361 - mse: 0.2185 - val_loss: 0.6586 - val_accuracy: 0.6248 - val_mse: 0.2337\n",
            "Epoch 31/200\n",
            "38/38 [==============================] - 0s 4ms/step - loss: 0.6293 - accuracy: 0.6429 - mse: 0.2201 - val_loss: 0.6531 - val_accuracy: 0.6174 - val_mse: 0.2316\n",
            "Epoch 32/200\n",
            "38/38 [==============================] - 0s 4ms/step - loss: 0.6232 - accuracy: 0.6448 - mse: 0.2179 - val_loss: 0.6343 - val_accuracy: 0.6488 - val_mse: 0.2230\n",
            "Epoch 33/200\n",
            "38/38 [==============================] - 0s 4ms/step - loss: 0.6256 - accuracy: 0.6309 - mse: 0.2187 - val_loss: 0.6124 - val_accuracy: 0.6562 - val_mse: 0.2127\n",
            "Epoch 34/200\n",
            "38/38 [==============================] - 0s 4ms/step - loss: 0.6195 - accuracy: 0.6354 - mse: 0.2161 - val_loss: 0.6255 - val_accuracy: 0.6488 - val_mse: 0.2186\n",
            "Epoch 35/200\n",
            "38/38 [==============================] - 0s 5ms/step - loss: 0.6129 - accuracy: 0.6696 - mse: 0.2125 - val_loss: 0.5992 - val_accuracy: 0.6636 - val_mse: 0.2068\n",
            "Epoch 36/200\n",
            "38/38 [==============================] - 0s 4ms/step - loss: 0.6136 - accuracy: 0.6620 - mse: 0.2136 - val_loss: 0.5974 - val_accuracy: 0.6747 - val_mse: 0.2059\n",
            "Epoch 37/200\n",
            "38/38 [==============================] - 0s 4ms/step - loss: 0.5925 - accuracy: 0.6919 - mse: 0.2037 - val_loss: 0.6552 - val_accuracy: 0.6248 - val_mse: 0.2325\n",
            "Epoch 38/200\n",
            "38/38 [==============================] - 0s 5ms/step - loss: 0.6087 - accuracy: 0.6567 - mse: 0.2112 - val_loss: 0.5802 - val_accuracy: 0.7227 - val_mse: 0.1982\n",
            "Epoch 39/200\n",
            "38/38 [==============================] - 0s 5ms/step - loss: 0.6020 - accuracy: 0.6559 - mse: 0.2087 - val_loss: 0.6483 - val_accuracy: 0.6211 - val_mse: 0.2296\n",
            "Epoch 40/200\n",
            "38/38 [==============================] - 0s 4ms/step - loss: 0.5957 - accuracy: 0.6892 - mse: 0.2054 - val_loss: 0.5774 - val_accuracy: 0.7301 - val_mse: 0.1964\n",
            "Epoch 41/200\n",
            "38/38 [==============================] - 0s 5ms/step - loss: 0.5844 - accuracy: 0.6924 - mse: 0.2001 - val_loss: 0.5665 - val_accuracy: 0.7486 - val_mse: 0.1917\n",
            "Epoch 42/200\n",
            "38/38 [==============================] - 0s 4ms/step - loss: 0.5662 - accuracy: 0.7235 - mse: 0.1919 - val_loss: 0.5681 - val_accuracy: 0.7320 - val_mse: 0.1932\n",
            "Epoch 43/200\n",
            "38/38 [==============================] - 0s 5ms/step - loss: 0.5914 - accuracy: 0.6825 - mse: 0.2031 - val_loss: 0.5625 - val_accuracy: 0.7412 - val_mse: 0.1895\n",
            "Epoch 44/200\n",
            "38/38 [==============================] - 0s 6ms/step - loss: 0.5610 - accuracy: 0.7306 - mse: 0.1895 - val_loss: 0.5659 - val_accuracy: 0.7190 - val_mse: 0.1910\n",
            "Epoch 45/200\n",
            "38/38 [==============================] - 0s 6ms/step - loss: 0.5594 - accuracy: 0.7256 - mse: 0.1891 - val_loss: 0.5540 - val_accuracy: 0.7652 - val_mse: 0.1851\n",
            "Epoch 46/200\n",
            "38/38 [==============================] - 0s 6ms/step - loss: 0.5534 - accuracy: 0.7540 - mse: 0.1852 - val_loss: 0.5501 - val_accuracy: 0.7542 - val_mse: 0.1841\n",
            "Epoch 47/200\n",
            "38/38 [==============================] - 0s 6ms/step - loss: 0.5577 - accuracy: 0.7419 - mse: 0.1866 - val_loss: 0.5979 - val_accuracy: 0.6987 - val_mse: 0.2049\n",
            "Epoch 48/200\n",
            "38/38 [==============================] - 0s 5ms/step - loss: 0.5450 - accuracy: 0.7439 - mse: 0.1817 - val_loss: 0.5428 - val_accuracy: 0.7689 - val_mse: 0.1801\n",
            "Epoch 49/200\n",
            "38/38 [==============================] - 0s 5ms/step - loss: 0.5328 - accuracy: 0.7584 - mse: 0.1764 - val_loss: 0.5196 - val_accuracy: 0.7634 - val_mse: 0.1705\n",
            "Epoch 50/200\n",
            "38/38 [==============================] - 0s 4ms/step - loss: 0.5428 - accuracy: 0.7281 - mse: 0.1815 - val_loss: 0.5244 - val_accuracy: 0.7708 - val_mse: 0.1719\n",
            "Epoch 51/200\n",
            "38/38 [==============================] - 0s 4ms/step - loss: 0.5317 - accuracy: 0.7467 - mse: 0.1773 - val_loss: 0.5323 - val_accuracy: 0.7856 - val_mse: 0.1752\n",
            "Epoch 52/200\n",
            "38/38 [==============================] - 0s 4ms/step - loss: 0.5166 - accuracy: 0.7766 - mse: 0.1690 - val_loss: 0.5118 - val_accuracy: 0.7689 - val_mse: 0.1670\n",
            "Epoch 53/200\n",
            "38/38 [==============================] - 0s 4ms/step - loss: 0.5097 - accuracy: 0.7654 - mse: 0.1665 - val_loss: 0.5496 - val_accuracy: 0.7098 - val_mse: 0.1858\n",
            "Epoch 54/200\n",
            "38/38 [==============================] - 0s 4ms/step - loss: 0.5440 - accuracy: 0.7357 - mse: 0.1812 - val_loss: 0.5202 - val_accuracy: 0.7837 - val_mse: 0.1691\n",
            "Epoch 55/200\n",
            "38/38 [==============================] - 0s 4ms/step - loss: 0.4938 - accuracy: 0.7881 - mse: 0.1599 - val_loss: 0.5171 - val_accuracy: 0.7634 - val_mse: 0.1692\n",
            "Epoch 56/200\n",
            "38/38 [==============================] - 0s 4ms/step - loss: 0.4911 - accuracy: 0.7853 - mse: 0.1593 - val_loss: 0.5076 - val_accuracy: 0.7726 - val_mse: 0.1665\n",
            "Epoch 57/200\n",
            "38/38 [==============================] - 0s 6ms/step - loss: 0.4949 - accuracy: 0.7971 - mse: 0.1599 - val_loss: 0.5057 - val_accuracy: 0.7856 - val_mse: 0.1645\n",
            "Epoch 58/200\n",
            "38/38 [==============================] - 0s 5ms/step - loss: 0.4948 - accuracy: 0.7901 - mse: 0.1598 - val_loss: 0.5202 - val_accuracy: 0.7763 - val_mse: 0.1689\n",
            "Epoch 59/200\n",
            "38/38 [==============================] - 0s 5ms/step - loss: 0.4900 - accuracy: 0.7866 - mse: 0.1581 - val_loss: 0.5135 - val_accuracy: 0.7800 - val_mse: 0.1672\n",
            "Epoch 60/200\n",
            "38/38 [==============================] - 0s 6ms/step - loss: 0.4910 - accuracy: 0.7864 - mse: 0.1587 - val_loss: 0.4953 - val_accuracy: 0.8041 - val_mse: 0.1591\n",
            "Epoch 61/200\n",
            "38/38 [==============================] - 0s 6ms/step - loss: 0.4892 - accuracy: 0.7867 - mse: 0.1571 - val_loss: 0.5065 - val_accuracy: 0.7837 - val_mse: 0.1630\n",
            "Epoch 62/200\n",
            "38/38 [==============================] - 0s 6ms/step - loss: 0.4782 - accuracy: 0.7963 - mse: 0.1521 - val_loss: 0.5282 - val_accuracy: 0.7930 - val_mse: 0.1717\n",
            "Epoch 63/200\n",
            "38/38 [==============================] - 0s 6ms/step - loss: 0.4842 - accuracy: 0.7948 - mse: 0.1554 - val_loss: 0.5041 - val_accuracy: 0.7930 - val_mse: 0.1628\n",
            "Epoch 64/200\n",
            "38/38 [==============================] - 0s 6ms/step - loss: 0.4758 - accuracy: 0.8094 - mse: 0.1512 - val_loss: 0.4982 - val_accuracy: 0.8041 - val_mse: 0.1583\n",
            "Epoch 65/200\n",
            "38/38 [==============================] - 0s 7ms/step - loss: 0.4639 - accuracy: 0.8184 - mse: 0.1467 - val_loss: 0.5004 - val_accuracy: 0.7985 - val_mse: 0.1596\n",
            "Epoch 66/200\n",
            "38/38 [==============================] - 0s 7ms/step - loss: 0.4851 - accuracy: 0.7913 - mse: 0.1558 - val_loss: 0.5984 - val_accuracy: 0.6987 - val_mse: 0.2005\n",
            "Epoch 67/200\n",
            "38/38 [==============================] - 0s 6ms/step - loss: 0.4965 - accuracy: 0.7848 - mse: 0.1602 - val_loss: 0.5333 - val_accuracy: 0.7689 - val_mse: 0.1730\n",
            "Epoch 68/200\n",
            "38/38 [==============================] - 1s 14ms/step - loss: 0.4945 - accuracy: 0.7836 - mse: 0.1591 - val_loss: 0.4879 - val_accuracy: 0.7782 - val_mse: 0.1560\n",
            "Epoch 69/200\n",
            "38/38 [==============================] - 0s 6ms/step - loss: 0.4992 - accuracy: 0.7691 - mse: 0.1620 - val_loss: 0.4944 - val_accuracy: 0.7930 - val_mse: 0.1591\n",
            "Epoch 70/200\n",
            "38/38 [==============================] - 0s 6ms/step - loss: 0.4938 - accuracy: 0.7931 - mse: 0.1591 - val_loss: 0.5443 - val_accuracy: 0.7542 - val_mse: 0.1781\n",
            "Epoch 71/200\n",
            "38/38 [==============================] - 0s 6ms/step - loss: 0.4813 - accuracy: 0.7942 - mse: 0.1541 - val_loss: 0.5064 - val_accuracy: 0.7616 - val_mse: 0.1636\n",
            "Epoch 72/200\n",
            "38/38 [==============================] - 0s 6ms/step - loss: 0.4859 - accuracy: 0.7868 - mse: 0.1557 - val_loss: 0.5440 - val_accuracy: 0.7763 - val_mse: 0.1777\n",
            "Epoch 73/200\n",
            "38/38 [==============================] - 0s 6ms/step - loss: 0.4683 - accuracy: 0.8086 - mse: 0.1487 - val_loss: 0.5070 - val_accuracy: 0.7985 - val_mse: 0.1623\n",
            "Epoch 74/200\n",
            "38/38 [==============================] - 0s 7ms/step - loss: 0.4821 - accuracy: 0.8030 - mse: 0.1540 - val_loss: 0.4943 - val_accuracy: 0.8115 - val_mse: 0.1566\n",
            "Epoch 75/200\n",
            "38/38 [==============================] - 0s 6ms/step - loss: 0.4558 - accuracy: 0.8155 - mse: 0.1431 - val_loss: 0.5425 - val_accuracy: 0.7486 - val_mse: 0.1793\n",
            "Epoch 76/200\n",
            "38/38 [==============================] - 0s 6ms/step - loss: 0.4671 - accuracy: 0.8127 - mse: 0.1478 - val_loss: 0.5144 - val_accuracy: 0.7726 - val_mse: 0.1661\n",
            "Epoch 77/200\n",
            "38/38 [==============================] - 0s 7ms/step - loss: 0.4656 - accuracy: 0.8059 - mse: 0.1484 - val_loss: 0.4970 - val_accuracy: 0.8022 - val_mse: 0.1577\n",
            "Epoch 78/200\n",
            "38/38 [==============================] - 0s 6ms/step - loss: 0.4566 - accuracy: 0.8152 - mse: 0.1445 - val_loss: 0.4983 - val_accuracy: 0.8022 - val_mse: 0.1580\n",
            "Epoch 79/200\n",
            "38/38 [==============================] - 0s 6ms/step - loss: 0.4648 - accuracy: 0.8111 - mse: 0.1474 - val_loss: 0.4998 - val_accuracy: 0.7616 - val_mse: 0.1612\n",
            "Epoch 80/200\n",
            "38/38 [==============================] - 0s 6ms/step - loss: 0.4590 - accuracy: 0.8128 - mse: 0.1448 - val_loss: 0.4898 - val_accuracy: 0.8078 - val_mse: 0.1565\n",
            "Epoch 81/200\n",
            "38/38 [==============================] - 0s 7ms/step - loss: 0.4653 - accuracy: 0.8156 - mse: 0.1469 - val_loss: 0.4846 - val_accuracy: 0.8096 - val_mse: 0.1539\n",
            "Epoch 82/200\n",
            "38/38 [==============================] - 0s 6ms/step - loss: 0.4768 - accuracy: 0.8071 - mse: 0.1511 - val_loss: 0.4925 - val_accuracy: 0.8022 - val_mse: 0.1572\n",
            "Epoch 83/200\n",
            "38/38 [==============================] - 0s 6ms/step - loss: 0.4727 - accuracy: 0.8121 - mse: 0.1496 - val_loss: 0.5183 - val_accuracy: 0.7948 - val_mse: 0.1656\n",
            "Epoch 84/200\n",
            "38/38 [==============================] - 0s 6ms/step - loss: 0.4536 - accuracy: 0.8186 - mse: 0.1428 - val_loss: 0.5119 - val_accuracy: 0.8004 - val_mse: 0.1643\n",
            "Epoch 85/200\n",
            "38/38 [==============================] - 0s 7ms/step - loss: 0.4767 - accuracy: 0.8016 - mse: 0.1515 - val_loss: 0.4820 - val_accuracy: 0.8170 - val_mse: 0.1509\n",
            "Epoch 86/200\n",
            "38/38 [==============================] - 0s 6ms/step - loss: 0.4491 - accuracy: 0.8293 - mse: 0.1400 - val_loss: 0.4841 - val_accuracy: 0.8096 - val_mse: 0.1525\n",
            "Epoch 87/200\n",
            "38/38 [==============================] - 0s 6ms/step - loss: 0.4572 - accuracy: 0.8237 - mse: 0.1441 - val_loss: 0.4945 - val_accuracy: 0.8059 - val_mse: 0.1564\n",
            "Epoch 88/200\n",
            "38/38 [==============================] - 0s 6ms/step - loss: 0.4620 - accuracy: 0.8048 - mse: 0.1467 - val_loss: 0.4929 - val_accuracy: 0.8041 - val_mse: 0.1570\n",
            "Epoch 89/200\n",
            "38/38 [==============================] - 0s 7ms/step - loss: 0.4674 - accuracy: 0.8010 - mse: 0.1482 - val_loss: 0.4909 - val_accuracy: 0.8078 - val_mse: 0.1549\n",
            "Epoch 90/200\n",
            "38/38 [==============================] - 0s 7ms/step - loss: 0.4618 - accuracy: 0.8184 - mse: 0.1452 - val_loss: 0.4912 - val_accuracy: 0.7893 - val_mse: 0.1570\n",
            "Epoch 91/200\n",
            "38/38 [==============================] - 0s 7ms/step - loss: 0.4593 - accuracy: 0.8145 - mse: 0.1451 - val_loss: 0.5618 - val_accuracy: 0.7320 - val_mse: 0.1843\n",
            "Epoch 92/200\n",
            "38/38 [==============================] - 0s 6ms/step - loss: 0.4769 - accuracy: 0.7932 - mse: 0.1530 - val_loss: 0.4948 - val_accuracy: 0.8115 - val_mse: 0.1566\n",
            "Epoch 93/200\n",
            "38/38 [==============================] - 0s 6ms/step - loss: 0.4732 - accuracy: 0.8044 - mse: 0.1508 - val_loss: 0.5003 - val_accuracy: 0.7745 - val_mse: 0.1607\n",
            "Epoch 94/200\n",
            "38/38 [==============================] - 0s 7ms/step - loss: 0.4661 - accuracy: 0.8009 - mse: 0.1489 - val_loss: 0.4847 - val_accuracy: 0.8207 - val_mse: 0.1523\n",
            "Epoch 95/200\n",
            "38/38 [==============================] - 0s 6ms/step - loss: 0.4492 - accuracy: 0.8196 - mse: 0.1413 - val_loss: 0.4859 - val_accuracy: 0.8078 - val_mse: 0.1537\n",
            "Epoch 96/200\n",
            "38/38 [==============================] - 0s 7ms/step - loss: 0.4660 - accuracy: 0.8123 - mse: 0.1478 - val_loss: 0.4875 - val_accuracy: 0.7893 - val_mse: 0.1554\n",
            "Epoch 97/200\n",
            "38/38 [==============================] - 0s 7ms/step - loss: 0.4529 - accuracy: 0.8190 - mse: 0.1421 - val_loss: 0.4829 - val_accuracy: 0.8004 - val_mse: 0.1538\n",
            "Epoch 98/200\n",
            "38/38 [==============================] - 0s 6ms/step - loss: 0.4670 - accuracy: 0.8017 - mse: 0.1486 - val_loss: 0.4897 - val_accuracy: 0.8059 - val_mse: 0.1547\n",
            "Epoch 99/200\n",
            "38/38 [==============================] - 0s 6ms/step - loss: 0.4520 - accuracy: 0.8233 - mse: 0.1416 - val_loss: 0.4806 - val_accuracy: 0.8096 - val_mse: 0.1518\n",
            "Epoch 100/200\n",
            "38/38 [==============================] - 0s 5ms/step - loss: 0.4663 - accuracy: 0.8129 - mse: 0.1467 - val_loss: 0.4797 - val_accuracy: 0.8096 - val_mse: 0.1512\n",
            "Epoch 101/200\n",
            "38/38 [==============================] - 0s 6ms/step - loss: 0.4570 - accuracy: 0.8235 - mse: 0.1433 - val_loss: 0.4749 - val_accuracy: 0.8096 - val_mse: 0.1502\n",
            "Epoch 102/200\n",
            "38/38 [==============================] - 0s 5ms/step - loss: 0.4496 - accuracy: 0.8237 - mse: 0.1410 - val_loss: 0.4740 - val_accuracy: 0.8041 - val_mse: 0.1492\n",
            "Epoch 103/200\n",
            "38/38 [==============================] - 0s 4ms/step - loss: 0.4595 - accuracy: 0.8105 - mse: 0.1444 - val_loss: 0.4783 - val_accuracy: 0.8096 - val_mse: 0.1508\n",
            "Epoch 104/200\n",
            "38/38 [==============================] - 0s 5ms/step - loss: 0.4513 - accuracy: 0.8209 - mse: 0.1416 - val_loss: 0.4807 - val_accuracy: 0.7874 - val_mse: 0.1532\n",
            "Epoch 105/200\n",
            "38/38 [==============================] - 0s 6ms/step - loss: 0.4534 - accuracy: 0.8162 - mse: 0.1433 - val_loss: 0.4842 - val_accuracy: 0.7893 - val_mse: 0.1530\n",
            "Epoch 106/200\n",
            "38/38 [==============================] - 0s 7ms/step - loss: 0.4498 - accuracy: 0.8154 - mse: 0.1418 - val_loss: 0.4908 - val_accuracy: 0.8152 - val_mse: 0.1548\n",
            "Epoch 107/200\n",
            "38/38 [==============================] - 0s 7ms/step - loss: 0.4463 - accuracy: 0.8210 - mse: 0.1400 - val_loss: 0.4857 - val_accuracy: 0.7874 - val_mse: 0.1545\n",
            "Epoch 108/200\n",
            "38/38 [==============================] - 0s 6ms/step - loss: 0.4605 - accuracy: 0.8102 - mse: 0.1460 - val_loss: 0.5037 - val_accuracy: 0.7930 - val_mse: 0.1600\n",
            "Epoch 109/200\n",
            "38/38 [==============================] - 0s 6ms/step - loss: 0.4820 - accuracy: 0.7940 - mse: 0.1544 - val_loss: 0.4749 - val_accuracy: 0.8004 - val_mse: 0.1488\n",
            "Epoch 110/200\n",
            "38/38 [==============================] - 0s 7ms/step - loss: 0.4509 - accuracy: 0.8251 - mse: 0.1406 - val_loss: 0.4718 - val_accuracy: 0.8059 - val_mse: 0.1478\n",
            "Epoch 111/200\n",
            "38/38 [==============================] - 0s 6ms/step - loss: 0.4446 - accuracy: 0.8279 - mse: 0.1392 - val_loss: 0.4775 - val_accuracy: 0.7985 - val_mse: 0.1496\n",
            "Epoch 112/200\n",
            "38/38 [==============================] - 0s 6ms/step - loss: 0.4427 - accuracy: 0.8220 - mse: 0.1387 - val_loss: 0.4816 - val_accuracy: 0.8041 - val_mse: 0.1527\n",
            "Epoch 113/200\n",
            "38/38 [==============================] - 0s 6ms/step - loss: 0.4573 - accuracy: 0.8166 - mse: 0.1439 - val_loss: 0.4852 - val_accuracy: 0.7874 - val_mse: 0.1550\n",
            "Epoch 114/200\n",
            "38/38 [==============================] - 0s 7ms/step - loss: 0.4583 - accuracy: 0.8167 - mse: 0.1439 - val_loss: 0.5057 - val_accuracy: 0.7893 - val_mse: 0.1607\n",
            "Epoch 115/200\n",
            "38/38 [==============================] - 0s 6ms/step - loss: 0.4445 - accuracy: 0.8229 - mse: 0.1378 - val_loss: 0.4808 - val_accuracy: 0.7930 - val_mse: 0.1518\n",
            "Epoch 116/200\n",
            "38/38 [==============================] - 0s 6ms/step - loss: 0.4580 - accuracy: 0.8247 - mse: 0.1435 - val_loss: 0.4760 - val_accuracy: 0.8133 - val_mse: 0.1492\n",
            "Epoch 117/200\n",
            "38/38 [==============================] - 0s 7ms/step - loss: 0.4533 - accuracy: 0.8162 - mse: 0.1429 - val_loss: 0.4987 - val_accuracy: 0.7967 - val_mse: 0.1586\n",
            "Epoch 118/200\n",
            "38/38 [==============================] - 0s 7ms/step - loss: 0.4567 - accuracy: 0.8073 - mse: 0.1435 - val_loss: 0.4768 - val_accuracy: 0.7985 - val_mse: 0.1508\n",
            "Epoch 119/200\n",
            "38/38 [==============================] - 0s 6ms/step - loss: 0.4448 - accuracy: 0.8237 - mse: 0.1388 - val_loss: 0.4809 - val_accuracy: 0.8096 - val_mse: 0.1516\n",
            "Epoch 120/200\n",
            "38/38 [==============================] - 0s 6ms/step - loss: 0.4456 - accuracy: 0.8184 - mse: 0.1400 - val_loss: 0.4768 - val_accuracy: 0.8207 - val_mse: 0.1495\n",
            "Epoch 121/200\n",
            "38/38 [==============================] - 0s 6ms/step - loss: 0.4423 - accuracy: 0.8278 - mse: 0.1381 - val_loss: 0.4906 - val_accuracy: 0.8004 - val_mse: 0.1554\n",
            "Epoch 122/200\n",
            "38/38 [==============================] - 0s 7ms/step - loss: 0.4388 - accuracy: 0.8322 - mse: 0.1366 - val_loss: 0.4744 - val_accuracy: 0.8059 - val_mse: 0.1500\n",
            "Epoch 123/200\n",
            "38/38 [==============================] - 0s 6ms/step - loss: 0.4525 - accuracy: 0.8184 - mse: 0.1422 - val_loss: 0.5014 - val_accuracy: 0.7837 - val_mse: 0.1611\n",
            "Epoch 124/200\n",
            "38/38 [==============================] - 0s 6ms/step - loss: 0.4519 - accuracy: 0.8201 - mse: 0.1420 - val_loss: 0.4765 - val_accuracy: 0.8096 - val_mse: 0.1508\n",
            "Epoch 125/200\n",
            "38/38 [==============================] - 0s 5ms/step - loss: 0.4431 - accuracy: 0.8218 - mse: 0.1392 - val_loss: 0.5053 - val_accuracy: 0.7745 - val_mse: 0.1630\n",
            "Epoch 126/200\n",
            "38/38 [==============================] - 0s 5ms/step - loss: 0.4474 - accuracy: 0.8197 - mse: 0.1400 - val_loss: 0.4827 - val_accuracy: 0.7893 - val_mse: 0.1542\n",
            "Epoch 127/200\n",
            "38/38 [==============================] - 0s 4ms/step - loss: 0.4599 - accuracy: 0.8071 - mse: 0.1463 - val_loss: 0.4773 - val_accuracy: 0.8115 - val_mse: 0.1496\n",
            "Epoch 128/200\n",
            "38/38 [==============================] - 0s 4ms/step - loss: 0.4453 - accuracy: 0.8209 - mse: 0.1397 - val_loss: 0.5021 - val_accuracy: 0.8059 - val_mse: 0.1590\n",
            "Epoch 129/200\n",
            "38/38 [==============================] - 0s 4ms/step - loss: 0.4390 - accuracy: 0.8293 - mse: 0.1369 - val_loss: 0.4888 - val_accuracy: 0.7948 - val_mse: 0.1550\n",
            "Epoch 130/200\n",
            "38/38 [==============================] - 0s 6ms/step - loss: 0.4411 - accuracy: 0.8241 - mse: 0.1372 - val_loss: 0.4780 - val_accuracy: 0.7745 - val_mse: 0.1528\n",
            "Epoch 131/200\n",
            "38/38 [==============================] - 0s 6ms/step - loss: 0.4511 - accuracy: 0.8082 - mse: 0.1429 - val_loss: 0.4889 - val_accuracy: 0.7948 - val_mse: 0.1542\n",
            "Epoch 132/200\n",
            "38/38 [==============================] - 0s 7ms/step - loss: 0.4592 - accuracy: 0.8106 - mse: 0.1449 - val_loss: 0.4746 - val_accuracy: 0.8152 - val_mse: 0.1492\n",
            "Epoch 133/200\n",
            "38/38 [==============================] - 0s 6ms/step - loss: 0.4426 - accuracy: 0.8215 - mse: 0.1382 - val_loss: 0.4936 - val_accuracy: 0.8133 - val_mse: 0.1553\n",
            "Epoch 134/200\n",
            "38/38 [==============================] - 0s 6ms/step - loss: 0.4469 - accuracy: 0.8155 - mse: 0.1406 - val_loss: 0.5090 - val_accuracy: 0.8004 - val_mse: 0.1612\n",
            "Epoch 135/200\n",
            "38/38 [==============================] - 0s 6ms/step - loss: 0.4486 - accuracy: 0.8208 - mse: 0.1412 - val_loss: 0.4841 - val_accuracy: 0.8115 - val_mse: 0.1525\n",
            "Epoch 136/200\n",
            "38/38 [==============================] - 0s 6ms/step - loss: 0.4293 - accuracy: 0.8337 - mse: 0.1336 - val_loss: 0.4836 - val_accuracy: 0.7893 - val_mse: 0.1530\n",
            "Epoch 137/200\n",
            "38/38 [==============================] - 0s 6ms/step - loss: 0.4376 - accuracy: 0.8294 - mse: 0.1357 - val_loss: 0.5189 - val_accuracy: 0.7930 - val_mse: 0.1635\n",
            "Epoch 138/200\n",
            "38/38 [==============================] - 0s 6ms/step - loss: 0.4585 - accuracy: 0.8073 - mse: 0.1450 - val_loss: 0.4721 - val_accuracy: 0.8004 - val_mse: 0.1497\n",
            "Epoch 139/200\n",
            "38/38 [==============================] - 0s 4ms/step - loss: 0.4494 - accuracy: 0.8239 - mse: 0.1409 - val_loss: 0.4765 - val_accuracy: 0.7985 - val_mse: 0.1509\n",
            "Epoch 140/200\n",
            "38/38 [==============================] - 0s 5ms/step - loss: 0.4336 - accuracy: 0.8279 - mse: 0.1356 - val_loss: 0.4929 - val_accuracy: 0.7893 - val_mse: 0.1568\n",
            "Epoch 141/200\n",
            "38/38 [==============================] - 0s 4ms/step - loss: 0.4462 - accuracy: 0.8245 - mse: 0.1397 - val_loss: 0.4934 - val_accuracy: 0.7930 - val_mse: 0.1560\n",
            "Epoch 142/200\n",
            "38/38 [==============================] - 0s 5ms/step - loss: 0.4557 - accuracy: 0.8214 - mse: 0.1443 - val_loss: 0.5029 - val_accuracy: 0.7856 - val_mse: 0.1591\n",
            "Epoch 143/200\n",
            "38/38 [==============================] - 0s 5ms/step - loss: 0.4571 - accuracy: 0.8136 - mse: 0.1442 - val_loss: 0.4842 - val_accuracy: 0.8096 - val_mse: 0.1518\n",
            "Epoch 144/200\n",
            "38/38 [==============================] - 0s 4ms/step - loss: 0.4324 - accuracy: 0.8273 - mse: 0.1353 - val_loss: 0.4821 - val_accuracy: 0.8022 - val_mse: 0.1520\n",
            "Epoch 145/200\n",
            "38/38 [==============================] - 0s 4ms/step - loss: 0.4298 - accuracy: 0.8318 - mse: 0.1341 - val_loss: 0.4794 - val_accuracy: 0.7930 - val_mse: 0.1528\n",
            "Epoch 146/200\n",
            "38/38 [==============================] - 0s 5ms/step - loss: 0.4478 - accuracy: 0.8063 - mse: 0.1414 - val_loss: 0.4973 - val_accuracy: 0.8004 - val_mse: 0.1568\n",
            "Epoch 147/200\n",
            "38/38 [==============================] - 0s 5ms/step - loss: 0.4542 - accuracy: 0.8159 - mse: 0.1426 - val_loss: 0.4765 - val_accuracy: 0.8096 - val_mse: 0.1486\n",
            "Epoch 148/200\n",
            "38/38 [==============================] - 0s 5ms/step - loss: 0.4400 - accuracy: 0.8237 - mse: 0.1373 - val_loss: 0.4932 - val_accuracy: 0.7967 - val_mse: 0.1562\n",
            "Epoch 149/200\n",
            "38/38 [==============================] - 0s 5ms/step - loss: 0.4328 - accuracy: 0.8326 - mse: 0.1342 - val_loss: 0.4818 - val_accuracy: 0.7911 - val_mse: 0.1531\n",
            "Epoch 150/200\n",
            "38/38 [==============================] - 0s 6ms/step - loss: 0.4395 - accuracy: 0.8180 - mse: 0.1381 - val_loss: 0.4906 - val_accuracy: 0.8078 - val_mse: 0.1545\n",
            "Epoch 151/200\n",
            "38/38 [==============================] - 0s 7ms/step - loss: 0.4343 - accuracy: 0.8294 - mse: 0.1355 - val_loss: 0.4742 - val_accuracy: 0.7967 - val_mse: 0.1489\n",
            "Epoch 152/200\n",
            "38/38 [==============================] - 0s 6ms/step - loss: 0.4317 - accuracy: 0.8265 - mse: 0.1354 - val_loss: 0.5196 - val_accuracy: 0.7763 - val_mse: 0.1665\n",
            "Epoch 153/200\n",
            "38/38 [==============================] - 0s 6ms/step - loss: 0.4394 - accuracy: 0.8266 - mse: 0.1372 - val_loss: 0.4789 - val_accuracy: 0.8189 - val_mse: 0.1503\n",
            "Epoch 154/200\n",
            "38/38 [==============================] - 0s 5ms/step - loss: 0.4405 - accuracy: 0.8252 - mse: 0.1388 - val_loss: 0.4671 - val_accuracy: 0.8041 - val_mse: 0.1466\n",
            "Epoch 155/200\n",
            "38/38 [==============================] - 0s 5ms/step - loss: 0.4335 - accuracy: 0.8274 - mse: 0.1357 - val_loss: 0.4751 - val_accuracy: 0.7930 - val_mse: 0.1506\n",
            "Epoch 156/200\n",
            "38/38 [==============================] - 0s 5ms/step - loss: 0.4360 - accuracy: 0.8241 - mse: 0.1359 - val_loss: 0.5192 - val_accuracy: 0.7745 - val_mse: 0.1670\n",
            "Epoch 157/200\n",
            "38/38 [==============================] - 0s 4ms/step - loss: 0.4534 - accuracy: 0.8124 - mse: 0.1436 - val_loss: 0.4773 - val_accuracy: 0.8133 - val_mse: 0.1504\n",
            "Epoch 158/200\n",
            "38/38 [==============================] - 0s 5ms/step - loss: 0.4362 - accuracy: 0.8291 - mse: 0.1368 - val_loss: 0.4792 - val_accuracy: 0.8059 - val_mse: 0.1520\n",
            "Epoch 159/200\n",
            "38/38 [==============================] - 0s 6ms/step - loss: 0.4403 - accuracy: 0.8248 - mse: 0.1384 - val_loss: 0.4877 - val_accuracy: 0.8041 - val_mse: 0.1541\n",
            "Epoch 160/200\n",
            "38/38 [==============================] - 0s 7ms/step - loss: 0.4351 - accuracy: 0.8239 - mse: 0.1366 - val_loss: 0.4699 - val_accuracy: 0.8041 - val_mse: 0.1480\n",
            "Epoch 161/200\n",
            "38/38 [==============================] - 0s 7ms/step - loss: 0.4338 - accuracy: 0.8269 - mse: 0.1356 - val_loss: 0.4899 - val_accuracy: 0.8022 - val_mse: 0.1549\n",
            "Epoch 162/200\n",
            "38/38 [==============================] - 0s 6ms/step - loss: 0.4342 - accuracy: 0.8226 - mse: 0.1355 - val_loss: 0.4771 - val_accuracy: 0.8004 - val_mse: 0.1506\n",
            "Epoch 163/200\n",
            "38/38 [==============================] - 0s 5ms/step - loss: 0.4273 - accuracy: 0.8353 - mse: 0.1326 - val_loss: 0.4820 - val_accuracy: 0.8022 - val_mse: 0.1516\n",
            "Epoch 164/200\n",
            "38/38 [==============================] - 0s 5ms/step - loss: 0.4504 - accuracy: 0.8223 - mse: 0.1412 - val_loss: 0.4763 - val_accuracy: 0.8226 - val_mse: 0.1493\n",
            "Epoch 165/200\n",
            "38/38 [==============================] - 0s 5ms/step - loss: 0.4410 - accuracy: 0.8218 - mse: 0.1386 - val_loss: 0.5011 - val_accuracy: 0.8041 - val_mse: 0.1569\n",
            "Epoch 166/200\n",
            "38/38 [==============================] - 0s 5ms/step - loss: 0.4354 - accuracy: 0.8255 - mse: 0.1362 - val_loss: 0.4902 - val_accuracy: 0.7985 - val_mse: 0.1551\n",
            "Epoch 167/200\n",
            "38/38 [==============================] - 0s 5ms/step - loss: 0.4355 - accuracy: 0.8213 - mse: 0.1364 - val_loss: 0.4868 - val_accuracy: 0.8096 - val_mse: 0.1536\n",
            "Epoch 168/200\n",
            "38/38 [==============================] - 0s 7ms/step - loss: 0.4363 - accuracy: 0.8247 - mse: 0.1366 - val_loss: 0.5082 - val_accuracy: 0.7911 - val_mse: 0.1622\n",
            "Epoch 169/200\n",
            "38/38 [==============================] - 0s 7ms/step - loss: 0.4522 - accuracy: 0.8144 - mse: 0.1428 - val_loss: 0.4723 - val_accuracy: 0.8096 - val_mse: 0.1472\n",
            "Epoch 170/200\n",
            "38/38 [==============================] - 0s 7ms/step - loss: 0.4425 - accuracy: 0.8231 - mse: 0.1389 - val_loss: 0.4765 - val_accuracy: 0.8170 - val_mse: 0.1498\n",
            "Epoch 171/200\n",
            "38/38 [==============================] - 0s 6ms/step - loss: 0.4340 - accuracy: 0.8308 - mse: 0.1349 - val_loss: 0.4934 - val_accuracy: 0.7967 - val_mse: 0.1557\n",
            "Epoch 172/200\n",
            "38/38 [==============================] - 0s 6ms/step - loss: 0.4573 - accuracy: 0.8134 - mse: 0.1449 - val_loss: 0.4780 - val_accuracy: 0.8189 - val_mse: 0.1497\n",
            "Epoch 173/200\n",
            "38/38 [==============================] - 0s 7ms/step - loss: 0.4276 - accuracy: 0.8239 - mse: 0.1334 - val_loss: 0.4886 - val_accuracy: 0.8115 - val_mse: 0.1538\n",
            "Epoch 174/200\n",
            "38/38 [==============================] - 0s 6ms/step - loss: 0.4421 - accuracy: 0.8233 - mse: 0.1389 - val_loss: 0.4798 - val_accuracy: 0.8226 - val_mse: 0.1494\n",
            "Epoch 175/200\n",
            "38/38 [==============================] - 0s 7ms/step - loss: 0.4266 - accuracy: 0.8330 - mse: 0.1330 - val_loss: 0.4804 - val_accuracy: 0.7893 - val_mse: 0.1523\n",
            "Epoch 176/200\n",
            "38/38 [==============================] - 0s 6ms/step - loss: 0.4387 - accuracy: 0.8230 - mse: 0.1377 - val_loss: 0.4683 - val_accuracy: 0.8096 - val_mse: 0.1478\n",
            "Epoch 177/200\n",
            "38/38 [==============================] - 0s 6ms/step - loss: 0.4360 - accuracy: 0.8227 - mse: 0.1370 - val_loss: 0.4659 - val_accuracy: 0.8189 - val_mse: 0.1454\n",
            "Epoch 178/200\n",
            "38/38 [==============================] - 0s 6ms/step - loss: 0.4284 - accuracy: 0.8334 - mse: 0.1327 - val_loss: 0.4739 - val_accuracy: 0.8133 - val_mse: 0.1473\n",
            "Epoch 179/200\n",
            "38/38 [==============================] - 0s 7ms/step - loss: 0.4324 - accuracy: 0.8307 - mse: 0.1348 - val_loss: 0.4872 - val_accuracy: 0.8059 - val_mse: 0.1541\n",
            "Epoch 180/200\n",
            "38/38 [==============================] - 0s 7ms/step - loss: 0.4215 - accuracy: 0.8327 - mse: 0.1312 - val_loss: 0.4886 - val_accuracy: 0.7930 - val_mse: 0.1551\n",
            "Epoch 181/200\n",
            "38/38 [==============================] - 0s 6ms/step - loss: 0.4365 - accuracy: 0.8229 - mse: 0.1372 - val_loss: 0.4738 - val_accuracy: 0.8096 - val_mse: 0.1490\n",
            "Epoch 182/200\n",
            "38/38 [==============================] - 0s 6ms/step - loss: 0.4211 - accuracy: 0.8350 - mse: 0.1302 - val_loss: 0.4781 - val_accuracy: 0.8022 - val_mse: 0.1529\n",
            "Epoch 183/200\n",
            "38/38 [==============================] - 0s 6ms/step - loss: 0.4342 - accuracy: 0.8185 - mse: 0.1365 - val_loss: 0.4882 - val_accuracy: 0.8115 - val_mse: 0.1533\n",
            "Epoch 184/200\n",
            "38/38 [==============================] - 0s 6ms/step - loss: 0.4275 - accuracy: 0.8322 - mse: 0.1326 - val_loss: 0.4937 - val_accuracy: 0.7967 - val_mse: 0.1572\n",
            "Epoch 185/200\n",
            "38/38 [==============================] - 0s 6ms/step - loss: 0.4257 - accuracy: 0.8294 - mse: 0.1329 - val_loss: 0.4867 - val_accuracy: 0.8170 - val_mse: 0.1524\n",
            "Epoch 186/200\n",
            "38/38 [==============================] - 0s 7ms/step - loss: 0.4262 - accuracy: 0.8319 - mse: 0.1330 - val_loss: 0.4655 - val_accuracy: 0.8059 - val_mse: 0.1464\n",
            "Epoch 187/200\n",
            "38/38 [==============================] - 0s 6ms/step - loss: 0.4305 - accuracy: 0.8267 - mse: 0.1349 - val_loss: 0.4917 - val_accuracy: 0.8004 - val_mse: 0.1557\n",
            "Epoch 188/200\n",
            "38/38 [==============================] - 0s 5ms/step - loss: 0.4425 - accuracy: 0.8157 - mse: 0.1400 - val_loss: 0.4801 - val_accuracy: 0.7948 - val_mse: 0.1523\n",
            "Epoch 189/200\n",
            "38/38 [==============================] - 0s 5ms/step - loss: 0.4298 - accuracy: 0.8264 - mse: 0.1341 - val_loss: 0.5007 - val_accuracy: 0.8022 - val_mse: 0.1589\n",
            "Epoch 190/200\n",
            "38/38 [==============================] - 0s 5ms/step - loss: 0.4268 - accuracy: 0.8308 - mse: 0.1332 - val_loss: 0.4831 - val_accuracy: 0.8096 - val_mse: 0.1533\n",
            "Epoch 191/200\n",
            "38/38 [==============================] - 0s 4ms/step - loss: 0.4320 - accuracy: 0.8300 - mse: 0.1344 - val_loss: 0.5014 - val_accuracy: 0.7837 - val_mse: 0.1625\n",
            "Epoch 192/200\n",
            "38/38 [==============================] - 0s 5ms/step - loss: 0.4434 - accuracy: 0.8147 - mse: 0.1406 - val_loss: 0.4800 - val_accuracy: 0.8022 - val_mse: 0.1521\n",
            "Epoch 193/200\n",
            "38/38 [==============================] - 0s 5ms/step - loss: 0.4260 - accuracy: 0.8241 - mse: 0.1338 - val_loss: 0.4658 - val_accuracy: 0.8022 - val_mse: 0.1460\n",
            "Epoch 194/200\n",
            "38/38 [==============================] - 0s 6ms/step - loss: 0.4120 - accuracy: 0.8333 - mse: 0.1285 - val_loss: 0.5052 - val_accuracy: 0.7874 - val_mse: 0.1606\n",
            "Epoch 195/200\n",
            "38/38 [==============================] - 0s 7ms/step - loss: 0.4429 - accuracy: 0.8122 - mse: 0.1397 - val_loss: 0.4685 - val_accuracy: 0.7967 - val_mse: 0.1469\n",
            "Epoch 196/200\n",
            "38/38 [==============================] - 0s 7ms/step - loss: 0.4305 - accuracy: 0.8249 - mse: 0.1346 - val_loss: 0.4835 - val_accuracy: 0.8078 - val_mse: 0.1519\n",
            "Epoch 197/200\n",
            "38/38 [==============================] - 0s 6ms/step - loss: 0.4307 - accuracy: 0.8276 - mse: 0.1342 - val_loss: 0.4969 - val_accuracy: 0.8041 - val_mse: 0.1558\n",
            "Epoch 198/200\n",
            "38/38 [==============================] - 0s 5ms/step - loss: 0.4351 - accuracy: 0.8212 - mse: 0.1364 - val_loss: 0.4733 - val_accuracy: 0.8004 - val_mse: 0.1490\n",
            "Epoch 199/200\n",
            "38/38 [==============================] - 0s 5ms/step - loss: 0.4390 - accuracy: 0.8183 - mse: 0.1387 - val_loss: 0.4869 - val_accuracy: 0.7967 - val_mse: 0.1543\n",
            "Epoch 200/200\n",
            "38/38 [==============================] - 0s 5ms/step - loss: 0.4290 - accuracy: 0.8290 - mse: 0.1337 - val_loss: 0.4955 - val_accuracy: 0.7967 - val_mse: 0.1571\n"
          ],
          "name": "stdout"
        },
        {
          "output_type": "execute_result",
          "data": {
            "text/plain": [
              "<keras.callbacks.History at 0x7f2bbc8e23d0>"
            ]
          },
          "metadata": {
            "tags": []
          },
          "execution_count": 126
        }
      ]
    },
    {
      "cell_type": "code",
      "metadata": {
        "id": "VAsvPztLVrSM",
        "colab": {
          "base_uri": "https://localhost:8080/"
        },
        "outputId": "e0488cc2-1439-4eff-d35b-a3a256abdd2c"
      },
      "source": [
        "result = model.evaluate(X_test, Y_test)\n",
        " \n",
        "for i in range(len(model.metrics_names)):\n",
        "    print(\"Metric \",model.metrics_names[i],\":\",\n",
        " \n",
        "str(round(result[i],2)))\n",
        "\n"
      ],
      "execution_count": 127,
      "outputs": [
        {
          "output_type": "stream",
          "text": [
            "57/57 [==============================] - 0s 2ms/step - loss: 0.4605 - accuracy: 0.8251 - mse: 0.1418\n",
            "Metric  loss : 0.46\n",
            "Metric  accuracy : 0.83\n",
            "Metric  mse : 0.14\n"
          ],
          "name": "stdout"
        }
      ]
    },
    {
      "cell_type": "code",
      "metadata": {
        "colab": {
          "base_uri": "https://localhost:8080/"
        },
        "id": "jd2-aCs5yWN1",
        "outputId": "9135cc3a-90da-4530-e259-cb4e1e52fbf4"
      },
      "source": [
        "history = model.fit(X_train, Y_train, epochs=50, validation_data=(X_test, Y_test))"
      ],
      "execution_count": 128,
      "outputs": [
        {
          "output_type": "stream",
          "text": [
            "Epoch 1/50\n",
            "152/152 [==============================] - 1s 4ms/step - loss: 0.4768 - accuracy: 0.7936 - mse: 0.1526 - val_loss: 0.4854 - val_accuracy: 0.7940 - val_mse: 0.1546\n",
            "Epoch 2/50\n",
            "152/152 [==============================] - 1s 4ms/step - loss: 0.4904 - accuracy: 0.7798 - mse: 0.1588 - val_loss: 0.4818 - val_accuracy: 0.8151 - val_mse: 0.1508\n",
            "Epoch 3/50\n",
            "152/152 [==============================] - 1s 4ms/step - loss: 0.4710 - accuracy: 0.7992 - mse: 0.1503 - val_loss: 0.4828 - val_accuracy: 0.7857 - val_mse: 0.1539\n",
            "Epoch 4/50\n",
            "152/152 [==============================] - 1s 4ms/step - loss: 0.4777 - accuracy: 0.7916 - mse: 0.1534 - val_loss: 0.5058 - val_accuracy: 0.7729 - val_mse: 0.1640\n",
            "Epoch 5/50\n",
            "152/152 [==============================] - 1s 4ms/step - loss: 0.4728 - accuracy: 0.7969 - mse: 0.1510 - val_loss: 0.4613 - val_accuracy: 0.8145 - val_mse: 0.1434\n",
            "Epoch 6/50\n",
            "152/152 [==============================] - 1s 4ms/step - loss: 0.4568 - accuracy: 0.8138 - mse: 0.1442 - val_loss: 0.4959 - val_accuracy: 0.7846 - val_mse: 0.1580\n",
            "Epoch 7/50\n",
            "152/152 [==============================] - 1s 4ms/step - loss: 0.4695 - accuracy: 0.7990 - mse: 0.1499 - val_loss: 0.4562 - val_accuracy: 0.8184 - val_mse: 0.1416\n",
            "Epoch 8/50\n",
            "152/152 [==============================] - 1s 4ms/step - loss: 0.4641 - accuracy: 0.8035 - mse: 0.1481 - val_loss: 0.4674 - val_accuracy: 0.8079 - val_mse: 0.1463\n",
            "Epoch 9/50\n",
            "152/152 [==============================] - 1s 4ms/step - loss: 0.4647 - accuracy: 0.8056 - mse: 0.1475 - val_loss: 0.4560 - val_accuracy: 0.8212 - val_mse: 0.1419\n",
            "Epoch 10/50\n",
            "152/152 [==============================] - 1s 4ms/step - loss: 0.4639 - accuracy: 0.8051 - mse: 0.1473 - val_loss: 0.4758 - val_accuracy: 0.8107 - val_mse: 0.1504\n",
            "Epoch 11/50\n",
            "152/152 [==============================] - 1s 4ms/step - loss: 0.4508 - accuracy: 0.8187 - mse: 0.1421 - val_loss: 0.4539 - val_accuracy: 0.8240 - val_mse: 0.1410\n",
            "Epoch 12/50\n",
            "152/152 [==============================] - 1s 3ms/step - loss: 0.4566 - accuracy: 0.8076 - mse: 0.1454 - val_loss: 0.4918 - val_accuracy: 0.7862 - val_mse: 0.1575\n",
            "Epoch 13/50\n",
            "152/152 [==============================] - 1s 4ms/step - loss: 0.4623 - accuracy: 0.8006 - mse: 0.1478 - val_loss: 0.4997 - val_accuracy: 0.7846 - val_mse: 0.1577\n",
            "Epoch 14/50\n",
            "152/152 [==============================] - 1s 4ms/step - loss: 0.4529 - accuracy: 0.8138 - mse: 0.1434 - val_loss: 0.4766 - val_accuracy: 0.7979 - val_mse: 0.1504\n",
            "Epoch 15/50\n",
            "152/152 [==============================] - 1s 3ms/step - loss: 0.4553 - accuracy: 0.8113 - mse: 0.1446 - val_loss: 0.4859 - val_accuracy: 0.7984 - val_mse: 0.1545\n",
            "Epoch 16/50\n",
            "152/152 [==============================] - 0s 3ms/step - loss: 0.4607 - accuracy: 0.8019 - mse: 0.1470 - val_loss: 0.4951 - val_accuracy: 0.7773 - val_mse: 0.1583\n",
            "Epoch 17/50\n",
            "152/152 [==============================] - 1s 3ms/step - loss: 0.4597 - accuracy: 0.8045 - mse: 0.1463 - val_loss: 0.4582 - val_accuracy: 0.8290 - val_mse: 0.1413\n",
            "Epoch 18/50\n",
            "152/152 [==============================] - 0s 3ms/step - loss: 0.4509 - accuracy: 0.8086 - mse: 0.1433 - val_loss: 0.4630 - val_accuracy: 0.8184 - val_mse: 0.1440\n",
            "Epoch 19/50\n",
            "152/152 [==============================] - 0s 3ms/step - loss: 0.4563 - accuracy: 0.8086 - mse: 0.1445 - val_loss: 0.4702 - val_accuracy: 0.8096 - val_mse: 0.1463\n",
            "Epoch 20/50\n",
            "152/152 [==============================] - 1s 4ms/step - loss: 0.4533 - accuracy: 0.8076 - mse: 0.1440 - val_loss: 0.4886 - val_accuracy: 0.7901 - val_mse: 0.1537\n",
            "Epoch 21/50\n",
            "152/152 [==============================] - 0s 3ms/step - loss: 0.4443 - accuracy: 0.8171 - mse: 0.1399 - val_loss: 0.4799 - val_accuracy: 0.8012 - val_mse: 0.1510\n",
            "Epoch 22/50\n",
            "152/152 [==============================] - 0s 3ms/step - loss: 0.4533 - accuracy: 0.8060 - mse: 0.1441 - val_loss: 0.4669 - val_accuracy: 0.8151 - val_mse: 0.1459\n",
            "Epoch 23/50\n",
            "152/152 [==============================] - 0s 3ms/step - loss: 0.4454 - accuracy: 0.8136 - mse: 0.1405 - val_loss: 0.4780 - val_accuracy: 0.8051 - val_mse: 0.1508\n",
            "Epoch 24/50\n",
            "152/152 [==============================] - 0s 3ms/step - loss: 0.4515 - accuracy: 0.8097 - mse: 0.1432 - val_loss: 0.4715 - val_accuracy: 0.7979 - val_mse: 0.1477\n",
            "Epoch 25/50\n",
            "152/152 [==============================] - 0s 3ms/step - loss: 0.4501 - accuracy: 0.8134 - mse: 0.1428 - val_loss: 0.4543 - val_accuracy: 0.8251 - val_mse: 0.1414\n",
            "Epoch 26/50\n",
            "152/152 [==============================] - 1s 4ms/step - loss: 0.4444 - accuracy: 0.8117 - mse: 0.1406 - val_loss: 0.4555 - val_accuracy: 0.8140 - val_mse: 0.1416\n",
            "Epoch 27/50\n",
            "152/152 [==============================] - 1s 4ms/step - loss: 0.4514 - accuracy: 0.8088 - mse: 0.1437 - val_loss: 0.4494 - val_accuracy: 0.8306 - val_mse: 0.1371\n",
            "Epoch 28/50\n",
            "152/152 [==============================] - 1s 4ms/step - loss: 0.4370 - accuracy: 0.8187 - mse: 0.1375 - val_loss: 0.4579 - val_accuracy: 0.8123 - val_mse: 0.1419\n",
            "Epoch 29/50\n",
            "152/152 [==============================] - 1s 4ms/step - loss: 0.4435 - accuracy: 0.8181 - mse: 0.1404 - val_loss: 0.4507 - val_accuracy: 0.8229 - val_mse: 0.1386\n",
            "Epoch 30/50\n",
            "152/152 [==============================] - 1s 4ms/step - loss: 0.4536 - accuracy: 0.8093 - mse: 0.1442 - val_loss: 0.5163 - val_accuracy: 0.7679 - val_mse: 0.1679\n",
            "Epoch 31/50\n",
            "152/152 [==============================] - 1s 4ms/step - loss: 0.4591 - accuracy: 0.8072 - mse: 0.1462 - val_loss: 0.4795 - val_accuracy: 0.7957 - val_mse: 0.1510\n",
            "Epoch 32/50\n",
            "152/152 [==============================] - 1s 4ms/step - loss: 0.4405 - accuracy: 0.8163 - mse: 0.1390 - val_loss: 0.4870 - val_accuracy: 0.7968 - val_mse: 0.1521\n",
            "Epoch 33/50\n",
            "152/152 [==============================] - 0s 3ms/step - loss: 0.4523 - accuracy: 0.8060 - mse: 0.1443 - val_loss: 0.4669 - val_accuracy: 0.8168 - val_mse: 0.1456\n",
            "Epoch 34/50\n",
            "152/152 [==============================] - 0s 3ms/step - loss: 0.4413 - accuracy: 0.8163 - mse: 0.1394 - val_loss: 0.4545 - val_accuracy: 0.8268 - val_mse: 0.1407\n",
            "Epoch 35/50\n",
            "152/152 [==============================] - 0s 3ms/step - loss: 0.4444 - accuracy: 0.8109 - mse: 0.1408 - val_loss: 0.4779 - val_accuracy: 0.8134 - val_mse: 0.1491\n",
            "Epoch 36/50\n",
            "152/152 [==============================] - 0s 3ms/step - loss: 0.4453 - accuracy: 0.8101 - mse: 0.1411 - val_loss: 0.5239 - val_accuracy: 0.7701 - val_mse: 0.1694\n",
            "Epoch 37/50\n",
            "152/152 [==============================] - 0s 3ms/step - loss: 0.4539 - accuracy: 0.8043 - mse: 0.1450 - val_loss: 0.4511 - val_accuracy: 0.8384 - val_mse: 0.1383\n",
            "Epoch 38/50\n",
            "152/152 [==============================] - 1s 4ms/step - loss: 0.4487 - accuracy: 0.8088 - mse: 0.1421 - val_loss: 0.4665 - val_accuracy: 0.8140 - val_mse: 0.1449\n",
            "Epoch 39/50\n",
            "152/152 [==============================] - 1s 4ms/step - loss: 0.4446 - accuracy: 0.8105 - mse: 0.1412 - val_loss: 0.4562 - val_accuracy: 0.8234 - val_mse: 0.1399\n",
            "Epoch 40/50\n",
            "152/152 [==============================] - 1s 4ms/step - loss: 0.4402 - accuracy: 0.8128 - mse: 0.1399 - val_loss: 0.4648 - val_accuracy: 0.8096 - val_mse: 0.1432\n",
            "Epoch 41/50\n",
            "152/152 [==============================] - 1s 4ms/step - loss: 0.4476 - accuracy: 0.8111 - mse: 0.1419 - val_loss: 0.4615 - val_accuracy: 0.8184 - val_mse: 0.1433\n",
            "Epoch 42/50\n",
            "152/152 [==============================] - 1s 4ms/step - loss: 0.4405 - accuracy: 0.8208 - mse: 0.1384 - val_loss: 0.4489 - val_accuracy: 0.8340 - val_mse: 0.1379\n",
            "Epoch 43/50\n",
            "152/152 [==============================] - 1s 4ms/step - loss: 0.4389 - accuracy: 0.8183 - mse: 0.1387 - val_loss: 0.4756 - val_accuracy: 0.8118 - val_mse: 0.1472\n",
            "Epoch 44/50\n",
            "152/152 [==============================] - 1s 4ms/step - loss: 0.4362 - accuracy: 0.8185 - mse: 0.1377 - val_loss: 0.4736 - val_accuracy: 0.8007 - val_mse: 0.1461\n",
            "Epoch 45/50\n",
            "152/152 [==============================] - 1s 4ms/step - loss: 0.4395 - accuracy: 0.8150 - mse: 0.1390 - val_loss: 0.4536 - val_accuracy: 0.8279 - val_mse: 0.1389\n",
            "Epoch 46/50\n",
            "152/152 [==============================] - 1s 4ms/step - loss: 0.4425 - accuracy: 0.8103 - mse: 0.1404 - val_loss: 0.4477 - val_accuracy: 0.8351 - val_mse: 0.1373\n",
            "Epoch 47/50\n",
            "152/152 [==============================] - 1s 4ms/step - loss: 0.4342 - accuracy: 0.8181 - mse: 0.1370 - val_loss: 0.4567 - val_accuracy: 0.8323 - val_mse: 0.1407\n",
            "Epoch 48/50\n",
            "152/152 [==============================] - 1s 4ms/step - loss: 0.4363 - accuracy: 0.8179 - mse: 0.1382 - val_loss: 0.4829 - val_accuracy: 0.8007 - val_mse: 0.1506\n",
            "Epoch 49/50\n",
            "152/152 [==============================] - 1s 4ms/step - loss: 0.4423 - accuracy: 0.8117 - mse: 0.1404 - val_loss: 0.4601 - val_accuracy: 0.8212 - val_mse: 0.1424\n",
            "Epoch 50/50\n",
            "152/152 [==============================] - 1s 4ms/step - loss: 0.4342 - accuracy: 0.8167 - mse: 0.1372 - val_loss: 0.4862 - val_accuracy: 0.7968 - val_mse: 0.1519\n"
          ],
          "name": "stdout"
        }
      ]
    },
    {
      "cell_type": "code",
      "metadata": {
        "id": "ZNe49mFGNEs0",
        "colab": {
          "base_uri": "https://localhost:8080/",
          "height": 893
        },
        "outputId": "3457aa0d-ef14-4d9e-ea93-738801334108"
      },
      "source": [
        "def plot_history(history):\n",
        "    plt.plot(history.history['loss'])\n",
        "    plt.plot(history.history['val_loss'])\n",
        "    plt.title('model loss')\n",
        "    plt.ylabel('loss')\n",
        "    plt.xlabel('epoch')\n",
        "    plt.legend(['train', 'val'], loc='upper left')\n",
        "    plt.show()\n",
        "    \n",
        "plot_history(history)\n",
        "\n"
      ],
      "execution_count": 129,
      "outputs": [
        {
          "output_type": "display_data",
          "data": {
            "image/png": "[encoded data removed]",
            "text/plain": [
              "<Figure size 360x1080 with 1 Axes>"
            ]
          },
          "metadata": {
            "tags": [],
            "needs_background": "light"
          }
        }
      ]
    },
    {
      "cell_type": "code",
      "metadata": {
        "colab": {
          "base_uri": "https://localhost:8080/"
        },
        "id": "lVLGFFgy6PjF",
        "outputId": "a76cc3de-6e72-44fe-baf2-3140feb36b48"
      },
      "source": [
        "model.predict(X_test)"
      ],
      "execution_count": 130,
      "outputs": [
        {
          "output_type": "execute_result",
          "data": {
            "text/plain": [
              "array([[0.08595443],\n",
              "       [0.8704946 ],\n",
              "       [0.79572606],\n",
              "       ...,\n",
              "       [0.7861019 ],\n",
              "       [0.0416666 ],\n",
              "       [0.17183271]], dtype=float32)"
            ]
          },
          "metadata": {
            "tags": []
          },
          "execution_count": 130
        }
      ]
    },
    {
      "cell_type": "code",
      "metadata": {
        "colab": {
          "base_uri": "https://localhost:8080/"
        },
        "id": "BTL3ao5G1b9C",
        "outputId": "deb46f6b-7cc5-4be6-ff2d-602e2b8fa6e6"
      },
      "source": [
        "# Guardando el modelo.\n",
        "model.save(\"prediction_model.h5\")\n",
        "print('Modelo almacenado correctamente.')"
      ],
      "execution_count": 131,
      "outputs": [
        {
          "output_type": "stream",
          "text": [
            "Modelo almacenado correctamente.\n"
          ],
          "name": "stdout"
        }
      ]
    },
    {
      "cell_type": "markdown",
      "metadata": {
        "id": "QVaj4MT5aOiw"
      },
      "source": [
        "# Implementación: \n",
        "Aplicar el algoritmo que mejor rendimiento tiene sobre el data set, con su debida justificación, en el data set adicional DataAcomodacion.csv (que no debe ser usado en ningún momento en la parte de entrenamiento del modelo)."
      ]
    },
    {
      "cell_type": "code",
      "metadata": {
        "id": "SJpyjYxZ5mkS"
      },
      "source": [
        "# Cargando el modelo\n",
        "from keras.models import load_model"
      ],
      "execution_count": 132,
      "outputs": []
    },
    {
      "cell_type": "code",
      "metadata": {
        "colab": {
          "base_uri": "https://localhost:8080/"
        },
        "id": "WTcVJQ5y2RZ0",
        "outputId": "d4e36ef0-3fef-456d-f442-f5e9537b1800"
      },
      "source": [
        "model = load_model('prediction_model.h5', compile=True)\n",
        "print('Modelo cargado correctamente.')"
      ],
      "execution_count": 133,
      "outputs": [
        {
          "output_type": "stream",
          "text": [
            "Modelo cargado correctamente.\n"
          ],
          "name": "stdout"
        }
      ]
    },
    {
      "cell_type": "code",
      "metadata": {
        "colab": {
          "base_uri": "https://localhost:8080/"
        },
        "id": "LYIvJ-yn2ZVZ",
        "outputId": "64c5a7db-ff29-4010-de79-78e9f04fd356"
      },
      "source": [
        "model.summary()"
      ],
      "execution_count": 134,
      "outputs": [
        {
          "output_type": "stream",
          "text": [
            "Model: \"sequential_1\"\n",
            "_________________________________________________________________\n",
            "Layer (type)                 Output Shape              Param #   \n",
            "=================================================================\n",
            "dense_3 (Dense)              (None, 256)               3328      \n",
            "_________________________________________________________________\n",
            "dense_4 (Dense)              (None, 256)               65792     \n",
            "_________________________________________________________________\n",
            "dense_5 (Dense)              (None, 1)                 257       \n",
            "=================================================================\n",
            "Total params: 69,377\n",
            "Trainable params: 69,377\n",
            "Non-trainable params: 0\n",
            "_________________________________________________________________\n"
          ],
          "name": "stdout"
        }
      ]
    },
    {
      "cell_type": "code",
      "metadata": {
        "colab": {
          "base_uri": "https://localhost:8080/"
        },
        "id": "Hu8j6w8d2jMD",
        "outputId": "aee0e4fa-508e-411a-c893-beacf4521074"
      },
      "source": [
        "%ls"
      ],
      "execution_count": 135,
      "outputs": [
        {
          "output_type": "stream",
          "text": [
            "clean_data.csv       prediction_model.h5              train_data.txt\n",
            "DataAcomodacion.csv  prediction_Tipo_Acomodacion.csv\n"
          ],
          "name": "stdout"
        }
      ]
    },
    {
      "cell_type": "code",
      "metadata": {
        "colab": {
          "base_uri": "https://localhost:8080/",
          "height": 206
        },
        "id": "i8SBQjfA2x4v",
        "outputId": "1fd59d6b-6327-4e21-8b8a-738a8d8a63ff"
      },
      "source": [
        "df_acomodacion = pd.read_csv('DataAcomodacion.csv', encoding = \"ISO-8859-1\")\n",
        "df_acomodacion.head()"
      ],
      "execution_count": 136,
      "outputs": [
        {
          "output_type": "execute_result",
          "data": {
            "text/html": [
              "<div>\n",
              "<style scoped>\n",
              "    .dataframe tbody tr th:only-of-type {\n",
              "        vertical-align: middle;\n",
              "    }\n",
              "\n",
              "    .dataframe tbody tr th {\n",
              "        vertical-align: top;\n",
              "    }\n",
              "\n",
              "    .dataframe thead th {\n",
              "        text-align: right;\n",
              "    }\n",
              "</style>\n",
              "<table border=\"1\" class=\"dataframe\">\n",
              "  <thead>\n",
              "    <tr style=\"text-align: right;\">\n",
              "      <th></th>\n",
              "      <th>id</th>\n",
              "      <th>duracion_estadia</th>\n",
              "      <th>genero</th>\n",
              "      <th>edad</th>\n",
              "      <th>niños</th>\n",
              "      <th>codigo_destino</th>\n",
              "      <th>tipo_acomodacion</th>\n",
              "    </tr>\n",
              "  </thead>\n",
              "  <tbody>\n",
              "    <tr>\n",
              "      <th>0</th>\n",
              "      <td>1013321</td>\n",
              "      <td>2</td>\n",
              "      <td>F</td>\n",
              "      <td>38.0</td>\n",
              "      <td>0.0</td>\n",
              "      <td>US</td>\n",
              "      <td>NaN</td>\n",
              "    </tr>\n",
              "    <tr>\n",
              "      <th>1</th>\n",
              "      <td>1009487</td>\n",
              "      <td>6</td>\n",
              "      <td>M</td>\n",
              "      <td>37.0</td>\n",
              "      <td>0.0</td>\n",
              "      <td>ES</td>\n",
              "      <td>NaN</td>\n",
              "    </tr>\n",
              "    <tr>\n",
              "      <th>2</th>\n",
              "      <td>1002727</td>\n",
              "      <td>1</td>\n",
              "      <td>M</td>\n",
              "      <td>37.0</td>\n",
              "      <td>1.0</td>\n",
              "      <td>ES</td>\n",
              "      <td>NaN</td>\n",
              "    </tr>\n",
              "    <tr>\n",
              "      <th>3</th>\n",
              "      <td>1001135</td>\n",
              "      <td>5</td>\n",
              "      <td>F</td>\n",
              "      <td>50.0</td>\n",
              "      <td>0.0</td>\n",
              "      <td>UK</td>\n",
              "      <td>NaN</td>\n",
              "    </tr>\n",
              "    <tr>\n",
              "      <th>4</th>\n",
              "      <td>1000796</td>\n",
              "      <td>4</td>\n",
              "      <td>F</td>\n",
              "      <td>42.0</td>\n",
              "      <td>1.0</td>\n",
              "      <td>AR</td>\n",
              "      <td>NaN</td>\n",
              "    </tr>\n",
              "  </tbody>\n",
              "</table>\n",
              "</div>"
            ],
            "text/plain": [
              "        id  duracion_estadia genero  ...  niños  codigo_destino tipo_acomodacion\n",
              "0  1013321                 2      F  ...    0.0              US              NaN\n",
              "1  1009487                 6      M  ...    0.0              ES              NaN\n",
              "2  1002727                 1      M  ...    1.0              ES              NaN\n",
              "3  1001135                 5      F  ...    0.0              UK              NaN\n",
              "4  1000796                 4      F  ...    1.0              AR              NaN\n",
              "\n",
              "[5 rows x 7 columns]"
            ]
          },
          "metadata": {
            "tags": []
          },
          "execution_count": 136
        }
      ]
    },
    {
      "cell_type": "code",
      "metadata": {
        "colab": {
          "base_uri": "https://localhost:8080/"
        },
        "id": "bOnBmMtk27Xu",
        "outputId": "cec0644a-cab3-4c81-886b-a98995ab42b1"
      },
      "source": [
        "df_acomodacion['duracion_estadia'] = df_acomodacion['duracion_estadia'].fillna(df_acomodacion['duracion_estadia'].median())\n",
        "df_acomodacion['genero'] = df_acomodacion['genero'].fillna(method = 'bfill')\n",
        "df_acomodacion['edad'] = df_acomodacion['edad'].fillna(df_acomodacion['edad'].median())\n",
        "df_acomodacion['niños'] = df_acomodacion['niños'].fillna(df_acomodacion['niños'].median())\n",
        "df_acomodacion['codigo_destino'] = df_acomodacion['codigo_destino'].fillna(method = 'bfill')\n",
        "df_acomodacion.info()"
      ],
      "execution_count": 137,
      "outputs": [
        {
          "output_type": "stream",
          "text": [
            "<class 'pandas.core.frame.DataFrame'>\n",
            "RangeIndex: 4229 entries, 0 to 4228\n",
            "Data columns (total 7 columns):\n",
            " #   Column            Non-Null Count  Dtype  \n",
            "---  ------            --------------  -----  \n",
            " 0   id                4229 non-null   int64  \n",
            " 1   duracion_estadia  4229 non-null   int64  \n",
            " 2   genero            4229 non-null   object \n",
            " 3   edad              4229 non-null   float64\n",
            " 4   niños             4229 non-null   float64\n",
            " 5   codigo_destino    4229 non-null   object \n",
            " 6   tipo_acomodacion  0 non-null      float64\n",
            "dtypes: float64(3), int64(2), object(2)\n",
            "memory usage: 231.4+ KB\n"
          ],
          "name": "stdout"
        }
      ]
    },
    {
      "cell_type": "code",
      "metadata": {
        "id": "I29rqcv8H1nt"
      },
      "source": [
        "df_acomodacion.drop(df_acomodacion[['id']], axis=1, inplace = True)\n",
        "df_validation = df_acomodacion"
      ],
      "execution_count": 138,
      "outputs": []
    },
    {
      "cell_type": "code",
      "metadata": {
        "colab": {
          "base_uri": "https://localhost:8080/",
          "height": 424
        },
        "id": "ASMd4Qwc41hQ",
        "outputId": "851e10d9-8896-4f2c-8a74-fce157211ed1"
      },
      "source": [
        "df_validation['genero'] = df_validation['genero'].apply(lambda x: 0 if x == 'M' else 1)\n",
        "df_validation[country_list] = pd.get_dummies(df_validation.codigo_destino)\n",
        "df_validation"
      ],
      "execution_count": 139,
      "outputs": [
        {
          "output_type": "execute_result",
          "data": {
            "text/html": [
              "<div>\n",
              "<style scoped>\n",
              "    .dataframe tbody tr th:only-of-type {\n",
              "        vertical-align: middle;\n",
              "    }\n",
              "\n",
              "    .dataframe tbody tr th {\n",
              "        vertical-align: top;\n",
              "    }\n",
              "\n",
              "    .dataframe thead th {\n",
              "        text-align: right;\n",
              "    }\n",
              "</style>\n",
              "<table border=\"1\" class=\"dataframe\">\n",
              "  <thead>\n",
              "    <tr style=\"text-align: right;\">\n",
              "      <th></th>\n",
              "      <th>duracion_estadia</th>\n",
              "      <th>genero</th>\n",
              "      <th>edad</th>\n",
              "      <th>niños</th>\n",
              "      <th>codigo_destino</th>\n",
              "      <th>tipo_acomodacion</th>\n",
              "      <th>AR</th>\n",
              "      <th>CO</th>\n",
              "      <th>ES</th>\n",
              "      <th>IT</th>\n",
              "      <th>NL</th>\n",
              "      <th>PE</th>\n",
              "      <th>UK</th>\n",
              "      <th>US</th>\n",
              "    </tr>\n",
              "  </thead>\n",
              "  <tbody>\n",
              "    <tr>\n",
              "      <th>0</th>\n",
              "      <td>2</td>\n",
              "      <td>1</td>\n",
              "      <td>38.0</td>\n",
              "      <td>0.0</td>\n",
              "      <td>US</td>\n",
              "      <td>NaN</td>\n",
              "      <td>0</td>\n",
              "      <td>0</td>\n",
              "      <td>0</td>\n",
              "      <td>0</td>\n",
              "      <td>0</td>\n",
              "      <td>0</td>\n",
              "      <td>0</td>\n",
              "      <td>1</td>\n",
              "    </tr>\n",
              "    <tr>\n",
              "      <th>1</th>\n",
              "      <td>6</td>\n",
              "      <td>0</td>\n",
              "      <td>37.0</td>\n",
              "      <td>0.0</td>\n",
              "      <td>ES</td>\n",
              "      <td>NaN</td>\n",
              "      <td>0</td>\n",
              "      <td>0</td>\n",
              "      <td>1</td>\n",
              "      <td>0</td>\n",
              "      <td>0</td>\n",
              "      <td>0</td>\n",
              "      <td>0</td>\n",
              "      <td>0</td>\n",
              "    </tr>\n",
              "    <tr>\n",
              "      <th>2</th>\n",
              "      <td>1</td>\n",
              "      <td>0</td>\n",
              "      <td>37.0</td>\n",
              "      <td>1.0</td>\n",
              "      <td>ES</td>\n",
              "      <td>NaN</td>\n",
              "      <td>0</td>\n",
              "      <td>0</td>\n",
              "      <td>1</td>\n",
              "      <td>0</td>\n",
              "      <td>0</td>\n",
              "      <td>0</td>\n",
              "      <td>0</td>\n",
              "      <td>0</td>\n",
              "    </tr>\n",
              "    <tr>\n",
              "      <th>3</th>\n",
              "      <td>5</td>\n",
              "      <td>1</td>\n",
              "      <td>50.0</td>\n",
              "      <td>0.0</td>\n",
              "      <td>UK</td>\n",
              "      <td>NaN</td>\n",
              "      <td>0</td>\n",
              "      <td>0</td>\n",
              "      <td>0</td>\n",
              "      <td>0</td>\n",
              "      <td>0</td>\n",
              "      <td>0</td>\n",
              "      <td>1</td>\n",
              "      <td>0</td>\n",
              "    </tr>\n",
              "    <tr>\n",
              "      <th>4</th>\n",
              "      <td>4</td>\n",
              "      <td>1</td>\n",
              "      <td>42.0</td>\n",
              "      <td>1.0</td>\n",
              "      <td>AR</td>\n",
              "      <td>NaN</td>\n",
              "      <td>1</td>\n",
              "      <td>0</td>\n",
              "      <td>0</td>\n",
              "      <td>0</td>\n",
              "      <td>0</td>\n",
              "      <td>0</td>\n",
              "      <td>0</td>\n",
              "      <td>0</td>\n",
              "    </tr>\n",
              "    <tr>\n",
              "      <th>...</th>\n",
              "      <td>...</td>\n",
              "      <td>...</td>\n",
              "      <td>...</td>\n",
              "      <td>...</td>\n",
              "      <td>...</td>\n",
              "      <td>...</td>\n",
              "      <td>...</td>\n",
              "      <td>...</td>\n",
              "      <td>...</td>\n",
              "      <td>...</td>\n",
              "      <td>...</td>\n",
              "      <td>...</td>\n",
              "      <td>...</td>\n",
              "      <td>...</td>\n",
              "    </tr>\n",
              "    <tr>\n",
              "      <th>4224</th>\n",
              "      <td>3</td>\n",
              "      <td>0</td>\n",
              "      <td>41.0</td>\n",
              "      <td>0.0</td>\n",
              "      <td>ES</td>\n",
              "      <td>NaN</td>\n",
              "      <td>0</td>\n",
              "      <td>0</td>\n",
              "      <td>1</td>\n",
              "      <td>0</td>\n",
              "      <td>0</td>\n",
              "      <td>0</td>\n",
              "      <td>0</td>\n",
              "      <td>0</td>\n",
              "    </tr>\n",
              "    <tr>\n",
              "      <th>4225</th>\n",
              "      <td>4</td>\n",
              "      <td>1</td>\n",
              "      <td>35.0</td>\n",
              "      <td>1.0</td>\n",
              "      <td>NL</td>\n",
              "      <td>NaN</td>\n",
              "      <td>0</td>\n",
              "      <td>0</td>\n",
              "      <td>0</td>\n",
              "      <td>0</td>\n",
              "      <td>1</td>\n",
              "      <td>0</td>\n",
              "      <td>0</td>\n",
              "      <td>0</td>\n",
              "    </tr>\n",
              "    <tr>\n",
              "      <th>4226</th>\n",
              "      <td>7</td>\n",
              "      <td>1</td>\n",
              "      <td>41.0</td>\n",
              "      <td>1.0</td>\n",
              "      <td>PE</td>\n",
              "      <td>NaN</td>\n",
              "      <td>0</td>\n",
              "      <td>0</td>\n",
              "      <td>0</td>\n",
              "      <td>0</td>\n",
              "      <td>0</td>\n",
              "      <td>1</td>\n",
              "      <td>0</td>\n",
              "      <td>0</td>\n",
              "    </tr>\n",
              "    <tr>\n",
              "      <th>4227</th>\n",
              "      <td>4</td>\n",
              "      <td>0</td>\n",
              "      <td>48.0</td>\n",
              "      <td>0.0</td>\n",
              "      <td>UK</td>\n",
              "      <td>NaN</td>\n",
              "      <td>0</td>\n",
              "      <td>0</td>\n",
              "      <td>0</td>\n",
              "      <td>0</td>\n",
              "      <td>0</td>\n",
              "      <td>0</td>\n",
              "      <td>1</td>\n",
              "      <td>0</td>\n",
              "    </tr>\n",
              "    <tr>\n",
              "      <th>4228</th>\n",
              "      <td>2</td>\n",
              "      <td>0</td>\n",
              "      <td>41.0</td>\n",
              "      <td>1.0</td>\n",
              "      <td>UK</td>\n",
              "      <td>NaN</td>\n",
              "      <td>0</td>\n",
              "      <td>0</td>\n",
              "      <td>0</td>\n",
              "      <td>0</td>\n",
              "      <td>0</td>\n",
              "      <td>0</td>\n",
              "      <td>1</td>\n",
              "      <td>0</td>\n",
              "    </tr>\n",
              "  </tbody>\n",
              "</table>\n",
              "<p>4229 rows × 14 columns</p>\n",
              "</div>"
            ],
            "text/plain": [
              "      duracion_estadia  genero  edad  niños codigo_destino  ...  IT  NL  PE  UK  US\n",
              "0                    2       1  38.0    0.0             US  ...   0   0   0   0   1\n",
              "1                    6       0  37.0    0.0             ES  ...   0   0   0   0   0\n",
              "2                    1       0  37.0    1.0             ES  ...   0   0   0   0   0\n",
              "3                    5       1  50.0    0.0             UK  ...   0   0   0   1   0\n",
              "4                    4       1  42.0    1.0             AR  ...   0   0   0   0   0\n",
              "...                ...     ...   ...    ...            ...  ...  ..  ..  ..  ..  ..\n",
              "4224                 3       0  41.0    0.0             ES  ...   0   0   0   0   0\n",
              "4225                 4       1  35.0    1.0             NL  ...   0   1   0   0   0\n",
              "4226                 7       1  41.0    1.0             PE  ...   0   0   1   0   0\n",
              "4227                 4       0  48.0    0.0             UK  ...   0   0   0   1   0\n",
              "4228                 2       0  41.0    1.0             UK  ...   0   0   0   1   0\n",
              "\n",
              "[4229 rows x 14 columns]"
            ]
          },
          "metadata": {
            "tags": []
          },
          "execution_count": 139
        }
      ]
    },
    {
      "cell_type": "code",
      "metadata": {
        "colab": {
          "base_uri": "https://localhost:8080/",
          "height": 424
        },
        "id": "V_Fas1VZ5NGs",
        "outputId": "d1ee6883-7d36-4b33-dea4-7590ef9fc006"
      },
      "source": [
        "feature_cols = ['duracion_estadia', 'genero', 'edad', 'niños', 'AR', 'CO', 'ES', 'IT', 'NL', 'PE', 'UK', 'US']\n",
        "df_validation = df_validation[feature_cols]\n",
        "df_validation"
      ],
      "execution_count": 140,
      "outputs": [
        {
          "output_type": "execute_result",
          "data": {
            "text/html": [
              "<div>\n",
              "<style scoped>\n",
              "    .dataframe tbody tr th:only-of-type {\n",
              "        vertical-align: middle;\n",
              "    }\n",
              "\n",
              "    .dataframe tbody tr th {\n",
              "        vertical-align: top;\n",
              "    }\n",
              "\n",
              "    .dataframe thead th {\n",
              "        text-align: right;\n",
              "    }\n",
              "</style>\n",
              "<table border=\"1\" class=\"dataframe\">\n",
              "  <thead>\n",
              "    <tr style=\"text-align: right;\">\n",
              "      <th></th>\n",
              "      <th>duracion_estadia</th>\n",
              "      <th>genero</th>\n",
              "      <th>edad</th>\n",
              "      <th>niños</th>\n",
              "      <th>AR</th>\n",
              "      <th>CO</th>\n",
              "      <th>ES</th>\n",
              "      <th>IT</th>\n",
              "      <th>NL</th>\n",
              "      <th>PE</th>\n",
              "      <th>UK</th>\n",
              "      <th>US</th>\n",
              "    </tr>\n",
              "  </thead>\n",
              "  <tbody>\n",
              "    <tr>\n",
              "      <th>0</th>\n",
              "      <td>2</td>\n",
              "      <td>1</td>\n",
              "      <td>38.0</td>\n",
              "      <td>0.0</td>\n",
              "      <td>0</td>\n",
              "      <td>0</td>\n",
              "      <td>0</td>\n",
              "      <td>0</td>\n",
              "      <td>0</td>\n",
              "      <td>0</td>\n",
              "      <td>0</td>\n",
              "      <td>1</td>\n",
              "    </tr>\n",
              "    <tr>\n",
              "      <th>1</th>\n",
              "      <td>6</td>\n",
              "      <td>0</td>\n",
              "      <td>37.0</td>\n",
              "      <td>0.0</td>\n",
              "      <td>0</td>\n",
              "      <td>0</td>\n",
              "      <td>1</td>\n",
              "      <td>0</td>\n",
              "      <td>0</td>\n",
              "      <td>0</td>\n",
              "      <td>0</td>\n",
              "      <td>0</td>\n",
              "    </tr>\n",
              "    <tr>\n",
              "      <th>2</th>\n",
              "      <td>1</td>\n",
              "      <td>0</td>\n",
              "      <td>37.0</td>\n",
              "      <td>1.0</td>\n",
              "      <td>0</td>\n",
              "      <td>0</td>\n",
              "      <td>1</td>\n",
              "      <td>0</td>\n",
              "      <td>0</td>\n",
              "      <td>0</td>\n",
              "      <td>0</td>\n",
              "      <td>0</td>\n",
              "    </tr>\n",
              "    <tr>\n",
              "      <th>3</th>\n",
              "      <td>5</td>\n",
              "      <td>1</td>\n",
              "      <td>50.0</td>\n",
              "      <td>0.0</td>\n",
              "      <td>0</td>\n",
              "      <td>0</td>\n",
              "      <td>0</td>\n",
              "      <td>0</td>\n",
              "      <td>0</td>\n",
              "      <td>0</td>\n",
              "      <td>1</td>\n",
              "      <td>0</td>\n",
              "    </tr>\n",
              "    <tr>\n",
              "      <th>4</th>\n",
              "      <td>4</td>\n",
              "      <td>1</td>\n",
              "      <td>42.0</td>\n",
              "      <td>1.0</td>\n",
              "      <td>1</td>\n",
              "      <td>0</td>\n",
              "      <td>0</td>\n",
              "      <td>0</td>\n",
              "      <td>0</td>\n",
              "      <td>0</td>\n",
              "      <td>0</td>\n",
              "      <td>0</td>\n",
              "    </tr>\n",
              "    <tr>\n",
              "      <th>...</th>\n",
              "      <td>...</td>\n",
              "      <td>...</td>\n",
              "      <td>...</td>\n",
              "      <td>...</td>\n",
              "      <td>...</td>\n",
              "      <td>...</td>\n",
              "      <td>...</td>\n",
              "      <td>...</td>\n",
              "      <td>...</td>\n",
              "      <td>...</td>\n",
              "      <td>...</td>\n",
              "      <td>...</td>\n",
              "    </tr>\n",
              "    <tr>\n",
              "      <th>4224</th>\n",
              "      <td>3</td>\n",
              "      <td>0</td>\n",
              "      <td>41.0</td>\n",
              "      <td>0.0</td>\n",
              "      <td>0</td>\n",
              "      <td>0</td>\n",
              "      <td>1</td>\n",
              "      <td>0</td>\n",
              "      <td>0</td>\n",
              "      <td>0</td>\n",
              "      <td>0</td>\n",
              "      <td>0</td>\n",
              "    </tr>\n",
              "    <tr>\n",
              "      <th>4225</th>\n",
              "      <td>4</td>\n",
              "      <td>1</td>\n",
              "      <td>35.0</td>\n",
              "      <td>1.0</td>\n",
              "      <td>0</td>\n",
              "      <td>0</td>\n",
              "      <td>0</td>\n",
              "      <td>0</td>\n",
              "      <td>1</td>\n",
              "      <td>0</td>\n",
              "      <td>0</td>\n",
              "      <td>0</td>\n",
              "    </tr>\n",
              "    <tr>\n",
              "      <th>4226</th>\n",
              "      <td>7</td>\n",
              "      <td>1</td>\n",
              "      <td>41.0</td>\n",
              "      <td>1.0</td>\n",
              "      <td>0</td>\n",
              "      <td>0</td>\n",
              "      <td>0</td>\n",
              "      <td>0</td>\n",
              "      <td>0</td>\n",
              "      <td>1</td>\n",
              "      <td>0</td>\n",
              "      <td>0</td>\n",
              "    </tr>\n",
              "    <tr>\n",
              "      <th>4227</th>\n",
              "      <td>4</td>\n",
              "      <td>0</td>\n",
              "      <td>48.0</td>\n",
              "      <td>0.0</td>\n",
              "      <td>0</td>\n",
              "      <td>0</td>\n",
              "      <td>0</td>\n",
              "      <td>0</td>\n",
              "      <td>0</td>\n",
              "      <td>0</td>\n",
              "      <td>1</td>\n",
              "      <td>0</td>\n",
              "    </tr>\n",
              "    <tr>\n",
              "      <th>4228</th>\n",
              "      <td>2</td>\n",
              "      <td>0</td>\n",
              "      <td>41.0</td>\n",
              "      <td>1.0</td>\n",
              "      <td>0</td>\n",
              "      <td>0</td>\n",
              "      <td>0</td>\n",
              "      <td>0</td>\n",
              "      <td>0</td>\n",
              "      <td>0</td>\n",
              "      <td>1</td>\n",
              "      <td>0</td>\n",
              "    </tr>\n",
              "  </tbody>\n",
              "</table>\n",
              "<p>4229 rows × 12 columns</p>\n",
              "</div>"
            ],
            "text/plain": [
              "      duracion_estadia  genero  edad  niños  AR  CO  ES  IT  NL  PE  UK  US\n",
              "0                    2       1  38.0    0.0   0   0   0   0   0   0   0   1\n",
              "1                    6       0  37.0    0.0   0   0   1   0   0   0   0   0\n",
              "2                    1       0  37.0    1.0   0   0   1   0   0   0   0   0\n",
              "3                    5       1  50.0    0.0   0   0   0   0   0   0   1   0\n",
              "4                    4       1  42.0    1.0   1   0   0   0   0   0   0   0\n",
              "...                ...     ...   ...    ...  ..  ..  ..  ..  ..  ..  ..  ..\n",
              "4224                 3       0  41.0    0.0   0   0   1   0   0   0   0   0\n",
              "4225                 4       1  35.0    1.0   0   0   0   0   1   0   0   0\n",
              "4226                 7       1  41.0    1.0   0   0   0   0   0   1   0   0\n",
              "4227                 4       0  48.0    0.0   0   0   0   0   0   0   1   0\n",
              "4228                 2       0  41.0    1.0   0   0   0   0   0   0   1   0\n",
              "\n",
              "[4229 rows x 12 columns]"
            ]
          },
          "metadata": {
            "tags": []
          },
          "execution_count": 140
        }
      ]
    },
    {
      "cell_type": "code",
      "metadata": {
        "colab": {
          "base_uri": "https://localhost:8080/"
        },
        "id": "Cnif6ixC5utO",
        "outputId": "660bc7c8-aeb0-4f82-aacf-0ed2e344879c"
      },
      "source": [
        "predictions = model.predict(df_validation)\n",
        "predictions[0:10]"
      ],
      "execution_count": 141,
      "outputs": [
        {
          "output_type": "execute_result",
          "data": {
            "text/plain": [
              "array([[0.74920166],\n",
              "       [0.02958006],\n",
              "       [0.9378363 ],\n",
              "       [0.06311545],\n",
              "       [0.84216523],\n",
              "       [0.5290427 ],\n",
              "       [0.4149786 ],\n",
              "       [0.11882514],\n",
              "       [0.15835443],\n",
              "       [0.18139052]], dtype=float32)"
            ]
          },
          "metadata": {
            "tags": []
          },
          "execution_count": 141
        }
      ]
    },
    {
      "cell_type": "code",
      "metadata": {
        "colab": {
          "base_uri": "https://localhost:8080/"
        },
        "id": "6lKCbnfV73zS",
        "outputId": "0a86226c-b649-4c20-e9ff-e7811ce39fef"
      },
      "source": [
        "result = []\n",
        "for predict in predictions:\n",
        "    if predict <= 0.5:\n",
        "        result.append('Hotel')\n",
        "    else:\n",
        "        result.append('AirBnB')\n",
        "\n",
        "result[0:10]"
      ],
      "execution_count": 142,
      "outputs": [
        {
          "output_type": "execute_result",
          "data": {
            "text/plain": [
              "['AirBnB',\n",
              " 'Hotel',\n",
              " 'AirBnB',\n",
              " 'Hotel',\n",
              " 'AirBnB',\n",
              " 'AirBnB',\n",
              " 'Hotel',\n",
              " 'Hotel',\n",
              " 'Hotel',\n",
              " 'Hotel']"
            ]
          },
          "metadata": {
            "tags": []
          },
          "execution_count": 142
        }
      ]
    },
    {
      "cell_type": "code",
      "metadata": {
        "colab": {
          "base_uri": "https://localhost:8080/",
          "height": 424
        },
        "id": "ihidDT1r8OlV",
        "outputId": "13c15a6c-3c03-40b1-f280-908ef0bf54e2"
      },
      "source": [
        "df_acomodacion['tipo_acomodacion'] = result\n",
        "df_acomodacion"
      ],
      "execution_count": 143,
      "outputs": [
        {
          "output_type": "execute_result",
          "data": {
            "text/html": [
              "<div>\n",
              "<style scoped>\n",
              "    .dataframe tbody tr th:only-of-type {\n",
              "        vertical-align: middle;\n",
              "    }\n",
              "\n",
              "    .dataframe tbody tr th {\n",
              "        vertical-align: top;\n",
              "    }\n",
              "\n",
              "    .dataframe thead th {\n",
              "        text-align: right;\n",
              "    }\n",
              "</style>\n",
              "<table border=\"1\" class=\"dataframe\">\n",
              "  <thead>\n",
              "    <tr style=\"text-align: right;\">\n",
              "      <th></th>\n",
              "      <th>duracion_estadia</th>\n",
              "      <th>genero</th>\n",
              "      <th>edad</th>\n",
              "      <th>niños</th>\n",
              "      <th>codigo_destino</th>\n",
              "      <th>tipo_acomodacion</th>\n",
              "      <th>AR</th>\n",
              "      <th>CO</th>\n",
              "      <th>ES</th>\n",
              "      <th>IT</th>\n",
              "      <th>NL</th>\n",
              "      <th>PE</th>\n",
              "      <th>UK</th>\n",
              "      <th>US</th>\n",
              "    </tr>\n",
              "  </thead>\n",
              "  <tbody>\n",
              "    <tr>\n",
              "      <th>0</th>\n",
              "      <td>2</td>\n",
              "      <td>1</td>\n",
              "      <td>38.0</td>\n",
              "      <td>0.0</td>\n",
              "      <td>US</td>\n",
              "      <td>AirBnB</td>\n",
              "      <td>0</td>\n",
              "      <td>0</td>\n",
              "      <td>0</td>\n",
              "      <td>0</td>\n",
              "      <td>0</td>\n",
              "      <td>0</td>\n",
              "      <td>0</td>\n",
              "      <td>1</td>\n",
              "    </tr>\n",
              "    <tr>\n",
              "      <th>1</th>\n",
              "      <td>6</td>\n",
              "      <td>0</td>\n",
              "      <td>37.0</td>\n",
              "      <td>0.0</td>\n",
              "      <td>ES</td>\n",
              "      <td>Hotel</td>\n",
              "      <td>0</td>\n",
              "      <td>0</td>\n",
              "      <td>1</td>\n",
              "      <td>0</td>\n",
              "      <td>0</td>\n",
              "      <td>0</td>\n",
              "      <td>0</td>\n",
              "      <td>0</td>\n",
              "    </tr>\n",
              "    <tr>\n",
              "      <th>2</th>\n",
              "      <td>1</td>\n",
              "      <td>0</td>\n",
              "      <td>37.0</td>\n",
              "      <td>1.0</td>\n",
              "      <td>ES</td>\n",
              "      <td>AirBnB</td>\n",
              "      <td>0</td>\n",
              "      <td>0</td>\n",
              "      <td>1</td>\n",
              "      <td>0</td>\n",
              "      <td>0</td>\n",
              "      <td>0</td>\n",
              "      <td>0</td>\n",
              "      <td>0</td>\n",
              "    </tr>\n",
              "    <tr>\n",
              "      <th>3</th>\n",
              "      <td>5</td>\n",
              "      <td>1</td>\n",
              "      <td>50.0</td>\n",
              "      <td>0.0</td>\n",
              "      <td>UK</td>\n",
              "      <td>Hotel</td>\n",
              "      <td>0</td>\n",
              "      <td>0</td>\n",
              "      <td>0</td>\n",
              "      <td>0</td>\n",
              "      <td>0</td>\n",
              "      <td>0</td>\n",
              "      <td>1</td>\n",
              "      <td>0</td>\n",
              "    </tr>\n",
              "    <tr>\n",
              "      <th>4</th>\n",
              "      <td>4</td>\n",
              "      <td>1</td>\n",
              "      <td>42.0</td>\n",
              "      <td>1.0</td>\n",
              "      <td>AR</td>\n",
              "      <td>AirBnB</td>\n",
              "      <td>1</td>\n",
              "      <td>0</td>\n",
              "      <td>0</td>\n",
              "      <td>0</td>\n",
              "      <td>0</td>\n",
              "      <td>0</td>\n",
              "      <td>0</td>\n",
              "      <td>0</td>\n",
              "    </tr>\n",
              "    <tr>\n",
              "      <th>...</th>\n",
              "      <td>...</td>\n",
              "      <td>...</td>\n",
              "      <td>...</td>\n",
              "      <td>...</td>\n",
              "      <td>...</td>\n",
              "      <td>...</td>\n",
              "      <td>...</td>\n",
              "      <td>...</td>\n",
              "      <td>...</td>\n",
              "      <td>...</td>\n",
              "      <td>...</td>\n",
              "      <td>...</td>\n",
              "      <td>...</td>\n",
              "      <td>...</td>\n",
              "    </tr>\n",
              "    <tr>\n",
              "      <th>4224</th>\n",
              "      <td>3</td>\n",
              "      <td>0</td>\n",
              "      <td>41.0</td>\n",
              "      <td>0.0</td>\n",
              "      <td>ES</td>\n",
              "      <td>Hotel</td>\n",
              "      <td>0</td>\n",
              "      <td>0</td>\n",
              "      <td>1</td>\n",
              "      <td>0</td>\n",
              "      <td>0</td>\n",
              "      <td>0</td>\n",
              "      <td>0</td>\n",
              "      <td>0</td>\n",
              "    </tr>\n",
              "    <tr>\n",
              "      <th>4225</th>\n",
              "      <td>4</td>\n",
              "      <td>1</td>\n",
              "      <td>35.0</td>\n",
              "      <td>1.0</td>\n",
              "      <td>NL</td>\n",
              "      <td>Hotel</td>\n",
              "      <td>0</td>\n",
              "      <td>0</td>\n",
              "      <td>0</td>\n",
              "      <td>0</td>\n",
              "      <td>1</td>\n",
              "      <td>0</td>\n",
              "      <td>0</td>\n",
              "      <td>0</td>\n",
              "    </tr>\n",
              "    <tr>\n",
              "      <th>4226</th>\n",
              "      <td>7</td>\n",
              "      <td>1</td>\n",
              "      <td>41.0</td>\n",
              "      <td>1.0</td>\n",
              "      <td>PE</td>\n",
              "      <td>AirBnB</td>\n",
              "      <td>0</td>\n",
              "      <td>0</td>\n",
              "      <td>0</td>\n",
              "      <td>0</td>\n",
              "      <td>0</td>\n",
              "      <td>1</td>\n",
              "      <td>0</td>\n",
              "      <td>0</td>\n",
              "    </tr>\n",
              "    <tr>\n",
              "      <th>4227</th>\n",
              "      <td>4</td>\n",
              "      <td>0</td>\n",
              "      <td>48.0</td>\n",
              "      <td>0.0</td>\n",
              "      <td>UK</td>\n",
              "      <td>AirBnB</td>\n",
              "      <td>0</td>\n",
              "      <td>0</td>\n",
              "      <td>0</td>\n",
              "      <td>0</td>\n",
              "      <td>0</td>\n",
              "      <td>0</td>\n",
              "      <td>1</td>\n",
              "      <td>0</td>\n",
              "    </tr>\n",
              "    <tr>\n",
              "      <th>4228</th>\n",
              "      <td>2</td>\n",
              "      <td>0</td>\n",
              "      <td>41.0</td>\n",
              "      <td>1.0</td>\n",
              "      <td>UK</td>\n",
              "      <td>AirBnB</td>\n",
              "      <td>0</td>\n",
              "      <td>0</td>\n",
              "      <td>0</td>\n",
              "      <td>0</td>\n",
              "      <td>0</td>\n",
              "      <td>0</td>\n",
              "      <td>1</td>\n",
              "      <td>0</td>\n",
              "    </tr>\n",
              "  </tbody>\n",
              "</table>\n",
              "<p>4229 rows × 14 columns</p>\n",
              "</div>"
            ],
            "text/plain": [
              "      duracion_estadia  genero  edad  niños codigo_destino  ... IT  NL  PE  UK  US\n",
              "0                    2       1  38.0    0.0             US  ...  0   0   0   0   1\n",
              "1                    6       0  37.0    0.0             ES  ...  0   0   0   0   0\n",
              "2                    1       0  37.0    1.0             ES  ...  0   0   0   0   0\n",
              "3                    5       1  50.0    0.0             UK  ...  0   0   0   1   0\n",
              "4                    4       1  42.0    1.0             AR  ...  0   0   0   0   0\n",
              "...                ...     ...   ...    ...            ...  ... ..  ..  ..  ..  ..\n",
              "4224                 3       0  41.0    0.0             ES  ...  0   0   0   0   0\n",
              "4225                 4       1  35.0    1.0             NL  ...  0   1   0   0   0\n",
              "4226                 7       1  41.0    1.0             PE  ...  0   0   1   0   0\n",
              "4227                 4       0  48.0    0.0             UK  ...  0   0   0   1   0\n",
              "4228                 2       0  41.0    1.0             UK  ...  0   0   0   1   0\n",
              "\n",
              "[4229 rows x 14 columns]"
            ]
          },
          "metadata": {
            "tags": []
          },
          "execution_count": 143
        }
      ]
    },
    {
      "cell_type": "code",
      "metadata": {
        "colab": {
          "base_uri": "https://localhost:8080/",
          "height": 424
        },
        "id": "6mCpdFh5BzdP",
        "outputId": "0c14f05f-50d9-444b-e541-8171d3208a02"
      },
      "source": [
        "feature_cols = ['duracion_estadia', \t'genero', \t'edad', \t'niños', \t'codigo_destino', \t'tipo_acomodacion']\n",
        "df_acomodacion = df_acomodacion[feature_cols]\n",
        "df_acomodacion"
      ],
      "execution_count": 144,
      "outputs": [
        {
          "output_type": "execute_result",
          "data": {
            "text/html": [
              "<div>\n",
              "<style scoped>\n",
              "    .dataframe tbody tr th:only-of-type {\n",
              "        vertical-align: middle;\n",
              "    }\n",
              "\n",
              "    .dataframe tbody tr th {\n",
              "        vertical-align: top;\n",
              "    }\n",
              "\n",
              "    .dataframe thead th {\n",
              "        text-align: right;\n",
              "    }\n",
              "</style>\n",
              "<table border=\"1\" class=\"dataframe\">\n",
              "  <thead>\n",
              "    <tr style=\"text-align: right;\">\n",
              "      <th></th>\n",
              "      <th>duracion_estadia</th>\n",
              "      <th>genero</th>\n",
              "      <th>edad</th>\n",
              "      <th>niños</th>\n",
              "      <th>codigo_destino</th>\n",
              "      <th>tipo_acomodacion</th>\n",
              "    </tr>\n",
              "  </thead>\n",
              "  <tbody>\n",
              "    <tr>\n",
              "      <th>0</th>\n",
              "      <td>2</td>\n",
              "      <td>1</td>\n",
              "      <td>38.0</td>\n",
              "      <td>0.0</td>\n",
              "      <td>US</td>\n",
              "      <td>AirBnB</td>\n",
              "    </tr>\n",
              "    <tr>\n",
              "      <th>1</th>\n",
              "      <td>6</td>\n",
              "      <td>0</td>\n",
              "      <td>37.0</td>\n",
              "      <td>0.0</td>\n",
              "      <td>ES</td>\n",
              "      <td>Hotel</td>\n",
              "    </tr>\n",
              "    <tr>\n",
              "      <th>2</th>\n",
              "      <td>1</td>\n",
              "      <td>0</td>\n",
              "      <td>37.0</td>\n",
              "      <td>1.0</td>\n",
              "      <td>ES</td>\n",
              "      <td>AirBnB</td>\n",
              "    </tr>\n",
              "    <tr>\n",
              "      <th>3</th>\n",
              "      <td>5</td>\n",
              "      <td>1</td>\n",
              "      <td>50.0</td>\n",
              "      <td>0.0</td>\n",
              "      <td>UK</td>\n",
              "      <td>Hotel</td>\n",
              "    </tr>\n",
              "    <tr>\n",
              "      <th>4</th>\n",
              "      <td>4</td>\n",
              "      <td>1</td>\n",
              "      <td>42.0</td>\n",
              "      <td>1.0</td>\n",
              "      <td>AR</td>\n",
              "      <td>AirBnB</td>\n",
              "    </tr>\n",
              "    <tr>\n",
              "      <th>...</th>\n",
              "      <td>...</td>\n",
              "      <td>...</td>\n",
              "      <td>...</td>\n",
              "      <td>...</td>\n",
              "      <td>...</td>\n",
              "      <td>...</td>\n",
              "    </tr>\n",
              "    <tr>\n",
              "      <th>4224</th>\n",
              "      <td>3</td>\n",
              "      <td>0</td>\n",
              "      <td>41.0</td>\n",
              "      <td>0.0</td>\n",
              "      <td>ES</td>\n",
              "      <td>Hotel</td>\n",
              "    </tr>\n",
              "    <tr>\n",
              "      <th>4225</th>\n",
              "      <td>4</td>\n",
              "      <td>1</td>\n",
              "      <td>35.0</td>\n",
              "      <td>1.0</td>\n",
              "      <td>NL</td>\n",
              "      <td>Hotel</td>\n",
              "    </tr>\n",
              "    <tr>\n",
              "      <th>4226</th>\n",
              "      <td>7</td>\n",
              "      <td>1</td>\n",
              "      <td>41.0</td>\n",
              "      <td>1.0</td>\n",
              "      <td>PE</td>\n",
              "      <td>AirBnB</td>\n",
              "    </tr>\n",
              "    <tr>\n",
              "      <th>4227</th>\n",
              "      <td>4</td>\n",
              "      <td>0</td>\n",
              "      <td>48.0</td>\n",
              "      <td>0.0</td>\n",
              "      <td>UK</td>\n",
              "      <td>AirBnB</td>\n",
              "    </tr>\n",
              "    <tr>\n",
              "      <th>4228</th>\n",
              "      <td>2</td>\n",
              "      <td>0</td>\n",
              "      <td>41.0</td>\n",
              "      <td>1.0</td>\n",
              "      <td>UK</td>\n",
              "      <td>AirBnB</td>\n",
              "    </tr>\n",
              "  </tbody>\n",
              "</table>\n",
              "<p>4229 rows × 6 columns</p>\n",
              "</div>"
            ],
            "text/plain": [
              "      duracion_estadia  genero  edad  niños codigo_destino tipo_acomodacion\n",
              "0                    2       1  38.0    0.0             US           AirBnB\n",
              "1                    6       0  37.0    0.0             ES            Hotel\n",
              "2                    1       0  37.0    1.0             ES           AirBnB\n",
              "3                    5       1  50.0    0.0             UK            Hotel\n",
              "4                    4       1  42.0    1.0             AR           AirBnB\n",
              "...                ...     ...   ...    ...            ...              ...\n",
              "4224                 3       0  41.0    0.0             ES            Hotel\n",
              "4225                 4       1  35.0    1.0             NL            Hotel\n",
              "4226                 7       1  41.0    1.0             PE           AirBnB\n",
              "4227                 4       0  48.0    0.0             UK           AirBnB\n",
              "4228                 2       0  41.0    1.0             UK           AirBnB\n",
              "\n",
              "[4229 rows x 6 columns]"
            ]
          },
          "metadata": {
            "tags": []
          },
          "execution_count": 144
        }
      ]
    },
    {
      "cell_type": "code",
      "metadata": {
        "colab": {
          "base_uri": "https://localhost:8080/",
          "height": 534
        },
        "id": "hnhf7wfKCKF6",
        "outputId": "5084f040-6f01-4832-8334-7514dcd94c52"
      },
      "source": [
        "df_acomodacion['genero'] = df_acomodacion['genero'].apply(lambda x: 'M' if x == 0 else 'F')\n",
        "df_acomodacion"
      ],
      "execution_count": 145,
      "outputs": [
        {
          "output_type": "stream",
          "text": [
            "/usr/local/lib/python3.7/dist-packages/ipykernel_launcher.py:1: SettingWithCopyWarning: \n",
            "A value is trying to be set on a copy of a slice from a DataFrame.\n",
            "Try using .loc[row_indexer,col_indexer] = value instead\n",
            "\n",
            "See the caveats in the documentation: https://pandas.pydata.org/pandas-docs/stable/user_guide/indexing.html#returning-a-view-versus-a-copy\n",
            "  \"\"\"Entry point for launching an IPython kernel.\n"
          ],
          "name": "stderr"
        },
        {
          "output_type": "execute_result",
          "data": {
            "text/html": [
              "<div>\n",
              "<style scoped>\n",
              "    .dataframe tbody tr th:only-of-type {\n",
              "        vertical-align: middle;\n",
              "    }\n",
              "\n",
              "    .dataframe tbody tr th {\n",
              "        vertical-align: top;\n",
              "    }\n",
              "\n",
              "    .dataframe thead th {\n",
              "        text-align: right;\n",
              "    }\n",
              "</style>\n",
              "<table border=\"1\" class=\"dataframe\">\n",
              "  <thead>\n",
              "    <tr style=\"text-align: right;\">\n",
              "      <th></th>\n",
              "      <th>duracion_estadia</th>\n",
              "      <th>genero</th>\n",
              "      <th>edad</th>\n",
              "      <th>niños</th>\n",
              "      <th>codigo_destino</th>\n",
              "      <th>tipo_acomodacion</th>\n",
              "    </tr>\n",
              "  </thead>\n",
              "  <tbody>\n",
              "    <tr>\n",
              "      <th>0</th>\n",
              "      <td>2</td>\n",
              "      <td>F</td>\n",
              "      <td>38.0</td>\n",
              "      <td>0.0</td>\n",
              "      <td>US</td>\n",
              "      <td>AirBnB</td>\n",
              "    </tr>\n",
              "    <tr>\n",
              "      <th>1</th>\n",
              "      <td>6</td>\n",
              "      <td>M</td>\n",
              "      <td>37.0</td>\n",
              "      <td>0.0</td>\n",
              "      <td>ES</td>\n",
              "      <td>Hotel</td>\n",
              "    </tr>\n",
              "    <tr>\n",
              "      <th>2</th>\n",
              "      <td>1</td>\n",
              "      <td>M</td>\n",
              "      <td>37.0</td>\n",
              "      <td>1.0</td>\n",
              "      <td>ES</td>\n",
              "      <td>AirBnB</td>\n",
              "    </tr>\n",
              "    <tr>\n",
              "      <th>3</th>\n",
              "      <td>5</td>\n",
              "      <td>F</td>\n",
              "      <td>50.0</td>\n",
              "      <td>0.0</td>\n",
              "      <td>UK</td>\n",
              "      <td>Hotel</td>\n",
              "    </tr>\n",
              "    <tr>\n",
              "      <th>4</th>\n",
              "      <td>4</td>\n",
              "      <td>F</td>\n",
              "      <td>42.0</td>\n",
              "      <td>1.0</td>\n",
              "      <td>AR</td>\n",
              "      <td>AirBnB</td>\n",
              "    </tr>\n",
              "    <tr>\n",
              "      <th>...</th>\n",
              "      <td>...</td>\n",
              "      <td>...</td>\n",
              "      <td>...</td>\n",
              "      <td>...</td>\n",
              "      <td>...</td>\n",
              "      <td>...</td>\n",
              "    </tr>\n",
              "    <tr>\n",
              "      <th>4224</th>\n",
              "      <td>3</td>\n",
              "      <td>M</td>\n",
              "      <td>41.0</td>\n",
              "      <td>0.0</td>\n",
              "      <td>ES</td>\n",
              "      <td>Hotel</td>\n",
              "    </tr>\n",
              "    <tr>\n",
              "      <th>4225</th>\n",
              "      <td>4</td>\n",
              "      <td>F</td>\n",
              "      <td>35.0</td>\n",
              "      <td>1.0</td>\n",
              "      <td>NL</td>\n",
              "      <td>Hotel</td>\n",
              "    </tr>\n",
              "    <tr>\n",
              "      <th>4226</th>\n",
              "      <td>7</td>\n",
              "      <td>F</td>\n",
              "      <td>41.0</td>\n",
              "      <td>1.0</td>\n",
              "      <td>PE</td>\n",
              "      <td>AirBnB</td>\n",
              "    </tr>\n",
              "    <tr>\n",
              "      <th>4227</th>\n",
              "      <td>4</td>\n",
              "      <td>M</td>\n",
              "      <td>48.0</td>\n",
              "      <td>0.0</td>\n",
              "      <td>UK</td>\n",
              "      <td>AirBnB</td>\n",
              "    </tr>\n",
              "    <tr>\n",
              "      <th>4228</th>\n",
              "      <td>2</td>\n",
              "      <td>M</td>\n",
              "      <td>41.0</td>\n",
              "      <td>1.0</td>\n",
              "      <td>UK</td>\n",
              "      <td>AirBnB</td>\n",
              "    </tr>\n",
              "  </tbody>\n",
              "</table>\n",
              "<p>4229 rows × 6 columns</p>\n",
              "</div>"
            ],
            "text/plain": [
              "      duracion_estadia genero  edad  niños codigo_destino tipo_acomodacion\n",
              "0                    2      F  38.0    0.0             US           AirBnB\n",
              "1                    6      M  37.0    0.0             ES            Hotel\n",
              "2                    1      M  37.0    1.0             ES           AirBnB\n",
              "3                    5      F  50.0    0.0             UK            Hotel\n",
              "4                    4      F  42.0    1.0             AR           AirBnB\n",
              "...                ...    ...   ...    ...            ...              ...\n",
              "4224                 3      M  41.0    0.0             ES            Hotel\n",
              "4225                 4      F  35.0    1.0             NL            Hotel\n",
              "4226                 7      F  41.0    1.0             PE           AirBnB\n",
              "4227                 4      M  48.0    0.0             UK           AirBnB\n",
              "4228                 2      M  41.0    1.0             UK           AirBnB\n",
              "\n",
              "[4229 rows x 6 columns]"
            ]
          },
          "metadata": {
            "tags": []
          },
          "execution_count": 145
        }
      ]
    },
    {
      "cell_type": "code",
      "metadata": {
        "id": "oblkkteyC8Zs"
      },
      "source": [
        "df_acomodacion.to_csv('prediction_Tipo_Acomodacion.csv')"
      ],
      "execution_count": 146,
      "outputs": []
    },
    {
      "cell_type": "markdown",
      "metadata": {
        "id": "ua6CVYLaQ8Iv"
      },
      "source": [
        "# **Deployment:** \n",
        "Integrar la solución de DS en una aplicación web, usando el framework de elección.\n",
        "\n",
        " *El frontend no es parte de la evaluación del proyecto y puede ser tan básica como sea necesario.*"
      ]
    },
    {
      "cell_type": "code",
      "metadata": {
        "id": "LS47OlBdRA4k"
      },
      "source": [
        "def predict(data):\n",
        "    \"\"\"\n",
        "    The data that we need to enter into this function has to be on this same order\n",
        "    days_of_stay, genre, age, kids, destination code.\n",
        "    This function returns a string, and it determines if the accomodation type is either Hotel or AirBnB.\n",
        "    \"\"\"\n",
        "    model = load_model('prediction_model.h5', compile=True)\n",
        "\n",
        "    country_list = ['AR', 'CO', 'ES', 'IT', 'NL', 'PE', 'UK', 'US']\n",
        "    array = []\n",
        "    for value in data:\n",
        "        if value != data[-1]:\n",
        "            array.append(int(value))\n",
        "        else:\n",
        "            for country in country_list:\n",
        "                if data[-1] != country:\n",
        "                    array.append(0)\n",
        "                else:\n",
        "                    array.append(1)\n",
        "    \n",
        "    result = model.predict(pd.DataFrame(array).T)\n",
        "    \n",
        "    if result <= 0.5:\n",
        "        return 'Hotel'\n",
        "    else:\n",
        "        return 'AirBnB'"
      ],
      "execution_count": 154,
      "outputs": []
    },
    {
      "cell_type": "code",
      "metadata": {
        "colab": {
          "base_uri": "https://localhost:8080/",
          "height": 36
        },
        "id": "OXV-XBwf1TCK",
        "outputId": "f53aea96-21cd-46ad-8906-8c4f0561159d"
      },
      "source": [
        "predict([2, 1, 29, 0, 'CO'])"
      ],
      "execution_count": 156,
      "outputs": [
        {
          "output_type": "execute_result",
          "data": {
            "application/vnd.google.colaboratory.intrinsic+json": {
              "type": "string"
            },
            "text/plain": [
              "'AirBnB'"
            ]
          },
          "metadata": {
            "tags": []
          },
          "execution_count": 156
        }
      ]
    }
  ]
}